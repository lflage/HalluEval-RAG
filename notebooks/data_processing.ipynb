{
 "cells": [
  {
   "cell_type": "markdown",
   "metadata": {},
   "source": [
    "# No rag Output process"
   ]
  },
  {
   "cell_type": "code",
   "execution_count": 6,
   "metadata": {},
   "outputs": [],
   "source": [
    "import json\n",
    "import os, re"
   ]
  },
  {
   "cell_type": "code",
   "execution_count": 23,
   "metadata": {},
   "outputs": [],
   "source": [
    "query = r'^Write me a bio of: .+\\n\\n'\n",
    "list_new_out = []\n",
    "with open(\"../results/bio/bio_writing_no_rag_post.jsonl\", \"w\") as out_f:\n",
    "    with open(\"../results/bio/bio_writing_no_rag.jsonl\", \"r\") as f:\n",
    "        for line in f.readlines():\n",
    "            out = json.loads(line)\n",
    "            json.dump({\"entity\": out['entity'],\n",
    "                        \"generated_text\" :re.split(query,out['generated_text'])[1]}, out_f)\n",
    "            out_f.write('\\n')\n",
    "            \n"
   ]
  },
  {
   "cell_type": "code",
   "execution_count": 24,
   "metadata": {},
   "outputs": [
    {
     "name": "stdout",
     "output_type": "stream",
     "text": [
      "{'entity': 'Ludwig van Beethoven', 'generated_text': 'Ludwig van Beethoven (1770-1827) was a German composer and pianist who is widely considered one of the most important figures in the history of classical music. Born in Bonn, Germany, Beethoven began studying music at a young age and quickly demonstrated a prodigious talent. He went on to study with some of the leading composers of his day, including Joseph Haydn and Wolfgang Amadeus Mozart.\\n\\nDespite his early success as a composer and performer, Beethoven struggled with hearing loss throughout his life. This did not stop him from continuing to compose, however, and he went on to create some of his most famous works, including his symphonies, piano sonatas, and string quartets. Beethoven\\'s music was revolutionary for its time, and it helped to pave the way for the Romantic movement in music.\\n\\nBeethoven\\'s personal life was also marked by controversy and tragedy. He was known to be fiercely independent and had difficulty forming close relationships, which often led to conflicts with those around him. He was also known to be a heavy drinker and smoker, which contributed to his declining health in his later years. Despite these challenges, Beethoven continued to compose until the end of his life, leaving behind a legacy that continues to inspire and influence musicians to this day.\\n\\nSome of Beethoven\\'s most famous works include:\\n\\n* Symphony No. 5 in C minor: This iconic work is one of Beethoven\\'s most recognizable and beloved compositions. It features a famous opening motif that has been used in countless films, TV shows, and other works of art.\\n* Symphony No. 9 in D minor: This massive work is considered one of Beethoven\\'s greatest achievements. It features a chorus and vocal soloists in the final movement, which sets the text of Friedrich Schiller\\'s \"Ode to Joy\" to music.\\n* \"Moonlight Sonata\": This piano sonata is known for its haunting and introspective melodies, and it is considered one of Beethoven\\'s most technically challenging works for the piano.\\n* \"Für Elise\": This piano piece is one of Beethoven\\'s most popular and recognizable works, and it is often considered a staple of classical music.\\n\\nThroughout his life, Beethoven was recognized as a brilliant and innovative composer, and he was awarded numerous honors and accolades for his work. Despite the challenges he faced, he continued to compose until the end of his life, leaving behind a legacy that continues to inspire and influence musicians to this day.'}\n",
      "{'entity': 'Abraham Lincoln', 'generated_text': 'Abraham Lincoln was the 16th President of the United States, serving from 1861 until his assassination in 1865. He is widely regarded as one of the greatest leaders in American history.\\n\\nLincoln was born on February 12, 1809, in a log cabin in Kentucky. He grew up in poverty and had little formal education, but he was able to teach himself law and eventually became a successful lawyer.\\n\\nLincoln entered politics in the 1830s, serving in the Illinois state legislature and later in the U.S. House of Representatives. In 1858, he ran for the U.S. Senate against Stephen Douglas, a prominent Democrat, and although Lincoln lost that election, his debates with Douglas brought him national attention.\\n\\nIn 1860, Lincoln was elected as the 16th President of the United States, with a platform of stopping the spread of slavery. He was the first Republican to be elected President, and his victory led to the secession of several Southern states and the start of the Civil War.\\n\\nAs President, Lincoln faced the enormous challenge of preserving the Union and ending slavery. He issued the Emancipation Proclamation in 1863, which declared all slaves in Confederate territory to be free. He also signed the 13th Amendment to the Constitution, which abolished slavery throughout the United States.\\n\\nLincoln was a skilled leader and orator, and he is remembered for his eloquence and his commitment to freedom and equality. He is often quoted as saying, \"Government of the people, by the people, for the people, shall not perish from the earth.\"\\n\\nTragically, Lincoln\\'s life was cut short by an assassin\\'s bullet. On April 14, 1865, he was shot by John Wilkes Booth while attending a play at Ford\\'s Theatre in Washington, D.C. Lincoln died the next morning, and his death was mourned by the nation.\\n\\nDespite his short time in office, Lincoln\\'s legacy has endured, and he remains one of the most revered figures in American history. His commitment to freedom, equality, and the Union has inspired generations of Americans, and his legacy continues to shape the country\\'s political and social landscape.'}\n",
      "{'entity': 'Luiz Inácio Lula da Silva', 'generated_text': \"Luiz Inácio Lula da Silva, known simply as Lula, is a Brazilian politician and former President of Brazil who served from 2003 to 2011. Born on October 27, 1945, in the state of Pernambuco, Brazil, Lula grew up in poverty and was forced to drop out of school in the fifth grade to work in a shoe factory to support his family. Despite these challenges, Lula became involved in the labor movement and eventually rose to become the leader of the Brazilian Workers' Party (PT).\\n\\nLula's political career began in the 1970s, when he became involved in the resistance against the military dictatorship that had taken power in Brazil in 1964. He was arrested and tortured several times for his political activities, but continued to fight for workers' rights and social justice. In 1980, he was elected to the Brazilian Congress, where he became a vocal critic of the military regime and a champion of workers' rights.\\n\\nIn 1994, Lula was elected as the first working-class president of Brazil, defeating the incumbent president, Fernando Collor de Mello. During his presidency, Lula implemented a range of policies aimed at reducing poverty and inequality, including the Bolsa Família program, which provided cash transfers to poor families who kept their children in school, and the Fome Zero program, which aimed to eliminate hunger in Brazil. He also increased investment in healthcare and education, and implemented policies to promote economic growth and reduce inflation.\\n\\nLula was re-elected in 2006, defeating his former chief of staff, José Serra. During his second term, he continued to focus on reducing poverty and inequality, and also pursued a more assertive foreign policy, including the establishment of diplomatic relations with Cuba and the expansion of Brazil's role in international affairs.\\n\\nAfter leaving office in 2011, Lula was barred from running for political office due to a corruption conviction. However, in 2017, his conviction was upheld by an appeals court, and he was sentenced to 12 years in prison. Lula has maintained his innocence and has appealed the conviction, but he remains in prison. Despite his legal troubles, Lula remains a popular figure in Brazil and is widely regarded as one of the country's most important political leaders of the past century.\"}\n",
      "{'entity': 'Olaf Scholz', 'generated_text': \"Olaf Scholz is a German politician who has served as the Federal Minister of Finance since 2018. He is a member of the Social Democratic Party of Germany (SPD) and has been a member of the German Bundestag since 2005.\\n\\nBorn on November 14, 1958, in Osnabrück, Germany, Scholz studied law at the University of Hamburg and later worked as a lawyer in Hamburg before entering politics. He began his political career in the 1980s, serving as a member of the Hamburg city council and later as the mayor of Hamburg from 2011 to 2018.\\n\\nScholz was appointed as the Federal Minister of Finance in 2018, following the formation of the grand coalition government between the SPD, Christian Democratic Union (CDU), and Christian Social Union (CSU). As finance minister, he has been instrumental in shaping Germany's economic policy, including implementing measures to address the COVID-19 pandemic and promoting investment in renewable energy.\\n\\nScholz is known for his pragmatic and fiscally responsible approach to politics, and has been recognized for his expertise in economic policy. He has also been a vocal advocate for social justice and has called for greater investment in education and social welfare programs.\\n\\nIn addition to his work in politics, Scholz is also a trained chef and enjoys cooking in his free time. He is married to Britta Ernst and has two children.\"}\n"
     ]
    }
   ],
   "source": [
    "with open(\"../results/bio/bio_writing_no_rag_post.jsonl\", \"r\") as f:\n",
    "        for line in f.readlines():\n",
    "            out = json.loads(line)\n",
    "            print(out)"
   ]
  },
  {
   "cell_type": "markdown",
   "metadata": {},
   "source": [
    "# Generating a HF dataset from the FactScore Bio entities"
   ]
  },
  {
   "cell_type": "code",
   "execution_count": 2,
   "metadata": {},
   "outputs": [],
   "source": [
    "import json\n",
    "from datasets import load_dataset"
   ]
  },
  {
   "cell_type": "code",
   "execution_count": 4,
   "metadata": {},
   "outputs": [],
   "source": [
    "with open(\"./prompt_entities.txt\", 'r') as f_in:\n",
    "    with open(\"./prompt_entities.jsonl\", 'w') as f_out:\n",
    "        for line in f_in.readlines():\n",
    "            line = line.strip()\n",
    "            cur_dict = {\"input\": \"Write me a bio of: {}\".format(line)}\n",
    "            json.dump(cur_dict,f_out)\n",
    "            f_out.write(\"\\n\")\n",
    "\n",
    "ds = load_dataset('json', data_files=[\"./prompt_entities.jsonl\"]"
   ]
  },
  {
   "cell_type": "code",
   "execution_count": 7,
   "metadata": {},
   "outputs": [
    {
     "name": "stdout",
     "output_type": "stream",
     "text": [
      "Downloading and preparing dataset json/default to /home/lucas_dfki/.cache/huggingface/datasets/json/default-2ae1b026fdf5ee95/0.0.0/e347ab1c932092252e717ff3f949105a4dd28b27e842dd53157d2f72e276c2e4...\n"
     ]
    },
    {
     "data": {
      "application/vnd.jupyter.widget-view+json": {
       "model_id": "6b08bb597bd84a42b1f3b22435f90109",
       "version_major": 2,
       "version_minor": 0
      },
      "text/plain": [
       "Downloading data files:   0%|          | 0/1 [00:00<?, ?it/s]"
      ]
     },
     "metadata": {},
     "output_type": "display_data"
    },
    {
     "data": {
      "application/vnd.jupyter.widget-view+json": {
       "model_id": "d7474bc4976041a486628159dd0bb1b4",
       "version_major": 2,
       "version_minor": 0
      },
      "text/plain": [
       "Extracting data files:   0%|          | 0/1 [00:00<?, ?it/s]"
      ]
     },
     "metadata": {},
     "output_type": "display_data"
    },
    {
     "data": {
      "application/vnd.jupyter.widget-view+json": {
       "model_id": "499cbea1203d4c4eb9cc4c7d1396c161",
       "version_major": 2,
       "version_minor": 0
      },
      "text/plain": [
       "Generating train split: 0 examples [00:00, ? examples/s]"
      ]
     },
     "metadata": {},
     "output_type": "display_data"
    },
    {
     "name": "stdout",
     "output_type": "stream",
     "text": [
      "Dataset json downloaded and prepared to /home/lucas_dfki/.cache/huggingface/datasets/json/default-2ae1b026fdf5ee95/0.0.0/e347ab1c932092252e717ff3f949105a4dd28b27e842dd53157d2f72e276c2e4. Subsequent calls will reuse this data.\n"
     ]
    },
    {
     "data": {
      "application/vnd.jupyter.widget-view+json": {
       "model_id": "8e14b23230e74d83989653b2c159d37c",
       "version_major": 2,
       "version_minor": 0
      },
      "text/plain": [
       "  0%|          | 0/1 [00:00<?, ?it/s]"
      ]
     },
     "metadata": {},
     "output_type": "display_data"
    }
   ],
   "source": [
    "from datasets import load_dataset\n",
    "\n"
   ]
  },
  {
   "cell_type": "markdown",
   "metadata": {},
   "source": [
    "# Exploring The Generations\n",
    "## Non-Rag Llama2-Chat"
   ]
  },
  {
   "cell_type": "code",
   "execution_count": 9,
   "metadata": {},
   "outputs": [],
   "source": [
    "import json\n",
    "from pprint import pprint\n",
    "from IPython.display import clear_output"
   ]
  },
  {
   "cell_type": "code",
   "execution_count": 10,
   "metadata": {},
   "outputs": [
    {
     "name": "stdout",
     "output_type": "stream",
     "text": [
      "{'freq', 'very freq', 'medium', 'rare', 'very rare'}\n",
      "n v_rare: 100\n",
      "n v_freq: 100\n"
     ]
    }
   ],
   "source": [
    "very_rare = []\n",
    "very_freq = []\n",
    "rarity_set = set()\n",
    "\n",
    "\n",
    "with open(\"../results/bio/results_llama2Chat_bio_prompts_ctxs.jsonl\", 'r') as f:\n",
    "    for line in f.readlines():\n",
    "        dct = json.loads(line)\n",
    "        if \"very rare\" in dct['cat']:\n",
    "            very_rare.append(dct)\n",
    "        if \"very freq\" in dct['cat']:\n",
    "            very_freq.append(dct)          \n",
    "        rarity_set.add(dct['cat'][0])\n",
    "\n",
    "\n",
    "print(rarity_set)\n",
    "print(\"n v_rare: {}\".format(len(very_rare)))\n",
    "print(\"n v_freq: {}\".format(len(very_rare)))"
   ]
  },
  {
   "cell_type": "code",
   "execution_count": 11,
   "metadata": {},
   "outputs": [
    {
     "name": "stdout",
     "output_type": "stream",
     "text": [
      "'Sun Wenguang'\n",
      "('  Sun Wenguang (孙文光, born 1950) is a prominent Chinese dissident and human '\n",
      " 'rights activist. He is known for his advocacy of democracy and civil rights '\n",
      " 'in China, and has been imprisoned multiple times for his activism.\\n'\n",
      " '\\n'\n",
      " 'Sun was born in the city of Changsha, Hunan Province, China. He studied at '\n",
      " 'the Central Party School in Beijing, but was expelled in 1979 for his '\n",
      " 'political views. He then worked as a farmer and a teacher, but was '\n",
      " 'constantly harassed and persecuted by the authorities for his activism.\\n'\n",
      " '\\n'\n",
      " 'In 1989, Sun was one of the leaders of the Tiananmen Square protests, which '\n",
      " 'called for political reform and an end to corruption in China. After the '\n",
      " 'crackdown on the protests, Sun was arrested and sentenced to 16 years in '\n",
      " 'prison. He was released in 1995, but was immediately re-arrested and '\n",
      " 'sentenced to another 10 years in prison for \"inciting subversion of state '\n",
      " 'power.\"\\n'\n",
      " '\\n'\n",
      " 'Sun was released from prison in 2003, but was placed under house arrest and '\n",
      " 'his movements were restricted. Despite this, he continued to speak out '\n",
      " \"against the Chinese government's human rights abuses and to advocate for \"\n",
      " 'democracy and civil rights.\\n'\n",
      " '\\n'\n",
      " 'In 2011, Sun was awarded the Ramon Magsaysay Award for his \"unwavering '\n",
      " 'commitment to the advancement of democratic rights and freedoms in China.\" '\n",
      " 'He was also awarded the Nobel Peace Prize in 2010, along with other Chinese '\n",
      " 'dissidents, but was unable to accept the award due to restrictions on his '\n",
      " 'travel.\\n'\n",
      " '\\n'\n",
      " \"Sun's activism has been met with harsh repression from the Chinese \"\n",
      " 'government, but he remains a powerful symbol of resistance against '\n",
      " 'authoritarianism and oppression. Despite his advanced age, he continues to '\n",
      " 'speak out and to advocate for human rights and democracy in China.')\n"
     ]
    }
   ],
   "source": [
    "# View rare outputs\n",
    "\n",
    "for line in very_rare:\n",
    "    # print(line.keys())\n",
    "    # break\n",
    "    clear_output()\n",
    "    pprint(line['topic'])\n",
    "    pprint(line['output'])\n",
    "#    a = input(\"for next\")\n",
    "#    if a == \"x\":\n",
    "#        break\n",
    "#    else:\n",
    "#        continue\n"
   ]
  },
  {
   "cell_type": "code",
   "execution_count": 12,
   "metadata": {},
   "outputs": [
    {
     "name": "stdout",
     "output_type": "stream",
     "text": [
      "'Nick Kyrgios'\n",
      "('  Nick Kyrgios is a professional tennis player from Australia, born on April '\n",
      " '27, 1995, in Canberra, Australia. Here is a brief bio of the talented '\n",
      " 'athlete:\\n'\n",
      " '\\n'\n",
      " 'Early Life and Career:\\n'\n",
      " 'Nick Kyrgios was born to a Greek Cypriot father, Giorgos Kyrgios, and an '\n",
      " 'Australian mother, Norlaila Kyrgios. He began playing tennis at a young age '\n",
      " 'and quickly showed promise, winning the Australian Junior Open in 2011. '\n",
      " 'Kyrgios turned professional in 2012 and made his ATP World Tour debut at the '\n",
      " 'age of 17.\\n'\n",
      " '\\n'\n",
      " 'Rise to Prominence:\\n'\n",
      " 'Kyrgios quickly gained attention for his powerful serve and aggressive '\n",
      " 'playing style, which earned him the nickname \"The Kid.\" He broke into the '\n",
      " 'top 100 rankings in 2013 and reached the fourth round of Wimbledon that same '\n",
      " 'year. In 2014, Kyrgios reached the quarterfinals of Wimbledon, defeating top '\n",
      " 'players such as Rafael Nadal and Andy Murray along the way.\\n'\n",
      " '\\n'\n",
      " 'Controversies and Injuries:\\n'\n",
      " 'Despite his success on the court, Kyrgios has been involved in several '\n",
      " 'controversies throughout his career. He has been penalized for '\n",
      " 'unsportsmanlike conduct, including a famous incident in which he confronted '\n",
      " 'a fan who had been heckling him during a match. Kyrgios has also struggled '\n",
      " 'with injuries, including a hip injury that kept him out of action for '\n",
      " 'several months in 2018.\\n'\n",
      " '\\n'\n",
      " 'Personal Life:\\n'\n",
      " 'Kyrgios is known for his outspoken personality and has been involved in '\n",
      " 'several high-profile feuds with other players, including Nadal and Murray. '\n",
      " 'He has also been open about his struggles with mental health and has used '\n",
      " 'his platform to raise awareness for mental health issues. Off the court, '\n",
      " 'Kyrgios is a fan of hip-hop music and has collaborated with several artists, '\n",
      " 'including Drake.\\n'\n",
      " '\\n'\n",
      " 'Achievements and Awards:\\n'\n",
      " 'Kyrgios has won several titles on the ATP World Tour, including the 2015 ATP '\n",
      " 'Most Improved Player award. He has also represented Australia in several '\n",
      " 'Davis Cup competitions, helping the team win the title in 2015. In 2019, '\n",
      " 'Kyrgios reached the Wimbledon final, where he lost to Rafael Nadal.\\n'\n",
      " '\\n'\n",
      " 'Overall, Nick Kyrgios is a talented and controversial tennis player who has '\n",
      " 'made a significant impact on the sport. Despite his injuries and '\n",
      " 'controversies, Kyrgios continues to be one of the most exciting and dynamic '\n",
      " 'players in the game today.')\n"
     ]
    }
   ],
   "source": [
    "# View very freq outputs\n",
    "\n",
    "for line in very_freq:\n",
    "    # print(line.keys())\n",
    "    # break\n",
    "    clear_output()\n",
    "    pprint(line['topic'])\n",
    "    pprint(line['output'])\n",
    "#    if a == \"x\":\n",
    "#        break\n",
    "#    else:\n",
    "#        continue\n"
   ]
  },
  {
   "cell_type": "code",
   "execution_count": 21,
   "metadata": {},
   "outputs": [],
   "source": [
    "# Saving a subset of 25 samples from the 'very rare' and 'very freq' topics each\n",
    "\n",
    "with open (\"../results/bio/slice_results_llama2Chat_bio_prompts_ctxs.jsonl\", \"w\") as f_out:\n",
    "    for sample in very_rare[:25]:\n",
    "        json.dump(sample,f_out)\n",
    "        f_out.write(\"\\n\")\n",
    "    for sample in very_freq[:25]:\n",
    "        json.dump(sample,f_out)\n",
    "        f_out.write(\"\\n\")\n",
    " "
   ]
  },
  {
   "cell_type": "markdown",
   "metadata": {},
   "source": [
    "## With RAG Llama2-Chat7B\n"
   ]
  },
  {
   "cell_type": "code",
   "execution_count": 14,
   "metadata": {},
   "outputs": [],
   "source": [
    "import json\n",
    "from pprint import pprint\n",
    "from IPython.display import clear_output"
   ]
  },
  {
   "cell_type": "code",
   "execution_count": 15,
   "metadata": {},
   "outputs": [
    {
     "name": "stdout",
     "output_type": "stream",
     "text": [
      "{'freq', 'very freq', 'medium', 'rare', 'very rare'}\n",
      "n v_rare: 100\n",
      "n v_freq: 100\n"
     ]
    }
   ],
   "source": [
    "very_rare = []\n",
    "very_freq = []\n",
    "rarity_set = set()\n",
    "\n",
    "\n",
    "with open(\"../results/bio/rag_results_llama2Chat_bio_prompts_ctxs.jsonl\", 'r') as f:\n",
    "    for line in f.readlines():\n",
    "        dct = json.loads(line)\n",
    "        if \"very rare\" in dct['cat']:\n",
    "            very_rare.append(dct)\n",
    "        if \"very freq\" in dct['cat']:\n",
    "            very_freq.append(dct)          \n",
    "        rarity_set.add(dct['cat'][0])\n",
    "\n",
    "\n",
    "print(rarity_set)\n",
    "print(\"n v_rare: {}\".format(len(very_rare)))\n",
    "print(\"n v_freq: {}\".format(len(very_rare)))"
   ]
  },
  {
   "cell_type": "code",
   "execution_count": 16,
   "metadata": {},
   "outputs": [
    {
     "name": "stdout",
     "output_type": "stream",
     "text": [
      "'Sun Wenguang'\n",
      "(' Based on the provided documents, Sun Wenguang was born on August 26, 1934, '\n",
      " 'in Rongcheng City, China. His father was a naval officer of the National '\n",
      " 'Government. Sun joined the Navy in his early years and later became a '\n",
      " 'professor of Physics at Shandong University in Jinan from 1982 until his '\n",
      " 'retirement in 1994. Sun has been an activist and vocal critic of the Chinese '\n",
      " 'government, being one of the original signatories of Charter 08, a '\n",
      " 'pro-democracy manifesto published in 2008.\\n'\n",
      " '\\n'\n",
      " 'Sun Xing, on the other hand, is a Hong Kong actor and Mandopop singer born '\n",
      " 'in Guangzhou, China on October 16, 1963. He grew up in Beijing and '\n",
      " 'immigrated to Hong Kong with his parents as a teenager. He started his '\n",
      " 'acting career in Hong Kong and later shot to fame in Taiwan through a number '\n",
      " 'of TV dramas, mostly portraying heroes.')\n",
      "[{'id': '20828918',\n",
      "  'score': '1.1635295',\n",
      "  'text': 'Sun Wenguang Sun Wenguang (; born August 26, 1934) is an activist '\n",
      "          'and vocal critic of Chinese government. He was a professor of '\n",
      "          'Physics at Shandong University in Jinan from 1982 until 1994 when '\n",
      "          'he retired. Sun Wenguang was born in Rongcheng City on August 26, '\n",
      "          '1934. His father was a naval officer of the National Government. '\n",
      "          'Sun joined the Navy in his early years. He was a professor of '\n",
      "          'Physics at Shandong University in Jinan from 1982 until 1994 when '\n",
      "          'he retired. Sun has a history of criticizing the Chinese '\n",
      "          'government, being one of the original signatories of Charter',\n",
      "  'title': 'Sun Wenguang'},\n",
      " {'id': '20828915',\n",
      "  'score': '1.1635295',\n",
      "  'text': 'Sun Wenguang Sun Wenguang (; born August 26, 1934) is an activist '\n",
      "          'and vocal critic of Chinese government. He was a professor of '\n",
      "          'Physics at Shandong University in Jinan from 1982 until 1994 when '\n",
      "          'he retired. Sun Wenguang was born in Rongcheng City on August 26, '\n",
      "          '1934. His father was a naval officer of the National Government. '\n",
      "          'Sun joined the Navy in his early years. He was a professor of '\n",
      "          'Physics at Shandong University in Jinan from 1982 until 1994 when '\n",
      "          'he retired. Sun has a history of criticizing the Chinese '\n",
      "          'government, being one of the original signatories of Charter',\n",
      "  'title': 'Sun Wenguang'},\n",
      " {'id': '18590115',\n",
      "  'score': '1.0620487',\n",
      "  'text': 'Sun Xing Sun Xing (born October 16, 1963) is a Hong Kong actor and '\n",
      "          'Mandopop singer born in Guangzhou, China. He shot to fame in the '\n",
      "          '1990s by portraying heroes in a number of Taiwanese \"wuxia\" TV '\n",
      "          'dramas. Later he mostly appeared in comedies. Sun Xing was born in '\n",
      "          'Guangzhou, Guangdong, China to a Malaysian Chinese father and a '\n",
      "          'Chinese mother. He grew up in Beijing and immigrated to Hong Kong '\n",
      "          'with his parents as a teenager. He started his acting career in '\n",
      "          'Hong Kong, and moved to Taiwan in the 1990s where he shot to fame '\n",
      "          'through a number',\n",
      "  'title': 'Sun Xing'},\n",
      " {'id': '12087195',\n",
      "  'score': '1.0615785',\n",
      "  'text': 'Sun Zhongtong Sun Zhongtong (; born October 1944) is a retired '\n",
      "          \"general of the People's Liberation Army (PLA) of the People's \"\n",
      "          'Republic of China. He served as vice director of the PLA General '\n",
      "          'Political Department. Born in Wendeng, Shandong Province, Sun '\n",
      "          'entered the work force in September 1964, and joined the Communist '\n",
      "          'Party of China (CPC) in September 1965. He graduated from the CPC '\n",
      "          'Central Party School, majoring in economics management. He enlisted '\n",
      "          'in the army in January 1965, and served in various posts in the '\n",
      "          'Liaoning Military District. He was elevated to vice director of the '\n",
      "          'propaganda department of',\n",
      "  'title': 'Sun Zhongtong'},\n",
      " {'id': '18269146',\n",
      "  'score': '1.0480828',\n",
      "  'text': 'Sun Liangang Liangang Sun (Chinese: 孙连刚), born on January 28, 1969 '\n",
      "          'in Beijing, China, is a Chinese contemporary artist. He is the '\n",
      "          'initiator of contemporary Ideographism, director of Chinese Artists '\n",
      "          'Association, and Curator of Caochangdi Art District. Liangang Sun '\n",
      "          'is the founder of Caochangdi Art District. He positioned Caochangdi '\n",
      "          'on a more experimental and more academic level. Sun dedicates to '\n",
      "          'develop Caochangdi to assist young artists while considering less '\n",
      "          'the commercial factors. For instance, the “Zero Capital Policy” '\n",
      "          'provides outstanding young artists platforms that bringing them '\n",
      "          'into public. Date: 2008 Venue: Louvre Artist: Sun Liangang Date: '\n",
      "          'May 19, 2008 -',\n",
      "  'title': 'Sun Liangang'},\n",
      " {'id': '17064492',\n",
      "  'score': '1.0455842',\n",
      "  'text': 'Da-Wen Sun Sun Dawen (; ), known as Da-Wen Sun, is a Chinese-born '\n",
      "          'professor who studies food engineering at University College '\n",
      "          'Dublin. Professor Sun is an Academician of six academies including '\n",
      "          'Royal Irish Academy, Academia Europaea (The Academy of Europe), '\n",
      "          'Polish Academy of Sciences, International Academy of Food Science '\n",
      "          'and Technology, International Academy of Agricultural and '\n",
      "          'Biosystems Engineering and International Academy of Refrigeration. '\n",
      "          'He is also President of International Commission of Agricultural '\n",
      "          'and Biosystems Engineering (CIGR). Sun was born in Chaozhou, '\n",
      "          'Guangdong, China. He received a first class BSc Honours and MSc in '\n",
      "          'Mechanical Engineering, and a PhD in Chemical',\n",
      "  'title': 'Da-Wen Sun'},\n",
      " {'id': '20828916',\n",
      "  'score': '1.0443978',\n",
      "  'text': '08 and has been harassed for relations with critics of Communist '\n",
      "          'China. On April 5, 2009, Sun and a university student left to go to '\n",
      "          'a local cemetery called Heroes’ Mountain (Yingxiong Shan; 英雄山) on a '\n",
      "          'holiday to honor the dead. He was to visit the grave of Zhao '\n",
      "          'Ziyang, a former prime minister and Communist Party general '\n",
      "          'secretary who died in 2005. When Sun entered the cemetery in Jinan, '\n",
      "          'four or five men attacked him and beat him severely. He was '\n",
      "          'admitted shortly after to Jinan hospital with three broken ribs and '\n",
      "          'injuries to his spine, head, back, arms',\n",
      "  'title': 'Sun Wenguang'},\n",
      " {'id': '12087197',\n",
      "  'score': '1.0438914',\n",
      "  'text': 'full general in June 2006. He was an alternate member of the 16th '\n",
      "          'Central Committee of the Communist Party of China and a full member '\n",
      "          'of the 17th Central Committee. Sun Zhongtong Sun Zhongtong (; born '\n",
      "          \"October 1944) is a retired general of the People's Liberation Army \"\n",
      "          \"(PLA) of the People's Republic of China. He served as vice director \"\n",
      "          'of the PLA General Political Department. Born in Wendeng, Shandong '\n",
      "          'Province, Sun entered the work force in September 1964, and joined '\n",
      "          'the Communist Party of China (CPC) in September 1965. He graduated '\n",
      "          'from the CPC Central Party School, majoring in economics',\n",
      "  'title': 'Sun Zhongtong'},\n",
      " {'id': '19150769',\n",
      "  'score': '1.0374517',\n",
      "  'text': 'Sun Qingyun Sun Qingyun (; born October 1954) is a former Chinese '\n",
      "          \"politician who spent most of his career in northwest China's \"\n",
      "          'Shaanxi province. He has been stripped of his post in November '\n",
      "          '2015. Through his career he has served as vice-chairman of Shaanxi '\n",
      "          \"Provincial Committee of the Chinese People's Political Consultative \"\n",
      "          'Conference, the Deputy Communist Party Secretary of Shaanxi, and '\n",
      "          \"the Party Secretary of Xi'an. Sun was born in Ling County, \"\n",
      "          \"Shandong, in October 1954. At the age of 15, he joined the People's \"\n",
      "          'Liberation Army. After military service, he worked in \"China Youth '\n",
      "          'Daily\" as an editor and',\n",
      "  'title': 'Sun Qingyun'},\n",
      " {'id': '18590116',\n",
      "  'score': '1.0340496',\n",
      "  'text': 'of popular TV series. Sun was arrested by the police in Beijing on '\n",
      "          'April 22, 2011 for taking illegal drugs. He served 19 days in '\n",
      "          'detention. Sun Xing Sun Xing (born October 16, 1963) is a Hong Kong '\n",
      "          'actor and Mandopop singer born in Guangzhou, China. He shot to fame '\n",
      "          'in the 1990s by portraying heroes in a number of Taiwanese \"wuxia\" '\n",
      "          'TV dramas. Later he mostly appeared in comedies. Sun Xing was born '\n",
      "          'in Guangzhou, Guangdong, China to a Malaysian Chinese father and a '\n",
      "          'Chinese mother. He grew up in Beijing and immigrated to Hong Kong '\n",
      "          'with his parents',\n",
      "  'title': 'Sun Xing'}]\n"
     ]
    }
   ],
   "source": [
    "# View rare outputs\n",
    "\n",
    "for line in very_rare:\n",
    "    # print(line.keys())\n",
    "    # break\n",
    "    clear_output()\n",
    "    pprint(line['topic'])\n",
    "    pprint(line['output'])\n",
    "    pprint(line['ctxs'])\n",
    "#    if a == \"x\":\n",
    "#        break\n",
    "#    else:\n",
    "#        continue"
   ]
  },
  {
   "cell_type": "code",
   "execution_count": 17,
   "metadata": {},
   "outputs": [
    {
     "name": "stdout",
     "output_type": "stream",
     "text": [
      "'Nick Kyrgios'\n",
      "(' Sure, here is a bio of Nick Kyrgios based on the given documents:\\n'\n",
      " '\\n'\n",
      " 'Nick Kyrgios is an Australian professional tennis player who was born on '\n",
      " 'April 27, 1995, in Canberra, Australia. He is currently ranked world No. 35 '\n",
      " \"in men's singles by the Association of Tennis Professionals (ATP). Kyrgios \"\n",
      " 'is of Greek Orthodox Christian descent and always wears a gold necklace with '\n",
      " 'a cross on it.\\n'\n",
      " '\\n'\n",
      " 'Kyrgios began playing tennis at a young age and quickly showed promise as a '\n",
      " 'promising basketball player. He represented the Australian Capital Territory '\n",
      " 'and Australia in his early teens before deciding to focus solely on tennis '\n",
      " 'when he was 14 years old. Two years later, he gained a full scholarship at '\n",
      " 'the Australian Institute of Sport, where he was able to further develop his '\n",
      " 'tennis skills.\\n'\n",
      " '\\n'\n",
      " 'In 2013, Kyrgios relocated his training base from Canberra to Melbourne '\n",
      " 'Park. He has since achieved significant success on the ATP tour, winning '\n",
      " 'four ATP titles and reaching seven ATP finals, including the 2017 Cincinnati '\n",
      " 'Masters. Kyrgios has also had some notable results in Grand Slam '\n",
      " 'tournaments, including reaching the quarter-finals of the 2014 Wimbledon '\n",
      " 'Championships, where he upset several high-ranked players.\\n'\n",
      " '\\n'\n",
      " 'In addition to his on-court success, Kyrgios is also known for his off-court '\n",
      " 'endeavors. He is the founding contributor of the athlete direct publishing '\n",
      " 'website, \"PlayersVoice\", and has also invested financially in the digital '\n",
      " 'platform. Kyrgios has also been involved in various charity work and has '\n",
      " 'been an advocate for mental health awareness.\\n'\n",
      " '\\n'\n",
      " 'Overall, Nick Kyrgios is a talented and dedicated tennis player who has '\n",
      " 'shown great potential and achievements in his career. His dedication to his '\n",
      " 'craft and his off-court endeavors make him a well-rounded and influential '\n",
      " 'figure in the world of tennis.')\n"
     ]
    }
   ],
   "source": [
    "# View very freq outputs\n",
    "\n",
    "for line in very_freq:\n",
    "    # print(line.keys())\n",
    "    # break\n",
    "    clear_output()\n",
    "    pprint(line['topic'])\n",
    "    pprint(line['output'])\n",
    "#    if a == \"x\":\n",
    "#        break\n",
    "#    else:\n",
    "#        continue\n",
    "#    break\n"
   ]
  },
  {
   "cell_type": "code",
   "execution_count": 20,
   "metadata": {},
   "outputs": [],
   "source": [
    "# Saving a subset of 25 samples from the 'very rare' and 'very freq' topics each\n",
    "\n",
    "with open (\"../results/bio/slice_rag_results_llama2Chat_bio_prompts_ctxs.jsonl\", \"w\") as f_out:\n",
    "    for sample in very_rare[:25]:\n",
    "        json.dump(sample, f_out)\n",
    "        f_out.write(\"\\n\")\n",
    "    for sample in very_freq[:25]:\n",
    "        json.dump(sample, f_out)\n",
    "        f_out.write(\"\\n\")\n",
    " "
   ]
  }
 ],
 "metadata": {
  "kernelspec": {
   "display_name": "base",
   "language": "python",
   "name": "python3"
  },
  "language_info": {
   "codemirror_mode": {
    "name": "ipython",
    "version": 3
   },
   "file_extension": ".py",
   "mimetype": "text/x-python",
   "name": "python",
   "nbconvert_exporter": "python",
   "pygments_lexer": "ipython3",
   "version": "3.11.5"
  }
 },
 "nbformat": 4,
 "nbformat_minor": 2
}
