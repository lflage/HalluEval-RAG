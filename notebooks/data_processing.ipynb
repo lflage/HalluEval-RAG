{
 "cells": [
  {
   "cell_type": "markdown",
   "metadata": {},
   "source": [
    "# No rag Output process"
   ]
  },
  {
   "cell_type": "code",
   "execution_count": 6,
   "metadata": {},
   "outputs": [],
   "source": [
    "import json\n",
    "import os, re"
   ]
  },
  {
   "cell_type": "code",
   "execution_count": 23,
   "metadata": {},
   "outputs": [],
   "source": [
    "query = r'^Write me a bio of: .+\\n\\n'\n",
    "list_new_out = []\n",
    "with open(\"../results/bio/bio_writing_no_rag_post.jsonl\", \"w\") as out_f:\n",
    "    with open(\"../results/bio/bio_writing_no_rag.jsonl\", \"r\") as f:\n",
    "        for line in f.readlines():\n",
    "            out = json.loads(line)\n",
    "            json.dump({\"entity\": out['entity'],\n",
    "                        \"generated_text\" :re.split(query,out['generated_text'])[1]}, out_f)\n",
    "            out_f.write('\\n')\n",
    "            \n"
   ]
  },
  {
   "cell_type": "code",
   "execution_count": 24,
   "metadata": {},
   "outputs": [
    {
     "name": "stdout",
     "output_type": "stream",
     "text": [
      "{'entity': 'Ludwig van Beethoven', 'generated_text': 'Ludwig van Beethoven (1770-1827) was a German composer and pianist who is widely considered one of the most important figures in the history of classical music. Born in Bonn, Germany, Beethoven began studying music at a young age and quickly demonstrated a prodigious talent. He went on to study with some of the leading composers of his day, including Joseph Haydn and Wolfgang Amadeus Mozart.\\n\\nDespite his early success as a composer and performer, Beethoven struggled with hearing loss throughout his life. This did not stop him from continuing to compose, however, and he went on to create some of his most famous works, including his symphonies, piano sonatas, and string quartets. Beethoven\\'s music was revolutionary for its time, and it helped to pave the way for the Romantic movement in music.\\n\\nBeethoven\\'s personal life was also marked by controversy and tragedy. He was known to be fiercely independent and had difficulty forming close relationships, which often led to conflicts with those around him. He was also known to be a heavy drinker and smoker, which contributed to his declining health in his later years. Despite these challenges, Beethoven continued to compose until the end of his life, leaving behind a legacy that continues to inspire and influence musicians to this day.\\n\\nSome of Beethoven\\'s most famous works include:\\n\\n* Symphony No. 5 in C minor: This iconic work is one of Beethoven\\'s most recognizable and beloved compositions. It features a famous opening motif that has been used in countless films, TV shows, and other works of art.\\n* Symphony No. 9 in D minor: This massive work is considered one of Beethoven\\'s greatest achievements. It features a chorus and vocal soloists in the final movement, which sets the text of Friedrich Schiller\\'s \"Ode to Joy\" to music.\\n* \"Moonlight Sonata\": This piano sonata is known for its haunting and introspective melodies, and it is considered one of Beethoven\\'s most technically challenging works for the piano.\\n* \"Für Elise\": This piano piece is one of Beethoven\\'s most popular and recognizable works, and it is often considered a staple of classical music.\\n\\nThroughout his life, Beethoven was recognized as a brilliant and innovative composer, and he was awarded numerous honors and accolades for his work. Despite the challenges he faced, he continued to compose until the end of his life, leaving behind a legacy that continues to inspire and influence musicians to this day.'}\n",
      "{'entity': 'Abraham Lincoln', 'generated_text': 'Abraham Lincoln was the 16th President of the United States, serving from 1861 until his assassination in 1865. He is widely regarded as one of the greatest leaders in American history.\\n\\nLincoln was born on February 12, 1809, in a log cabin in Kentucky. He grew up in poverty and had little formal education, but he was able to teach himself law and eventually became a successful lawyer.\\n\\nLincoln entered politics in the 1830s, serving in the Illinois state legislature and later in the U.S. House of Representatives. In 1858, he ran for the U.S. Senate against Stephen Douglas, a prominent Democrat, and although Lincoln lost that election, his debates with Douglas brought him national attention.\\n\\nIn 1860, Lincoln was elected as the 16th President of the United States, with a platform of stopping the spread of slavery. He was the first Republican to be elected President, and his victory led to the secession of several Southern states and the start of the Civil War.\\n\\nAs President, Lincoln faced the enormous challenge of preserving the Union and ending slavery. He issued the Emancipation Proclamation in 1863, which declared all slaves in Confederate territory to be free. He also signed the 13th Amendment to the Constitution, which abolished slavery throughout the United States.\\n\\nLincoln was a skilled leader and orator, and he is remembered for his eloquence and his commitment to freedom and equality. He is often quoted as saying, \"Government of the people, by the people, for the people, shall not perish from the earth.\"\\n\\nTragically, Lincoln\\'s life was cut short by an assassin\\'s bullet. On April 14, 1865, he was shot by John Wilkes Booth while attending a play at Ford\\'s Theatre in Washington, D.C. Lincoln died the next morning, and his death was mourned by the nation.\\n\\nDespite his short time in office, Lincoln\\'s legacy has endured, and he remains one of the most revered figures in American history. His commitment to freedom, equality, and the Union has inspired generations of Americans, and his legacy continues to shape the country\\'s political and social landscape.'}\n",
      "{'entity': 'Luiz Inácio Lula da Silva', 'generated_text': \"Luiz Inácio Lula da Silva, known simply as Lula, is a Brazilian politician and former President of Brazil who served from 2003 to 2011. Born on October 27, 1945, in the state of Pernambuco, Brazil, Lula grew up in poverty and was forced to drop out of school in the fifth grade to work in a shoe factory to support his family. Despite these challenges, Lula became involved in the labor movement and eventually rose to become the leader of the Brazilian Workers' Party (PT).\\n\\nLula's political career began in the 1970s, when he became involved in the resistance against the military dictatorship that had taken power in Brazil in 1964. He was arrested and tortured several times for his political activities, but continued to fight for workers' rights and social justice. In 1980, he was elected to the Brazilian Congress, where he became a vocal critic of the military regime and a champion of workers' rights.\\n\\nIn 1994, Lula was elected as the first working-class president of Brazil, defeating the incumbent president, Fernando Collor de Mello. During his presidency, Lula implemented a range of policies aimed at reducing poverty and inequality, including the Bolsa Família program, which provided cash transfers to poor families who kept their children in school, and the Fome Zero program, which aimed to eliminate hunger in Brazil. He also increased investment in healthcare and education, and implemented policies to promote economic growth and reduce inflation.\\n\\nLula was re-elected in 2006, defeating his former chief of staff, José Serra. During his second term, he continued to focus on reducing poverty and inequality, and also pursued a more assertive foreign policy, including the establishment of diplomatic relations with Cuba and the expansion of Brazil's role in international affairs.\\n\\nAfter leaving office in 2011, Lula was barred from running for political office due to a corruption conviction. However, in 2017, his conviction was upheld by an appeals court, and he was sentenced to 12 years in prison. Lula has maintained his innocence and has appealed the conviction, but he remains in prison. Despite his legal troubles, Lula remains a popular figure in Brazil and is widely regarded as one of the country's most important political leaders of the past century.\"}\n",
      "{'entity': 'Olaf Scholz', 'generated_text': \"Olaf Scholz is a German politician who has served as the Federal Minister of Finance since 2018. He is a member of the Social Democratic Party of Germany (SPD) and has been a member of the German Bundestag since 2005.\\n\\nBorn on November 14, 1958, in Osnabrück, Germany, Scholz studied law at the University of Hamburg and later worked as a lawyer in Hamburg before entering politics. He began his political career in the 1980s, serving as a member of the Hamburg city council and later as the mayor of Hamburg from 2011 to 2018.\\n\\nScholz was appointed as the Federal Minister of Finance in 2018, following the formation of the grand coalition government between the SPD, Christian Democratic Union (CDU), and Christian Social Union (CSU). As finance minister, he has been instrumental in shaping Germany's economic policy, including implementing measures to address the COVID-19 pandemic and promoting investment in renewable energy.\\n\\nScholz is known for his pragmatic and fiscally responsible approach to politics, and has been recognized for his expertise in economic policy. He has also been a vocal advocate for social justice and has called for greater investment in education and social welfare programs.\\n\\nIn addition to his work in politics, Scholz is also a trained chef and enjoys cooking in his free time. He is married to Britta Ernst and has two children.\"}\n"
     ]
    }
   ],
   "source": [
    "with open(\"../results/bio/bio_writing_no_rag_post.jsonl\", \"r\") as f:\n",
    "        for line in f.readlines():\n",
    "            out = json.loads(line)\n",
    "            print(out)"
   ]
  },
  {
   "cell_type": "markdown",
   "metadata": {},
   "source": [
    "# Generating a HF dataset from the FactScore Bio entities"
   ]
  },
  {
   "cell_type": "code",
   "execution_count": 2,
   "metadata": {},
   "outputs": [],
   "source": [
    "import json\n",
    "from datasets import load_dataset"
   ]
  },
  {
   "cell_type": "code",
   "execution_count": 4,
   "metadata": {},
   "outputs": [],
   "source": [
    "with open(\"./prompt_entities.txt\", 'r') as f_in:\n",
    "    with open(\"./prompt_entities.jsonl\", 'w') as f_out:\n",
    "        for line in f_in.readlines():\n",
    "            line = line.strip()\n",
    "            cur_dict = {\"input\": \"Write me a bio of: {}\".format(line)}\n",
    "            json.dump(cur_dict,f_out)\n",
    "            f_out.write(\"\\n\")\n",
    "\n",
    "ds = load_dataset('json', data_files=[\"./prompt_entities.jsonl\"]"
   ]
  },
  {
   "cell_type": "code",
   "execution_count": 7,
   "metadata": {},
   "outputs": [
    {
     "name": "stdout",
     "output_type": "stream",
     "text": [
      "Downloading and preparing dataset json/default to /home/lucas_dfki/.cache/huggingface/datasets/json/default-2ae1b026fdf5ee95/0.0.0/e347ab1c932092252e717ff3f949105a4dd28b27e842dd53157d2f72e276c2e4...\n"
     ]
    },
    {
     "data": {
      "application/vnd.jupyter.widget-view+json": {
       "model_id": "6b08bb597bd84a42b1f3b22435f90109",
       "version_major": 2,
       "version_minor": 0
      },
      "text/plain": [
       "Downloading data files:   0%|          | 0/1 [00:00<?, ?it/s]"
      ]
     },
     "metadata": {},
     "output_type": "display_data"
    },
    {
     "data": {
      "application/vnd.jupyter.widget-view+json": {
       "model_id": "d7474bc4976041a486628159dd0bb1b4",
       "version_major": 2,
       "version_minor": 0
      },
      "text/plain": [
       "Extracting data files:   0%|          | 0/1 [00:00<?, ?it/s]"
      ]
     },
     "metadata": {},
     "output_type": "display_data"
    },
    {
     "data": {
      "application/vnd.jupyter.widget-view+json": {
       "model_id": "499cbea1203d4c4eb9cc4c7d1396c161",
       "version_major": 2,
       "version_minor": 0
      },
      "text/plain": [
       "Generating train split: 0 examples [00:00, ? examples/s]"
      ]
     },
     "metadata": {},
     "output_type": "display_data"
    },
    {
     "name": "stdout",
     "output_type": "stream",
     "text": [
      "Dataset json downloaded and prepared to /home/lucas_dfki/.cache/huggingface/datasets/json/default-2ae1b026fdf5ee95/0.0.0/e347ab1c932092252e717ff3f949105a4dd28b27e842dd53157d2f72e276c2e4. Subsequent calls will reuse this data.\n"
     ]
    },
    {
     "data": {
      "application/vnd.jupyter.widget-view+json": {
       "model_id": "8e14b23230e74d83989653b2c159d37c",
       "version_major": 2,
       "version_minor": 0
      },
      "text/plain": [
       "  0%|          | 0/1 [00:00<?, ?it/s]"
      ]
     },
     "metadata": {},
     "output_type": "display_data"
    }
   ],
   "source": [
    "from datasets import load_dataset\n",
    "\n"
   ]
  },
  {
   "cell_type": "markdown",
   "metadata": {},
   "source": [
    "# Exploring The Generations\n",
    "## Non-Rag Llama2-Chat"
   ]
  },
  {
   "cell_type": "code",
   "execution_count": 1,
   "metadata": {},
   "outputs": [],
   "source": [
    "import json\n",
    "from pprint import pprint\n",
    "from IPython.display import clear_output"
   ]
  },
  {
   "cell_type": "code",
   "execution_count": 2,
   "metadata": {},
   "outputs": [
    {
     "name": "stdout",
     "output_type": "stream",
     "text": [
      "{'very freq', 'medium', 'freq', 'very rare', 'rare'}\n",
      "n v_rare: 100\n",
      "n v_freq: 100\n"
     ]
    }
   ],
   "source": [
    "very_rare = []\n",
    "very_freq = []\n",
    "rarity_set = set()\n",
    "\n",
    "\n",
    "with open(\"../results/bio/results_llama2Chat_bio_prompts_ctxs.jsonl\", 'r') as f:\n",
    "    for line in f.readlines():\n",
    "        dct = json.loads(line)\n",
    "        if \"very rare\" in dct['cat']:\n",
    "            very_rare.append(dct)\n",
    "        if \"very freq\" in dct['cat']:\n",
    "            very_freq.append(dct)          \n",
    "        rarity_set.add(dct['cat'][0])\n",
    "\n",
    "\n",
    "print(rarity_set)\n",
    "print(\"n v_rare: {}\".format(len(very_rare)))\n",
    "print(\"n v_freq: {}\".format(len(very_rare)))"
   ]
  },
  {
   "cell_type": "code",
   "execution_count": 3,
   "metadata": {},
   "outputs": [],
   "source": [
    "# View rare outputs\n",
    "\n",
    "for line in very_rare:\n",
    "    # print(line.keys())\n",
    "    # break\n",
    "    clear_output()\n",
    "    pprint(line['topic'])\n",
    "    pprint(line['output'])\n",
    "    a = input(\"for next\")\n",
    "    if a == \"x\":\n",
    "        break\n",
    "    else:\n",
    "        continue\n"
   ]
  },
  {
   "cell_type": "code",
   "execution_count": 3,
   "metadata": {},
   "outputs": [
    {
     "name": "stdout",
     "output_type": "stream",
     "text": [
      "'John Forbes Nash Jr.'\n",
      "('  John Forbes Nash Jr. (1928-2015) was a renowned American mathematician and '\n",
      " 'economist who made significant contributions to the fields of game theory, '\n",
      " 'differential geometry, and social choice theory. He is best known for his '\n",
      " 'work on the Nash equilibrium, which is a fundamental concept in economics '\n",
      " 'and political science. Nash was born on June 13, 1928, in Bluefield, West '\n",
      " 'Virginia, and grew up in a middle-class family. He developed an interest in '\n",
      " 'mathematics at an early age and attended the University of California, '\n",
      " 'Berkeley, where he earned his undergraduate degree in 1950.\\n'\n",
      " '\\n'\n",
      " 'After serving in the United States Army during the Korean War, Nash enrolled '\n",
      " 'at Princeton University, where he earned his Ph.D. in mathematics in 1957. '\n",
      " 'His dissertation, supervised by John von Neumann, was on the topic of game '\n",
      " 'theory and the Nash equilibrium. In the early 1950s, Nash began working at '\n",
      " 'the RAND Corporation, a think tank focused on research and development in '\n",
      " 'the fields of national security and defense policy. It was during this time '\n",
      " 'that he developed his theories on the Nash equilibrium, which he published '\n",
      " 'in a series of papers in the 1950s and 1960s.\\n'\n",
      " '\\n'\n",
      " \"Nash's work on the Nash equilibrium revolutionized the field of game theory \"\n",
      " 'by showing that, in certain situations, multiple players could achieve a '\n",
      " 'stable equilibrium, even if each player had a different optimal strategy. '\n",
      " 'This idea challenged the traditional assumption that a single equilibrium '\n",
      " \"existed in any given game. Nash's work also laid the foundation for the \"\n",
      " 'field of non-cooperative game theory, which studies games in which players '\n",
      " 'make decisions independently and do not cooperate with one another.\\n'\n",
      " '\\n'\n",
      " 'In the 1960s and 1970s, Nash continued to work on game theory and '\n",
      " 'differential geometry, and he published several influential papers on these '\n",
      " 'topics. He also began to suffer from mental illness, including paranoid '\n",
      " 'schizophrenia, which was diagnosed in the early 1970s. Despite his struggles '\n",
      " 'with mental illness, Nash continued to work and publish research, and he was '\n",
      " 'awarded the Nobel Memorial Prize in Economic Sciences in 1994, along with '\n",
      " 'Reinhard Selten and Robert Aumann, for his contributions to the field of '\n",
      " 'game theory.\\n'\n",
      " '\\n'\n",
      " \"Nash's personal life was also marked by challenges and struggles. He was \"\n",
      " 'married three times and had two children, but his marriages were often '\n",
      " 'tumultuous and ended in divorce. He also struggled with alcoholism and '\n",
      " 'financial difficulties, and he was known to be reclusive and isolated at '\n",
      " 'times. Despite these challenges, Nash remained dedicated to his work and '\n",
      " 'continued to make important contributions to the field of mathematics and '\n",
      " 'economics until his death on May 23, 2015.\\n'\n",
      " '\\n'\n",
      " \"Nash's legacy extends far beyond his contributions to game theory and \"\n",
      " 'differential geometry. His work has had a profound impact on the fields of '\n",
      " 'economics, political science, and sociology, and his theories have been '\n",
      " 'applied in a wide range of fields, including finance, business, and '\n",
      " 'international relations. He is also remembered for his advocacy for mental '\n",
      " 'health awareness and his efforts to reduce stigma around mental illness.\\n'\n",
      " '\\n'\n",
      " 'In conclusion, John Forbes Nash Jr. was a brilliant mathematician and '\n",
      " 'economist who made groundbreaking contributions to the field of game theory '\n",
      " 'and differential geometry. His work has had a lasting impact on the field of '\n",
      " 'economics and has influenced the way we think about decision-making and '\n",
      " 'cooperation in a wide range of contexts. Despite the challenges he faced in '\n",
      " 'his personal life, Nash remained dedicated to his work and continued to make '\n",
      " 'important contributions until his death in 2015. His legacy continues to '\n",
      " 'inspire and influence researchers and scholars around the world.')\n"
     ]
    }
   ],
   "source": [
    "# View very freq outputs\n",
    "\n",
    "for line in very_freq:\n",
    "    # print(line.keys())\n",
    "    # break\n",
    "    clear_output()\n",
    "    pprint(line['topic'])\n",
    "    pprint(line['output'])\n",
    "    if a == \"x\":\n",
    "        break\n",
    "    else:\n",
    "        continue\n"
   ]
  },
  {
   "cell_type": "markdown",
   "metadata": {},
   "source": [
    "## With RAG Llama2-Chat7B\n"
   ]
  },
  {
   "cell_type": "code",
   "execution_count": 1,
   "metadata": {},
   "outputs": [],
   "source": [
    "import json\n",
    "from pprint import pprint\n",
    "from IPython.display import clear_output"
   ]
  },
  {
   "cell_type": "code",
   "execution_count": 2,
   "metadata": {},
   "outputs": [
    {
     "name": "stdout",
     "output_type": "stream",
     "text": [
      "{'very rare', 'medium', 'very freq', 'rare', 'freq'}\n",
      "n v_rare: 100\n",
      "n v_freq: 100\n"
     ]
    }
   ],
   "source": [
    "very_rare = []\n",
    "very_freq = []\n",
    "rarity_set = set()\n",
    "\n",
    "\n",
    "with open(\"../results/bio/rag_results_llama2Chat_bio_prompts_ctxs.jsonl\", 'r') as f:\n",
    "    for line in f.readlines():\n",
    "        dct = json.loads(line)\n",
    "        if \"very rare\" in dct['cat']:\n",
    "            very_rare.append(dct)\n",
    "        if \"very freq\" in dct['cat']:\n",
    "            very_freq.append(dct)          \n",
    "        rarity_set.add(dct['cat'][0])\n",
    "\n",
    "\n",
    "print(rarity_set)\n",
    "print(\"n v_rare: {}\".format(len(very_rare)))\n",
    "print(\"n v_freq: {}\".format(len(very_rare)))"
   ]
  },
  {
   "cell_type": "code",
   "execution_count": 7,
   "metadata": {},
   "outputs": [
    {
     "name": "stdout",
     "output_type": "stream",
     "text": [
      "'Jessie Mae Brown Beavers'\n",
      "(' Jessie Mae Brown Beavers was born on December 11, 1947, in Millport, '\n",
      " 'Alabama. She is an American former politician who served as a member of the '\n",
      " 'Tennessee Senate for the 17th district from 2003 to 2017. Prior to her time '\n",
      " 'in the state senate, Beavers was a state representative in the 99th through '\n",
      " 'the 102nd General Assemblies. In 1990, she was a member of the Brantfort '\n",
      " 'Lady Blues team that won the Ontario Ladies Hockey League Championships, and '\n",
      " 'she maintained a high female average and high triple score in Ontario Indian '\n",
      " 'Bowling Championship in 1973. Beavers is also a professional athlete who won '\n",
      " 'the most valuable player award eight times from 1962 to 1980 and was awarded '\n",
      " 'the Filmmakers Hall of Fame in 1976.\\n'\n",
      " '\\n'\n",
      " \"Beavers' mother, Louise Beavers, was an American film and television actress \"\n",
      " 'who appeared in dozens of films and two hit television shows from the 1920s '\n",
      " 'until 1960. Beavers was born in Cincinnati, Ohio, and was a member of Sigma '\n",
      " 'Gamma Rho sorority, one of the four African-American sororities. Beavers was '\n",
      " 'a breakthrough actress for black women and became known as a symbol of a '\n",
      " '\"mammy\" on the screen.\\n'\n",
      " '\\n'\n",
      " 'In conclusion, Jessie Mae Brown Beavers is a prominent figure in both '\n",
      " 'politics and sports, with a successful career in both fields. Her mother, '\n",
      " 'Louise Beavers, was a pioneering actress who paved the way for other black '\n",
      " 'women in the entertainment industry.')\n",
      "[{'id': '7711613',\n",
      "  'score': '1.030469',\n",
      "  'text': 'Mae Beavers Mae Beavers (born December 11, 1947 in Millport, '\n",
      "          'Alabama) is an American former politician. A Republican, she was a '\n",
      "          'member of the Tennessee Senate for the 17th district from 2003 '\n",
      "          'until she resigned to run for governor in August 2017. The 17th '\n",
      "          'District is composed of Cannon, Clay, DeKalb, Macon, Smith, and '\n",
      "          'Wilson counties. Prior to becoming a state senator, Beavers was a '\n",
      "          'state representative in the 99th through the 102nd General '\n",
      "          'Assemblies. She was an unsuccessful candidate for Governor of '\n",
      "          'Tennessee in the 2018 Tennessee gubernatorial election. Mae Beavers '\n",
      "          'was born on December 11, 1947, in Millport,',\n",
      "  'title': 'Mae Beavers'},\n",
      " {'id': '19934795',\n",
      "  'score': '0.9596765',\n",
      "  'text': 'Lady Blues. In 1990, the Brantfort Lady Blues went on to winning '\n",
      "          'the Ontario Ladies Hockey League Championships, both Beaver and her '\n",
      "          'daughter were members of this team. Beaver is noted for maintaining '\n",
      "          'a high female average and high triple score for all but one year '\n",
      "          'from 1969 to 1974. She also earned a \"high triple score\" in Ontario '\n",
      "          'Indian Bowling Championship in 1973. Beaver is credited with '\n",
      "          'earning many awards throughout her career as a professional '\n",
      "          'athlete. As a softball player she won the most valuable player '\n",
      "          'award eight times from 1962 through 1980. In 1979 she was awarded',\n",
      "  'title': 'Bev Beaver'},\n",
      " {'id': '4563484',\n",
      "  'score': '0.9483549',\n",
      "  'text': 'Filmmakers Hall of Fame in 1976. Features: Short subjects: Louise '\n",
      "          'Beavers Louise Beavers (March 8, 1902 – October 26, 1962) was an '\n",
      "          'American film and television actress. Beavers appeared in dozens of '\n",
      "          'films and two hit television shows from the 1920s until 1960, most '\n",
      "          'often cast in the role of a maid, servant, or slave. She was a '\n",
      "          'native of Cincinnati, Ohio, and a member of Sigma Gamma Rho '\n",
      "          'sorority, one of the four African-American sororities. Beavers was '\n",
      "          'a breakthrough actress for black women and became known as a symbol '\n",
      "          'of a \"mammy\" on the screen. A mammy archetype \"is',\n",
      "  'title': 'Louise Beavers'},\n",
      " {'id': '19934797',\n",
      "  'score': '0.94045013',\n",
      "  'text': 'was inducted into the Brantfort and Area Sports Hall of Recognition '\n",
      "          'in 1995. The Hockey Hall of Fame included her hockey jerseys and '\n",
      "          'badges in its diversity exhibit in 2018, in recognition of her '\n",
      "          'outstanding competitive hockey career spanning forty years. Bev '\n",
      "          'Beaver Beverly \"Bev\" Beaver (born 1947) is a Mohawk Canadian '\n",
      "          'athlete from the Six Nations Reserve in Ontario, Canada, known for '\n",
      "          'her performance in fastball, hockey, and bowling. Beaver was born '\n",
      "          'to Reg and Norma Henhawk and had four siblings, Sidney Henhawk, '\n",
      "          \"Charlene Nuttycombe, Toni Johnson, and Justine Bomberry. Beaver's \"\n",
      "          'competed as a professional athlete from 1961 to',\n",
      "  'title': 'Bev Beaver'},\n",
      " {'id': '50292',\n",
      "  'score': '0.93626636',\n",
      "  'text': 'beige fur, 20% have reddish brown, nearly 8% are brown and only 4% '\n",
      "          'have blackish coats. In North American beavers, 50% have pale brown '\n",
      "          'fur, 25% are reddish brown, 20% are brown and 6% are blackish. The '\n",
      "          'two species are not genetically compatible. North American beavers '\n",
      "          'have 40 chromosomes, while Eurasian beavers have 48. More than 27 '\n",
      "          'attempts were made in Russia to hybridize the two species, with one '\n",
      "          'breeding between a male North American beaver and a female European '\n",
      "          'resulting in a single stillborn kit. These factors make '\n",
      "          \"interspecific breeding unlikely in areas where the two species' \"\n",
      "          'ranges overlap.',\n",
      "  'title': 'Beaver'},\n",
      " {'id': '4563474',\n",
      "  'score': '0.9259397',\n",
      "  'text': 'Louise Beavers Louise Beavers (March 8, 1902 – October 26, 1962) '\n",
      "          'was an American film and television actress. Beavers appeared in '\n",
      "          'dozens of films and two hit television shows from the 1920s until '\n",
      "          '1960, most often cast in the role of a maid, servant, or slave. She '\n",
      "          'was a native of Cincinnati, Ohio, and a member of Sigma Gamma Rho '\n",
      "          'sorority, one of the four African-American sororities. Beavers was '\n",
      "          'a breakthrough actress for black women and became known as a symbol '\n",
      "          'of a \"mammy\" on the screen. A mammy archetype \"is the portrayal '\n",
      "          'within a narrative framework or other imagery',\n",
      "  'title': 'Louise Beavers'},\n",
      " {'id': '15956008',\n",
      "  'score': '0.92519104',\n",
      "  'text': 'name in English was in 1682. Beaver is a color that is a '\n",
      "          'representation of the average color of the fur of a beaver. The '\n",
      "          'first recorded use of \"beaver\" as a color name in English was in '\n",
      "          '1705. The color \"beaver\" was formulated as one of the Crayola '\n",
      "          \"colors in 1998. Etymologically, it's believed that the words \"\n",
      "          '\"brown\" and \"beaver\" ultimately stem from the same root word. Beige '\n",
      "          'is a color that is a representation of the color of unbleached '\n",
      "          'wool. Buff is a pale yellow-brown color that got its name from the '\n",
      "          'colour of buffed leather. According to',\n",
      "  'title': 'Shades of brown'},\n",
      " {'id': '2216611',\n",
      "  'score': '0.9227889',\n",
      "  'text': 'of regents, Bell became hugely popular among the students for his '\n",
      "          \"ritual of marching to the Marys River after each of Oregon State's \"\n",
      "          'Civil War victories. He was said to have tossed his top hat into '\n",
      "          'the water as a token of celebration. Earlier mascots include '\n",
      "          '\"Jimmie\" the Coyote (1892–1893) and \"Bulldog\" (1906–1910, '\n",
      "          'unofficial and for specific teams only, such as the Wrestling '\n",
      "          'squad). The beaver mascot\\'s name, \"Benny,\" was officially adopted '\n",
      "          'in 1945. Two failed attempts to maintain a live beaver mascot '\n",
      "          \"include Bevo Beaver (rescued from Mary's River in 1921 and later \"\n",
      "          'stolen ) and Billy Beaver (made',\n",
      "  'title': 'Benny Beaver'},\n",
      " {'id': '19934792',\n",
      "  'score': '0.92198944',\n",
      "  'text': 'Bev Beaver Beverly \"Bev\" Beaver (born 1947) is a Mohawk Canadian '\n",
      "          'athlete from the Six Nations Reserve in Ontario, Canada, known for '\n",
      "          'her performance in fastball, hockey, and bowling. Beaver was born '\n",
      "          'to Reg and Norma Henhawk and had four siblings, Sidney Henhawk, '\n",
      "          \"Charlene Nuttycombe, Toni Johnson, and Justine Bomberry. Beaver's \"\n",
      "          'competed as a professional athlete from 1961 to 1994. She is known '\n",
      "          'to have developed her athletic skills by playing sports with boys '\n",
      "          'throughout her childhood, even becoming a prominent player on a '\n",
      "          \"boy's bantam hockey team at age 13. Beaver played exclusively on \"\n",
      "          'Native fastball teams; however, she',\n",
      "  'title': 'Bev Beaver'},\n",
      " {'id': '13788167',\n",
      "  'score': '0.91380656',\n",
      "  'text': 'known as Dee Andros. Dee Andros was a rather large fellow and led '\n",
      "          'the team onto the field, often wearing a bright orange jacket. He '\n",
      "          'quickly earned the nickname, \"The Great Pumpkin.\" Andros was a '\n",
      "          'Marine war hero, having earned a Bronze Star for spending more than '\n",
      "          'a month under fire on Iwo Jima. The biggest win for Dee Andros in '\n",
      "          '1965 was recruiting Steve Preece. Preece had great speed (10.0 in '\n",
      "          'the 100 yard dash), and a good arm, a great fit for the option '\n",
      "          'offense. Linebackers Coach Ed Knecht, who had connections in '\n",
      "          'Southwestern Idaho, received a phone',\n",
      "  'title': 'History of Oregon State Beavers football'}]\n"
     ]
    }
   ],
   "source": [
    "# View rare outputs\n",
    "\n",
    "for line in very_rare:\n",
    "    # print(line.keys())\n",
    "    # break\n",
    "    clear_output()\n",
    "    pprint(line['topic'])\n",
    "    pprint(line['output'])\n",
    "    pprint(line['ctxs'])\n",
    "    if a == \"x\":\n",
    "        break\n",
    "    else:\n",
    "        continue"
   ]
  },
  {
   "cell_type": "code",
   "execution_count": 3,
   "metadata": {},
   "outputs": [
    {
     "name": "stdout",
     "output_type": "stream",
     "text": [
      "'John Forbes Nash Jr.'\n",
      "(' John Forbes Nash Jr. was born on June 13, 1928, in Bluefield, West '\n",
      " 'Virginia. His father, John Forbes Nash, was an electrical engineer for the '\n",
      " 'Appalachian Electric Power Company, and his mother, Margaret Virginia (née '\n",
      " 'Martin) Nash, had been a schoolteacher before she was married. Nash was '\n",
      " 'baptized in the Episcopal Church and had a younger sister, Martha, born '\n",
      " 'November 16, 1930. He attended kindergarten and public school and learned '\n",
      " 'from books. Nash made fundamental contributions to game theory, differential '\n",
      " 'geometry, and the study of partial differential equations. His work provided '\n",
      " 'insight into the factors that govern chance and decision-making inside '\n",
      " 'complex systems found in everyday life and is widely used in economics. Nash '\n",
      " 'shared the 1994 Nobel Memorial Prize in Economic Sciences with game '\n",
      " 'theorists Reinhard Selten and John Harsanyi. In 2015, he also died in a car '\n",
      " 'crash on May 23, along with his wife Alicia, while riding in a taxi on the '\n",
      " 'New Jersey Turnpike.')\n"
     ]
    }
   ],
   "source": [
    "# View very freq outputs\n",
    "\n",
    "for line in very_freq:\n",
    "    # print(line.keys())\n",
    "    # break\n",
    "    clear_output()\n",
    "    pprint(line['topic'])\n",
    "    pprint(line['output'])\n",
    "    if a == \"x\":\n",
    "        break\n",
    "    else:\n",
    "        continue\n",
    "    break\n"
   ]
  },
  {
   "cell_type": "code",
   "execution_count": null,
   "metadata": {},
   "outputs": [],
   "source": []
  }
 ],
 "metadata": {
  "kernelspec": {
   "display_name": "base",
   "language": "python",
   "name": "python3"
  },
  "language_info": {
   "codemirror_mode": {
    "name": "ipython",
    "version": 3
   },
   "file_extension": ".py",
   "mimetype": "text/x-python",
   "name": "python",
   "nbconvert_exporter": "python",
   "pygments_lexer": "ipython3",
   "version": "3.11.5"
  }
 },
 "nbformat": 4,
 "nbformat_minor": 2
}
