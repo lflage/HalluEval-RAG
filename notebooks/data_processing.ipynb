{
 "cells": [
  {
   "cell_type": "markdown",
   "metadata": {},
   "source": [
    "# No rag Output process"
   ]
  },
  {
   "cell_type": "code",
   "execution_count": 6,
   "metadata": {},
   "outputs": [],
   "source": [
    "import json\n",
    "import os, re"
   ]
  },
  {
   "cell_type": "code",
   "execution_count": 23,
   "metadata": {},
   "outputs": [],
   "source": [
    "query = r'^Write me a bio of: .+\\n\\n'\n",
    "list_new_out = []\n",
    "with open(\"../results/bio/bio_writing_no_rag_post.jsonl\", \"w\") as out_f:\n",
    "    with open(\"../results/bio/bio_writing_no_rag.jsonl\", \"r\") as f:\n",
    "        for line in f.readlines():\n",
    "            out = json.loads(line)\n",
    "            json.dump({\"entity\": out['entity'],\n",
    "                        \"generated_text\" :re.split(query,out['generated_text'])[1]}, out_f)\n",
    "            out_f.write('\\n')\n",
    "            \n"
   ]
  },
  {
   "cell_type": "code",
   "execution_count": 24,
   "metadata": {},
   "outputs": [
    {
     "name": "stdout",
     "output_type": "stream",
     "text": [
      "{'entity': 'Ludwig van Beethoven', 'generated_text': 'Ludwig van Beethoven (1770-1827) was a German composer and pianist who is widely considered one of the most important figures in the history of classical music. Born in Bonn, Germany, Beethoven began studying music at a young age and quickly demonstrated a prodigious talent. He went on to study with some of the leading composers of his day, including Joseph Haydn and Wolfgang Amadeus Mozart.\\n\\nDespite his early success as a composer and performer, Beethoven struggled with hearing loss throughout his life. This did not stop him from continuing to compose, however, and he went on to create some of his most famous works, including his symphonies, piano sonatas, and string quartets. Beethoven\\'s music was revolutionary for its time, and it helped to pave the way for the Romantic movement in music.\\n\\nBeethoven\\'s personal life was also marked by controversy and tragedy. He was known to be fiercely independent and had difficulty forming close relationships, which often led to conflicts with those around him. He was also known to be a heavy drinker and smoker, which contributed to his declining health in his later years. Despite these challenges, Beethoven continued to compose until the end of his life, leaving behind a legacy that continues to inspire and influence musicians to this day.\\n\\nSome of Beethoven\\'s most famous works include:\\n\\n* Symphony No. 5 in C minor: This iconic work is one of Beethoven\\'s most recognizable and beloved compositions. It features a famous opening motif that has been used in countless films, TV shows, and other works of art.\\n* Symphony No. 9 in D minor: This massive work is considered one of Beethoven\\'s greatest achievements. It features a chorus and vocal soloists in the final movement, which sets the text of Friedrich Schiller\\'s \"Ode to Joy\" to music.\\n* \"Moonlight Sonata\": This piano sonata is known for its haunting and introspective melodies, and it is considered one of Beethoven\\'s most technically challenging works for the piano.\\n* \"Für Elise\": This piano piece is one of Beethoven\\'s most popular and recognizable works, and it is often considered a staple of classical music.\\n\\nThroughout his life, Beethoven was recognized as a brilliant and innovative composer, and he was awarded numerous honors and accolades for his work. Despite the challenges he faced, he continued to compose until the end of his life, leaving behind a legacy that continues to inspire and influence musicians to this day.'}\n",
      "{'entity': 'Abraham Lincoln', 'generated_text': 'Abraham Lincoln was the 16th President of the United States, serving from 1861 until his assassination in 1865. He is widely regarded as one of the greatest leaders in American history.\\n\\nLincoln was born on February 12, 1809, in a log cabin in Kentucky. He grew up in poverty and had little formal education, but he was able to teach himself law and eventually became a successful lawyer.\\n\\nLincoln entered politics in the 1830s, serving in the Illinois state legislature and later in the U.S. House of Representatives. In 1858, he ran for the U.S. Senate against Stephen Douglas, a prominent Democrat, and although Lincoln lost that election, his debates with Douglas brought him national attention.\\n\\nIn 1860, Lincoln was elected as the 16th President of the United States, with a platform of stopping the spread of slavery. He was the first Republican to be elected President, and his victory led to the secession of several Southern states and the start of the Civil War.\\n\\nAs President, Lincoln faced the enormous challenge of preserving the Union and ending slavery. He issued the Emancipation Proclamation in 1863, which declared all slaves in Confederate territory to be free. He also signed the 13th Amendment to the Constitution, which abolished slavery throughout the United States.\\n\\nLincoln was a skilled leader and orator, and he is remembered for his eloquence and his commitment to freedom and equality. He is often quoted as saying, \"Government of the people, by the people, for the people, shall not perish from the earth.\"\\n\\nTragically, Lincoln\\'s life was cut short by an assassin\\'s bullet. On April 14, 1865, he was shot by John Wilkes Booth while attending a play at Ford\\'s Theatre in Washington, D.C. Lincoln died the next morning, and his death was mourned by the nation.\\n\\nDespite his short time in office, Lincoln\\'s legacy has endured, and he remains one of the most revered figures in American history. His commitment to freedom, equality, and the Union has inspired generations of Americans, and his legacy continues to shape the country\\'s political and social landscape.'}\n",
      "{'entity': 'Luiz Inácio Lula da Silva', 'generated_text': \"Luiz Inácio Lula da Silva, known simply as Lula, is a Brazilian politician and former President of Brazil who served from 2003 to 2011. Born on October 27, 1945, in the state of Pernambuco, Brazil, Lula grew up in poverty and was forced to drop out of school in the fifth grade to work in a shoe factory to support his family. Despite these challenges, Lula became involved in the labor movement and eventually rose to become the leader of the Brazilian Workers' Party (PT).\\n\\nLula's political career began in the 1970s, when he became involved in the resistance against the military dictatorship that had taken power in Brazil in 1964. He was arrested and tortured several times for his political activities, but continued to fight for workers' rights and social justice. In 1980, he was elected to the Brazilian Congress, where he became a vocal critic of the military regime and a champion of workers' rights.\\n\\nIn 1994, Lula was elected as the first working-class president of Brazil, defeating the incumbent president, Fernando Collor de Mello. During his presidency, Lula implemented a range of policies aimed at reducing poverty and inequality, including the Bolsa Família program, which provided cash transfers to poor families who kept their children in school, and the Fome Zero program, which aimed to eliminate hunger in Brazil. He also increased investment in healthcare and education, and implemented policies to promote economic growth and reduce inflation.\\n\\nLula was re-elected in 2006, defeating his former chief of staff, José Serra. During his second term, he continued to focus on reducing poverty and inequality, and also pursued a more assertive foreign policy, including the establishment of diplomatic relations with Cuba and the expansion of Brazil's role in international affairs.\\n\\nAfter leaving office in 2011, Lula was barred from running for political office due to a corruption conviction. However, in 2017, his conviction was upheld by an appeals court, and he was sentenced to 12 years in prison. Lula has maintained his innocence and has appealed the conviction, but he remains in prison. Despite his legal troubles, Lula remains a popular figure in Brazil and is widely regarded as one of the country's most important political leaders of the past century.\"}\n",
      "{'entity': 'Olaf Scholz', 'generated_text': \"Olaf Scholz is a German politician who has served as the Federal Minister of Finance since 2018. He is a member of the Social Democratic Party of Germany (SPD) and has been a member of the German Bundestag since 2005.\\n\\nBorn on November 14, 1958, in Osnabrück, Germany, Scholz studied law at the University of Hamburg and later worked as a lawyer in Hamburg before entering politics. He began his political career in the 1980s, serving as a member of the Hamburg city council and later as the mayor of Hamburg from 2011 to 2018.\\n\\nScholz was appointed as the Federal Minister of Finance in 2018, following the formation of the grand coalition government between the SPD, Christian Democratic Union (CDU), and Christian Social Union (CSU). As finance minister, he has been instrumental in shaping Germany's economic policy, including implementing measures to address the COVID-19 pandemic and promoting investment in renewable energy.\\n\\nScholz is known for his pragmatic and fiscally responsible approach to politics, and has been recognized for his expertise in economic policy. He has also been a vocal advocate for social justice and has called for greater investment in education and social welfare programs.\\n\\nIn addition to his work in politics, Scholz is also a trained chef and enjoys cooking in his free time. He is married to Britta Ernst and has two children.\"}\n"
     ]
    }
   ],
   "source": [
    "with open(\"../results/bio/bio_writing_no_rag_post.jsonl\", \"r\") as f:\n",
    "        for line in f.readlines():\n",
    "            out = json.loads(line)\n",
    "            print(out)"
   ]
  },
  {
   "cell_type": "markdown",
   "metadata": {},
   "source": [
    "# Generating a HF dataset from the FactScore Bio entities"
   ]
  },
  {
   "cell_type": "code",
   "execution_count": 2,
   "metadata": {},
   "outputs": [],
   "source": [
    "import json\n",
    "from datasets import load_dataset"
   ]
  },
  {
   "cell_type": "code",
   "execution_count": 4,
   "metadata": {},
   "outputs": [],
   "source": [
    "with open(\"./prompt_entities.txt\", 'r') as f_in:\n",
    "    with open(\"./prompt_entities.jsonl\", 'w') as f_out:\n",
    "        for line in f_in.readlines():\n",
    "            line = line.strip()\n",
    "            cur_dict = {\"input\": \"Write me a bio of: {}\".format(line)}\n",
    "            json.dump(cur_dict,f_out)\n",
    "            f_out.write(\"\\n\")\n",
    "\n",
    "ds = load_dataset('json', data_files=[\"./prompt_entities.jsonl\"]"
   ]
  },
  {
   "cell_type": "code",
   "execution_count": 7,
   "metadata": {},
   "outputs": [
    {
     "name": "stdout",
     "output_type": "stream",
     "text": [
      "Downloading and preparing dataset json/default to /home/lucas_dfki/.cache/huggingface/datasets/json/default-2ae1b026fdf5ee95/0.0.0/e347ab1c932092252e717ff3f949105a4dd28b27e842dd53157d2f72e276c2e4...\n"
     ]
    },
    {
     "data": {
      "application/vnd.jupyter.widget-view+json": {
       "model_id": "6b08bb597bd84a42b1f3b22435f90109",
       "version_major": 2,
       "version_minor": 0
      },
      "text/plain": [
       "Downloading data files:   0%|          | 0/1 [00:00<?, ?it/s]"
      ]
     },
     "metadata": {},
     "output_type": "display_data"
    },
    {
     "data": {
      "application/vnd.jupyter.widget-view+json": {
       "model_id": "d7474bc4976041a486628159dd0bb1b4",
       "version_major": 2,
       "version_minor": 0
      },
      "text/plain": [
       "Extracting data files:   0%|          | 0/1 [00:00<?, ?it/s]"
      ]
     },
     "metadata": {},
     "output_type": "display_data"
    },
    {
     "data": {
      "application/vnd.jupyter.widget-view+json": {
       "model_id": "499cbea1203d4c4eb9cc4c7d1396c161",
       "version_major": 2,
       "version_minor": 0
      },
      "text/plain": [
       "Generating train split: 0 examples [00:00, ? examples/s]"
      ]
     },
     "metadata": {},
     "output_type": "display_data"
    },
    {
     "name": "stdout",
     "output_type": "stream",
     "text": [
      "Dataset json downloaded and prepared to /home/lucas_dfki/.cache/huggingface/datasets/json/default-2ae1b026fdf5ee95/0.0.0/e347ab1c932092252e717ff3f949105a4dd28b27e842dd53157d2f72e276c2e4. Subsequent calls will reuse this data.\n"
     ]
    },
    {
     "data": {
      "application/vnd.jupyter.widget-view+json": {
       "model_id": "8e14b23230e74d83989653b2c159d37c",
       "version_major": 2,
       "version_minor": 0
      },
      "text/plain": [
       "  0%|          | 0/1 [00:00<?, ?it/s]"
      ]
     },
     "metadata": {},
     "output_type": "display_data"
    }
   ],
   "source": [
    "from datasets import load_dataset\n",
    "\n"
   ]
  },
  {
   "cell_type": "markdown",
   "metadata": {},
   "source": [
    "# Exploring The Generations\n",
    "## Non-Rag Llama2-Chat"
   ]
  },
  {
   "cell_type": "code",
   "execution_count": 18,
   "metadata": {},
   "outputs": [],
   "source": [
    "import json\n",
    "from pprint import pprint\n",
    "from IPython.display import clear_output"
   ]
  },
  {
   "cell_type": "code",
   "execution_count": 19,
   "metadata": {},
   "outputs": [
    {
     "name": "stdout",
     "output_type": "stream",
     "text": [
      "{'medium', 'very freq', 'very rare', 'rare', 'freq'}\n",
      "n v_rare: 100\n",
      "n v_freq: 100\n"
     ]
    }
   ],
   "source": [
    "very_rare = []\n",
    "very_freq = []\n",
    "rarity_set = set()\n",
    "\n",
    "\n",
    "with open(\"../results/bio/results_llama2Chat_bio_prompts_ctxs.jsonl\", 'r') as f:\n",
    "    for line in f.readlines():\n",
    "        dct = json.loads(line)\n",
    "        if \"very rare\" in dct['cat']:\n",
    "            very_rare.append(dct)\n",
    "        if \"very freq\" in dct['cat']:\n",
    "            very_freq.append(dct)          \n",
    "        rarity_set.add(dct['cat'][0])\n",
    "\n",
    "\n",
    "print(rarity_set)\n",
    "print(\"n v_rare: {}\".format(len(very_rare)))\n",
    "print(\"n v_freq: {}\".format(len(very_rare)))"
   ]
  },
  {
   "cell_type": "code",
   "execution_count": 20,
   "metadata": {},
   "outputs": [
    {
     "name": "stdout",
     "output_type": "stream",
     "text": [
      "'Jessie Mae Brown Beavers'\n",
      "('  Jessie Mae Brown Beavers (1924-2019) was a pioneering African American '\n",
      " 'educator, administrator, and civil rights activist from Kentucky. She was '\n",
      " 'born in rural Breathitt County, Kentucky, to sharecropper parents and grew '\n",
      " 'up during the Great Depression. Despite the challenges of poverty and racial '\n",
      " 'discrimination, Beavers was determined to pursue her education and make a '\n",
      " 'difference in her community.\\n'\n",
      " '\\n'\n",
      " 'Beavers attended segregated schools throughout her childhood and '\n",
      " 'adolescence, where she excelled academically and developed a passion for '\n",
      " \"teaching. She went on to earn a bachelor's degree in education from Kentucky \"\n",
      " 'State University (then known as Kentucky State College) in 1946, becoming '\n",
      " 'one of the first African Americans to graduate from the institution.\\n'\n",
      " '\\n'\n",
      " 'After completing her degree, Beavers began her teaching career in the '\n",
      " 'segregated schools of Breathitt County. Despite facing discrimination and '\n",
      " 'limited resources, she worked tirelessly to provide her students with a '\n",
      " 'high-quality education. In 1950, she became the first African American '\n",
      " 'teacher to be hired by the Breathitt County School System.\\n'\n",
      " '\\n'\n",
      " \"Beavers' commitment to education and civil rights did not stop at the \"\n",
      " 'classroom door. She was an active member of the Kentucky State Teachers '\n",
      " 'Association and the NAACP, and she worked closely with local civil rights '\n",
      " 'leaders to challenge segregation and discrimination in the community. In '\n",
      " '1955, she played a key role in organizing the first African American voter '\n",
      " 'registration drive in Breathitt County, which led to the election of several '\n",
      " 'African American officials to local office.\\n'\n",
      " '\\n'\n",
      " \"Beavers' contributions to education and civil rights were recognized at the \"\n",
      " 'state and national levels. In 1970, she was named Kentucky Teacher of the '\n",
      " \"Year, and in 1972, she was awarded the National Education Association's \"\n",
      " '(NEA) Award for Outstanding State Teacher of the Year. She was also a '\n",
      " \"founding member of the Kentucky Education Association's (KEA) African \"\n",
      " \"American Caucus and served as the caucus's first chairperson.\\n\"\n",
      " '\\n'\n",
      " 'Beavers continued to work in education and civil rights throughout her life, '\n",
      " 'serving as a mentor and role model for countless young people. She retired '\n",
      " 'from teaching in 1984 but remained active in her community, advocating for '\n",
      " 'social justice and equality. In 2014, she was recognized as a Kentucky Civil '\n",
      " 'Rights Trailblazer by the Kentucky Civil Rights Heritage Center.\\n'\n",
      " '\\n'\n",
      " 'Throughout her life, Beavers faced numerous challenges and obstacles, '\n",
      " 'including poverty, discrimination, and illness. However, she never lost '\n",
      " 'sight of her goals or her commitment to making a difference in her '\n",
      " 'community. Her legacy as a pioneering educator and civil rights activist '\n",
      " 'continues to inspire and motivate people to this day.\\n'\n",
      " '\\n'\n",
      " 'Jessie Mae Brown Beavers passed away on September 10, 2019, at the age of '\n",
      " '94. Her life and legacy serve as a testament to the power of determination, '\n",
      " 'hard work, and a commitment to social justice.')\n"
     ]
    }
   ],
   "source": [
    "# View rare outputs\n",
    "\n",
    "for line in very_rare:\n",
    "    # print(line.keys())\n",
    "    # break\n",
    "    clear_output()\n",
    "    pprint(line['topic'])\n",
    "    pprint(line['output'])\n",
    "    break\n",
    "#    a = input(\"for next\")\n",
    "#    if a == \"x\":\n",
    "#        break\n",
    "#    else:\n",
    "#        continue\n"
   ]
  },
  {
   "cell_type": "code",
   "execution_count": 21,
   "metadata": {},
   "outputs": [
    {
     "name": "stdout",
     "output_type": "stream",
     "text": [
      "'John Forbes Nash Jr.'\n",
      "('  John Forbes Nash Jr. (1928-2015) was a renowned American mathematician and '\n",
      " 'economist who made significant contributions to the fields of game theory, '\n",
      " 'differential geometry, and social choice theory. He is best known for his '\n",
      " 'work on the Nash equilibrium, which is a fundamental concept in economics '\n",
      " 'and political science. Nash was born on June 13, 1928, in Bluefield, West '\n",
      " 'Virginia, and grew up in a middle-class family. He developed an interest in '\n",
      " 'mathematics at an early age and attended the University of California, '\n",
      " 'Berkeley, where he earned his undergraduate degree in 1950.\\n'\n",
      " '\\n'\n",
      " 'After serving in the United States Army during the Korean War, Nash enrolled '\n",
      " 'at Princeton University, where he earned his Ph.D. in mathematics in 1957. '\n",
      " 'His dissertation, supervised by John von Neumann, was on the topic of game '\n",
      " 'theory and the Nash equilibrium. In the early 1950s, Nash began working at '\n",
      " 'the RAND Corporation, a think tank focused on research and development in '\n",
      " 'the fields of national security and defense policy. It was during this time '\n",
      " 'that he developed his theories on the Nash equilibrium, which he published '\n",
      " 'in a series of papers in the 1950s and 1960s.\\n'\n",
      " '\\n'\n",
      " \"Nash's work on the Nash equilibrium revolutionized the field of game theory \"\n",
      " 'by showing that, in certain situations, multiple players could achieve a '\n",
      " 'stable equilibrium, even if each player had a different optimal strategy. '\n",
      " 'This idea challenged the traditional assumption that a single equilibrium '\n",
      " \"existed in any given game. Nash's work also laid the foundation for the \"\n",
      " 'field of non-cooperative game theory, which studies games in which players '\n",
      " 'make decisions independently and do not cooperate with one another.\\n'\n",
      " '\\n'\n",
      " 'In the 1960s and 1970s, Nash continued to work on game theory and '\n",
      " 'differential geometry, and he published several influential papers on these '\n",
      " 'topics. He also began to suffer from mental illness, including paranoid '\n",
      " 'schizophrenia, which was diagnosed in the early 1970s. Despite his struggles '\n",
      " 'with mental illness, Nash continued to work and publish research, and he was '\n",
      " 'awarded the Nobel Memorial Prize in Economic Sciences in 1994, along with '\n",
      " 'Reinhard Selten and Robert Aumann, for his contributions to the field of '\n",
      " 'game theory.\\n'\n",
      " '\\n'\n",
      " \"Nash's personal life was also marked by challenges and struggles. He was \"\n",
      " 'married three times and had two children, but his marriages were often '\n",
      " 'tumultuous and ended in divorce. He also struggled with alcoholism and '\n",
      " 'financial difficulties, and he was known to be reclusive and isolated at '\n",
      " 'times. Despite these challenges, Nash remained dedicated to his work and '\n",
      " 'continued to make important contributions to the field of mathematics and '\n",
      " 'economics until his death on May 23, 2015.\\n'\n",
      " '\\n'\n",
      " \"Nash's legacy extends far beyond his contributions to game theory and \"\n",
      " 'differential geometry. His work has had a profound impact on the fields of '\n",
      " 'economics, political science, and sociology, and his theories have been '\n",
      " 'applied in a wide range of fields, including finance, business, and '\n",
      " 'international relations. He is also remembered for his advocacy for mental '\n",
      " 'health awareness and his efforts to reduce stigma around mental illness.\\n'\n",
      " '\\n'\n",
      " 'In conclusion, John Forbes Nash Jr. was a brilliant mathematician and '\n",
      " 'economist who made groundbreaking contributions to the field of game theory '\n",
      " 'and differential geometry. His work has had a lasting impact on the field of '\n",
      " 'economics and has influenced the way we think about decision-making and '\n",
      " 'cooperation in a wide range of contexts. Despite the challenges he faced in '\n",
      " 'his personal life, Nash remained dedicated to his work and continued to make '\n",
      " 'important contributions until his death in 2015. His legacy continues to '\n",
      " 'inspire and influence researchers and scholars around the world.')\n"
     ]
    }
   ],
   "source": [
    "# View very freq outputs\n",
    "\n",
    "for line in very_freq:\n",
    "    # print(line.keys())\n",
    "    # break\n",
    "    clear_output()\n",
    "    pprint(line['topic'])\n",
    "    pprint(line['output'])\n",
    "    break\n",
    "#    if a == \"x\":\n",
    "#        break\n",
    "#    else:\n",
    "#        continue\n"
   ]
  },
  {
   "cell_type": "code",
   "execution_count": 22,
   "metadata": {},
   "outputs": [],
   "source": [
    "# Saving a subset of 25 samples from the 'very rare' and 'very freq' topics each\n",
    "\n",
    "with open (\"../results/bio/slice_results_llama2Chat_bio_prompts_ctxs.jsonl\", \"w\") as f_out:\n",
    "    for sample in very_rare[:25]:\n",
    "        json.dump(sample,f_out)\n",
    "        f_out.write(\"\\n\")\n",
    "    for sample in very_freq[:25]:\n",
    "        json.dump(sample,f_out)\n",
    "        f_out.write(\"\\n\")\n",
    " "
   ]
  },
  {
   "cell_type": "markdown",
   "metadata": {},
   "source": [
    "## With RAG Llama2-Chat7B\n"
   ]
  },
  {
   "cell_type": "code",
   "execution_count": 1,
   "metadata": {},
   "outputs": [],
   "source": [
    "import json\n",
    "from pprint import pprint\n",
    "from IPython.display import clear_output"
   ]
  },
  {
   "cell_type": "code",
   "execution_count": 2,
   "metadata": {},
   "outputs": [
    {
     "name": "stdout",
     "output_type": "stream",
     "text": [
      "{'medium', 'very freq', 'very rare', 'rare', 'freq'}\n",
      "n v_rare: 100\n",
      "n v_freq: 100\n"
     ]
    }
   ],
   "source": [
    "very_rare = []\n",
    "very_freq = []\n",
    "rarity_set = set()\n",
    "\n",
    "\n",
    "with open(\"../results/bio/rag_results_llama2Chat_bio_prompts_ctxs.jsonl\", 'r') as f:\n",
    "    for line in f.readlines():\n",
    "        dct = json.loads(line)\n",
    "        if \"very rare\" in dct['cat']:\n",
    "            very_rare.append(dct)\n",
    "        if \"very freq\" in dct['cat']:\n",
    "            very_freq.append(dct)          \n",
    "        rarity_set.add(dct['cat'][0])\n",
    "\n",
    "\n",
    "print(rarity_set)\n",
    "print(\"n v_rare: {}\".format(len(very_rare)))\n",
    "print(\"n v_freq: {}\".format(len(very_rare)))"
   ]
  },
  {
   "cell_type": "code",
   "execution_count": 4,
   "metadata": {},
   "outputs": [
    {
     "name": "stdout",
     "output_type": "stream",
     "text": [
      "'Jessie Mae Brown Beavers'\n",
      "(' Jessie Mae Brown Beavers was born on December 11, 1947, in Millport, '\n",
      " 'Alabama. She is an American former politician who served as a member of the '\n",
      " 'Tennessee Senate for the 17th district from 2003 to 2017. Prior to her time '\n",
      " 'in the state senate, Beavers was a state representative in the 99th through '\n",
      " 'the 102nd General Assemblies. In 1990, she was a member of the Brantfort '\n",
      " 'Lady Blues team that won the Ontario Ladies Hockey League Championships, and '\n",
      " 'she maintained a high female average and high triple score in Ontario Indian '\n",
      " 'Bowling Championship in 1973. Beavers is also a professional athlete who won '\n",
      " 'the most valuable player award eight times from 1962 to 1980 and was awarded '\n",
      " 'the Filmmakers Hall of Fame in 1976.\\n'\n",
      " '\\n'\n",
      " \"Beavers' mother, Louise Beavers, was an American film and television actress \"\n",
      " 'who appeared in dozens of films and two hit television shows from the 1920s '\n",
      " 'until 1960. Beavers was born in Cincinnati, Ohio, and was a member of Sigma '\n",
      " 'Gamma Rho sorority, one of the four African-American sororities. Beavers was '\n",
      " 'a breakthrough actress for black women and became known as a symbol of a '\n",
      " '\"mammy\" on the screen.\\n'\n",
      " '\\n'\n",
      " 'In conclusion, Jessie Mae Brown Beavers is a prominent figure in both '\n",
      " 'politics and sports, with a successful career in both fields. Her mother, '\n",
      " 'Louise Beavers, was a pioneering actress who paved the way for other black '\n",
      " 'women in the entertainment industry.')\n",
      "[{'id': '7711613',\n",
      "  'score': '1.030469',\n",
      "  'text': 'Mae Beavers Mae Beavers (born December 11, 1947 in Millport, '\n",
      "          'Alabama) is an American former politician. A Republican, she was a '\n",
      "          'member of the Tennessee Senate for the 17th district from 2003 '\n",
      "          'until she resigned to run for governor in August 2017. The 17th '\n",
      "          'District is composed of Cannon, Clay, DeKalb, Macon, Smith, and '\n",
      "          'Wilson counties. Prior to becoming a state senator, Beavers was a '\n",
      "          'state representative in the 99th through the 102nd General '\n",
      "          'Assemblies. She was an unsuccessful candidate for Governor of '\n",
      "          'Tennessee in the 2018 Tennessee gubernatorial election. Mae Beavers '\n",
      "          'was born on December 11, 1947, in Millport,',\n",
      "  'title': 'Mae Beavers'},\n",
      " {'id': '19934795',\n",
      "  'score': '0.9596765',\n",
      "  'text': 'Lady Blues. In 1990, the Brantfort Lady Blues went on to winning '\n",
      "          'the Ontario Ladies Hockey League Championships, both Beaver and her '\n",
      "          'daughter were members of this team. Beaver is noted for maintaining '\n",
      "          'a high female average and high triple score for all but one year '\n",
      "          'from 1969 to 1974. She also earned a \"high triple score\" in Ontario '\n",
      "          'Indian Bowling Championship in 1973. Beaver is credited with '\n",
      "          'earning many awards throughout her career as a professional '\n",
      "          'athlete. As a softball player she won the most valuable player '\n",
      "          'award eight times from 1962 through 1980. In 1979 she was awarded',\n",
      "  'title': 'Bev Beaver'},\n",
      " {'id': '4563484',\n",
      "  'score': '0.9483549',\n",
      "  'text': 'Filmmakers Hall of Fame in 1976. Features: Short subjects: Louise '\n",
      "          'Beavers Louise Beavers (March 8, 1902 – October 26, 1962) was an '\n",
      "          'American film and television actress. Beavers appeared in dozens of '\n",
      "          'films and two hit television shows from the 1920s until 1960, most '\n",
      "          'often cast in the role of a maid, servant, or slave. She was a '\n",
      "          'native of Cincinnati, Ohio, and a member of Sigma Gamma Rho '\n",
      "          'sorority, one of the four African-American sororities. Beavers was '\n",
      "          'a breakthrough actress for black women and became known as a symbol '\n",
      "          'of a \"mammy\" on the screen. A mammy archetype \"is',\n",
      "  'title': 'Louise Beavers'},\n",
      " {'id': '19934797',\n",
      "  'score': '0.94045013',\n",
      "  'text': 'was inducted into the Brantfort and Area Sports Hall of Recognition '\n",
      "          'in 1995. The Hockey Hall of Fame included her hockey jerseys and '\n",
      "          'badges in its diversity exhibit in 2018, in recognition of her '\n",
      "          'outstanding competitive hockey career spanning forty years. Bev '\n",
      "          'Beaver Beverly \"Bev\" Beaver (born 1947) is a Mohawk Canadian '\n",
      "          'athlete from the Six Nations Reserve in Ontario, Canada, known for '\n",
      "          'her performance in fastball, hockey, and bowling. Beaver was born '\n",
      "          'to Reg and Norma Henhawk and had four siblings, Sidney Henhawk, '\n",
      "          \"Charlene Nuttycombe, Toni Johnson, and Justine Bomberry. Beaver's \"\n",
      "          'competed as a professional athlete from 1961 to',\n",
      "  'title': 'Bev Beaver'},\n",
      " {'id': '50292',\n",
      "  'score': '0.93626636',\n",
      "  'text': 'beige fur, 20% have reddish brown, nearly 8% are brown and only 4% '\n",
      "          'have blackish coats. In North American beavers, 50% have pale brown '\n",
      "          'fur, 25% are reddish brown, 20% are brown and 6% are blackish. The '\n",
      "          'two species are not genetically compatible. North American beavers '\n",
      "          'have 40 chromosomes, while Eurasian beavers have 48. More than 27 '\n",
      "          'attempts were made in Russia to hybridize the two species, with one '\n",
      "          'breeding between a male North American beaver and a female European '\n",
      "          'resulting in a single stillborn kit. These factors make '\n",
      "          \"interspecific breeding unlikely in areas where the two species' \"\n",
      "          'ranges overlap.',\n",
      "  'title': 'Beaver'},\n",
      " {'id': '4563474',\n",
      "  'score': '0.9259397',\n",
      "  'text': 'Louise Beavers Louise Beavers (March 8, 1902 – October 26, 1962) '\n",
      "          'was an American film and television actress. Beavers appeared in '\n",
      "          'dozens of films and two hit television shows from the 1920s until '\n",
      "          '1960, most often cast in the role of a maid, servant, or slave. She '\n",
      "          'was a native of Cincinnati, Ohio, and a member of Sigma Gamma Rho '\n",
      "          'sorority, one of the four African-American sororities. Beavers was '\n",
      "          'a breakthrough actress for black women and became known as a symbol '\n",
      "          'of a \"mammy\" on the screen. A mammy archetype \"is the portrayal '\n",
      "          'within a narrative framework or other imagery',\n",
      "  'title': 'Louise Beavers'},\n",
      " {'id': '15956008',\n",
      "  'score': '0.92519104',\n",
      "  'text': 'name in English was in 1682. Beaver is a color that is a '\n",
      "          'representation of the average color of the fur of a beaver. The '\n",
      "          'first recorded use of \"beaver\" as a color name in English was in '\n",
      "          '1705. The color \"beaver\" was formulated as one of the Crayola '\n",
      "          \"colors in 1998. Etymologically, it's believed that the words \"\n",
      "          '\"brown\" and \"beaver\" ultimately stem from the same root word. Beige '\n",
      "          'is a color that is a representation of the color of unbleached '\n",
      "          'wool. Buff is a pale yellow-brown color that got its name from the '\n",
      "          'colour of buffed leather. According to',\n",
      "  'title': 'Shades of brown'},\n",
      " {'id': '2216611',\n",
      "  'score': '0.9227889',\n",
      "  'text': 'of regents, Bell became hugely popular among the students for his '\n",
      "          \"ritual of marching to the Marys River after each of Oregon State's \"\n",
      "          'Civil War victories. He was said to have tossed his top hat into '\n",
      "          'the water as a token of celebration. Earlier mascots include '\n",
      "          '\"Jimmie\" the Coyote (1892–1893) and \"Bulldog\" (1906–1910, '\n",
      "          'unofficial and for specific teams only, such as the Wrestling '\n",
      "          'squad). The beaver mascot\\'s name, \"Benny,\" was officially adopted '\n",
      "          'in 1945. Two failed attempts to maintain a live beaver mascot '\n",
      "          \"include Bevo Beaver (rescued from Mary's River in 1921 and later \"\n",
      "          'stolen ) and Billy Beaver (made',\n",
      "  'title': 'Benny Beaver'},\n",
      " {'id': '19934792',\n",
      "  'score': '0.92198944',\n",
      "  'text': 'Bev Beaver Beverly \"Bev\" Beaver (born 1947) is a Mohawk Canadian '\n",
      "          'athlete from the Six Nations Reserve in Ontario, Canada, known for '\n",
      "          'her performance in fastball, hockey, and bowling. Beaver was born '\n",
      "          'to Reg and Norma Henhawk and had four siblings, Sidney Henhawk, '\n",
      "          \"Charlene Nuttycombe, Toni Johnson, and Justine Bomberry. Beaver's \"\n",
      "          'competed as a professional athlete from 1961 to 1994. She is known '\n",
      "          'to have developed her athletic skills by playing sports with boys '\n",
      "          'throughout her childhood, even becoming a prominent player on a '\n",
      "          \"boy's bantam hockey team at age 13. Beaver played exclusively on \"\n",
      "          'Native fastball teams; however, she',\n",
      "  'title': 'Bev Beaver'},\n",
      " {'id': '13788167',\n",
      "  'score': '0.91380656',\n",
      "  'text': 'known as Dee Andros. Dee Andros was a rather large fellow and led '\n",
      "          'the team onto the field, often wearing a bright orange jacket. He '\n",
      "          'quickly earned the nickname, \"The Great Pumpkin.\" Andros was a '\n",
      "          'Marine war hero, having earned a Bronze Star for spending more than '\n",
      "          'a month under fire on Iwo Jima. The biggest win for Dee Andros in '\n",
      "          '1965 was recruiting Steve Preece. Preece had great speed (10.0 in '\n",
      "          'the 100 yard dash), and a good arm, a great fit for the option '\n",
      "          'offense. Linebackers Coach Ed Knecht, who had connections in '\n",
      "          'Southwestern Idaho, received a phone',\n",
      "  'title': 'History of Oregon State Beavers football'}]\n"
     ]
    }
   ],
   "source": [
    "# View rare outputs\n",
    "\n",
    "for line in very_rare:\n",
    "    # print(line.keys())\n",
    "    # break\n",
    "    clear_output()\n",
    "    pprint(line['topic'])\n",
    "    pprint(line['output'])\n",
    "    # pprint(line['ctxs'])\n",
    "    a = input(\"passa ou sai\")\n",
    "    if a == \"x\":\n",
    "        break\n",
    "    else:\n",
    "        continue"
   ]
  },
  {
   "cell_type": "code",
   "execution_count": 17,
   "metadata": {},
   "outputs": [
    {
     "name": "stdout",
     "output_type": "stream",
     "text": [
      "'Nick Kyrgios'\n",
      "(' Sure, here is a bio of Nick Kyrgios based on the given documents:\\n'\n",
      " '\\n'\n",
      " 'Nick Kyrgios is an Australian professional tennis player who was born on '\n",
      " 'April 27, 1995, in Canberra, Australia. He is currently ranked world No. 35 '\n",
      " \"in men's singles by the Association of Tennis Professionals (ATP). Kyrgios \"\n",
      " 'is of Greek Orthodox Christian descent and always wears a gold necklace with '\n",
      " 'a cross on it.\\n'\n",
      " '\\n'\n",
      " 'Kyrgios began playing tennis at a young age and quickly showed promise as a '\n",
      " 'promising basketball player. He represented the Australian Capital Territory '\n",
      " 'and Australia in his early teens before deciding to focus solely on tennis '\n",
      " 'when he was 14 years old. Two years later, he gained a full scholarship at '\n",
      " 'the Australian Institute of Sport, where he was able to further develop his '\n",
      " 'tennis skills.\\n'\n",
      " '\\n'\n",
      " 'In 2013, Kyrgios relocated his training base from Canberra to Melbourne '\n",
      " 'Park. He has since achieved significant success on the ATP tour, winning '\n",
      " 'four ATP titles and reaching seven ATP finals, including the 2017 Cincinnati '\n",
      " 'Masters. Kyrgios has also had some notable results in Grand Slam '\n",
      " 'tournaments, including reaching the quarter-finals of the 2014 Wimbledon '\n",
      " 'Championships, where he upset several high-ranked players.\\n'\n",
      " '\\n'\n",
      " 'In addition to his on-court success, Kyrgios is also known for his off-court '\n",
      " 'endeavors. He is the founding contributor of the athlete direct publishing '\n",
      " 'website, \"PlayersVoice\", and has also invested financially in the digital '\n",
      " 'platform. Kyrgios has also been involved in various charity work and has '\n",
      " 'been an advocate for mental health awareness.\\n'\n",
      " '\\n'\n",
      " 'Overall, Nick Kyrgios is a talented and dedicated tennis player who has '\n",
      " 'shown great potential and achievements in his career. His dedication to his '\n",
      " 'craft and his off-court endeavors make him a well-rounded and influential '\n",
      " 'figure in the world of tennis.')\n"
     ]
    }
   ],
   "source": [
    "# View very freq outputs\n",
    "\n",
    "for line in very_freq:\n",
    "    # print(line.keys())\n",
    "    # break\n",
    "    clear_output()\n",
    "    pprint(line['topic'])\n",
    "    pprint(line['output'])\n",
    "#    if a == \"x\":\n",
    "#        break\n",
    "#    else:\n",
    "#        continue\n",
    "#    break\n"
   ]
  },
  {
   "cell_type": "code",
   "execution_count": 5,
   "metadata": {},
   "outputs": [],
   "source": [
    "# Saving a subset of 25 samples from the 'very rare' and 'very freq' topics each\n",
    "\n",
    "with open (\"../results/bio/slice_rag_results_llama2Chat_bio_prompts_ctxs.jsonl\", \"w\") as f_out:\n",
    "    for sample in very_rare[:25]:\n",
    "        json.dump(sample, f_out)\n",
    "        f_out.write(\"\\n\")\n",
    "    for sample in very_freq[:25]:\n",
    "        json.dump(sample, f_out)\n",
    "        f_out.write(\"\\n\")\n",
    " "
   ]
  },
  {
   "cell_type": "markdown",
   "metadata": {},
   "source": [
    "# FS response analysis\n",
    "## RAG Slice"
   ]
  },
  {
   "cell_type": "code",
   "execution_count": 16,
   "metadata": {},
   "outputs": [
    {
     "name": "stdout",
     "output_type": "stream",
     "text": [
      "(' Jessie Mae Brown Beavers was born on December 11, 1947, in Millport, '\n",
      " 'Alabama. She is an American former politician who served as a member of the '\n",
      " 'Tennessee Senate for the 17th district from 2003 to 2017. Prior to her time '\n",
      " 'in the state senate, Beavers was a state representative in the 99th through '\n",
      " 'the 102nd General Assemblies. In 1990, she was a member of the Brantfort '\n",
      " 'Lady Blues team that won the Ontario Ladies Hockey League Championships, and '\n",
      " 'she maintained a high female average and high triple score in Ontario Indian '\n",
      " 'Bowling Championship in 1973. Beavers is also a professional athlete who won '\n",
      " 'the most valuable player award eight times from 1962 to 1980 and was awarded '\n",
      " 'the Filmmakers Hall of Fame in 1976.\\n'\n",
      " '\\n'\n",
      " \"Beavers' mother, Louise Beavers, was an American film and television actress \"\n",
      " 'who appeared in dozens of films and two hit television shows from the 1920s '\n",
      " 'until 1960. Beavers was born in Cincinnati, Ohio, and was a member of Sigma '\n",
      " 'Gamma Rho sorority, one of the four African-American sororities. Beavers was '\n",
      " 'a breakthrough actress for black women and became known as a symbol of a '\n",
      " '\"mammy\" on the screen.\\n'\n",
      " '\\n'\n",
      " 'In conclusion, Jessie Mae Brown Beavers is a prominent figure in both '\n",
      " 'politics and sports, with a successful career in both fields. Her mother, '\n",
      " 'Louise Beavers, was a pioneering actress who paved the way for other black '\n",
      " 'women in the entertainment industry.')\n"
     ]
    }
   ],
   "source": [
    "# loading the outputs for comparison with the Atomic Facts\n",
    "with open (\"../results/bio/slice_rag_results_llama2Chat_bio_prompts_ctxs.jsonl\", \"r\") as f_out:\n",
    "    for line in f_out.readlines():\n",
    "        cur = json.loads(line)\n",
    "        pprint(cur['output'])\n",
    "        break"
   ]
  },
  {
   "cell_type": "code",
   "execution_count": 32,
   "metadata": {},
   "outputs": [
    {
     "name": "stdout",
     "output_type": "stream",
     "text": [
      "dict_keys(['score', 'respond_ratio', 'decisions', 'num_facts_per_response', 'init_score'])\n",
      "Score: 0.5779705115814834\n",
      "Response Ratio: 1.0\n",
      "Number of A.Facts per response: 49.84\n"
     ]
    }
   ],
   "source": [
    "# Very Rare Entities\n",
    "with open(\"../results/metrics/fss/llama2-chat-7B/very_rare_slice_rag_results_llama2Chat_bio_prompts_ctxs.jsonl\", 'r') as f:\n",
    "    for line in f.readlines():\n",
    "        result = json.loads(line)\n",
    "        print(result.keys())\n",
    "        print(\"Score: {}\".format(result['score']))\n",
    "        print(\"Response Ratio: {}\".format(result['respond_ratio']))\n",
    "        print(\"Number of A.Facts per response: {}\".format(result['num_facts_per_response']))"
   ]
  },
  {
   "cell_type": "code",
   "execution_count": 33,
   "metadata": {},
   "outputs": [
    {
     "name": "stdout",
     "output_type": "stream",
     "text": [
      "dict_keys(['score', 'respond_ratio', 'decisions', 'num_facts_per_response', 'init_score'])\n",
      "Score: 0.8466173501442724\n",
      "Response Ratio: 1.0\n",
      "Number of A.Facts per response: 54.96\n"
     ]
    }
   ],
   "source": [
    "# Very Freq Entities\n",
    "with open(\"../results/metrics/fss/llama2-chat-7B/very_freq_slice_rag_results_llama2Chat_bio_prompts_ctxs.jsonl\", 'r') as f:\n",
    "    for line in f.readlines():\n",
    "        result = json.loads(line)\n",
    "        print(result.keys())\n",
    "        print(\"Score: {}\".format(result['score']))\n",
    "        print(\"Response Ratio: {}\".format(result['respond_ratio']))\n",
    "        print(\"Number of A.Facts per response: {}\".format(result['num_facts_per_response']))"
   ]
  },
  {
   "cell_type": "code",
   "execution_count": 10,
   "metadata": {},
   "outputs": [
    {
     "name": "stdout",
     "output_type": "stream",
     "text": [
      "25\n",
      "[{'atom': 'Jessie Mae Brown Beavers was born on December 11, 1947.', 'is_supported': False}, {'atom': 'Jessie Mae Brown Beavers was born in Millport, Alabama.', 'is_supported': False}, {'atom': 'She is an American.', 'is_supported': True}, {'atom': 'She is a former politician.', 'is_supported': True}, {'atom': 'She served as a member of the Tennessee Senate.', 'is_supported': False}, {'atom': 'She served as a member of the Tennessee Senate for the 17th district.', 'is_supported': False}, {'atom': 'She served from 2003 to 2017.', 'is_supported': False}, {'atom': 'Beavers was in the state senate.', 'is_supported': False}, {'atom': 'Beavers was in the state senate before a certain time.', 'is_supported': False}, {'atom': 'Beavers was a state representative.', 'is_supported': False}, {'atom': 'Beavers was a state representative in the 99th General Assembly.', 'is_supported': False}, {'atom': 'Beavers was a state representative in the 100th General Assembly.', 'is_supported': False}, {'atom': 'Beavers was a state representative in the 101st General Assembly.', 'is_supported': False}, {'atom': 'Beavers was a state representative in the 102nd General Assembly.', 'is_supported': False}, {'atom': 'In 1990, she was a member of the Brantfort Lady Blues team.', 'is_supported': False}, {'atom': 'The Brantfort Lady Blues team won the Ontario Ladies Hockey League Championships.', 'is_supported': False}, {'atom': 'She maintained a high female average in the Ontario Indian Bowling Championship in 1973.', 'is_supported': False}, {'atom': 'She maintained a high triple score in the Ontario Indian Bowling Championship in 1973.', 'is_supported': False}, {'atom': 'Beavers is a professional athlete.', 'is_supported': False}, {'atom': 'Beavers won the most valuable player award eight times.', 'is_supported': False}, {'atom': 'Beavers won the most valuable player award from 1962 to 1980.', 'is_supported': False}, {'atom': 'Beavers was awarded the Filmmakers Hall of Fame.', 'is_supported': False}, {'atom': 'Beavers was awarded the Filmmakers Hall of Fame in 1976.', 'is_supported': False}, {'atom': \"Beavers' mother was Louise Beavers.\", 'is_supported': False}, {'atom': 'Louise Beavers was an American.', 'is_supported': False}, {'atom': 'Louise Beavers was an actress.', 'is_supported': False}, {'atom': 'Louise Beavers appeared in dozens of films.', 'is_supported': False}, {'atom': 'Louise Beavers appeared in two hit television shows.', 'is_supported': False}, {'atom': 'Louise Beavers appeared in films and television shows from the 1920s until 1960.', 'is_supported': False}, {'atom': 'Beavers was born in Cincinnati, Ohio.', 'is_supported': False}, {'atom': 'Beavers was a member of Sigma Gamma Rho sorority.', 'is_supported': True}, {'atom': 'Sigma Gamma Rho is one of the four African-American sororities.', 'is_supported': False}, {'atom': 'Beavers was an actress.', 'is_supported': False}, {'atom': 'Beavers was a breakthrough actress for black women.', 'is_supported': False}, {'atom': 'Beavers became known as a symbol.', 'is_supported': True}, {'atom': 'Beavers became known as a symbol of a \"mammy.\"', 'is_supported': False}, {'atom': 'Beavers became known as a symbol of a \"mammy\" on the screen.', 'is_supported': False}, {'atom': 'Jessie Mae Brown Beavers is a prominent figure.', 'is_supported': True}, {'atom': 'Jessie Mae Brown Beavers is involved in politics.', 'is_supported': True}, {'atom': 'Jessie Mae Brown Beavers is involved in sports.', 'is_supported': False}, {'atom': 'Jessie Mae Brown Beavers has a successful career in politics.', 'is_supported': True}, {'atom': 'Jessie Mae Brown Beavers has a successful career in sports.', 'is_supported': False}, {'atom': 'Her mother was Louise Beavers.', 'is_supported': False}, {'atom': 'Louise Beavers was an actress.', 'is_supported': False}, {'atom': 'Louise Beavers was a pioneering actress.', 'is_supported': False}, {'atom': 'Louise Beavers paved the way for other black women in the entertainment industry.', 'is_supported': False}]\n",
      "[{'atom': 'Billy Conigliaro was born on August 15, 1947.', 'is_supported': True}, {'atom': 'Billy Conigliaro was born in Revere, Massachusetts.', 'is_supported': True}, {'atom': 'He was a former Major League Baseball outfielder.', 'is_supported': True}, {'atom': 'He played in the American League.', 'is_supported': True}, {'atom': 'He played for the Boston Red Sox.', 'is_supported': True}, {'atom': 'He played for the Boston Red Sox from 1969-1971.', 'is_supported': True}, {'atom': 'He played for the Milwaukee Brewers.', 'is_supported': True}, {'atom': 'He played for the Milwaukee Brewers in 1972.', 'is_supported': True}, {'atom': 'He played for the Oakland Athletics.', 'is_supported': True}, {'atom': 'He played for the Oakland Athletics in 1973.', 'is_supported': True}, {'atom': 'Conigliaro is the younger brother of Tony Conigliaro.', 'is_supported': True}, {'atom': 'Tony Conigliaro was a baseball player.', 'is_supported': True}, {'atom': 'Conigliaro was a baseball player.', 'is_supported': True}, {'atom': 'Conigliaro and Tony were teammates.', 'is_supported': True}, {'atom': 'Conigliaro and Tony were teammates on the Red Sox.', 'is_supported': True}, {'atom': 'Conigliaro and Tony were teammates on the Red Sox in 1969.', 'is_supported': True}, {'atom': 'Conigliaro and Tony were teammates on the Red Sox in 1970.', 'is_supported': True}, {'atom': 'He played for the Red Sox.', 'is_supported': True}, {'atom': 'He played during a time period.', 'is_supported': True}, {'atom': 'Conigliaro showed promise as a hitter.', 'is_supported': True}, {'atom': 'He had 16 doubles in 1970.', 'is_supported': False}, {'atom': 'He had 18 home runs in 1970.', 'is_supported': True}, {'atom': 'He had 26 doubles in 1971.', 'is_supported': True}, {'atom': 'He had 11 home runs in 1971.', 'is_supported': True}, {'atom': 'He finished 8th in the American League in doubles in 1971.', 'is_supported': True}, {'atom': '1971 was his most productive season.', 'is_supported': False}, {'atom': 'His career was cut short.', 'is_supported': True}, {'atom': 'He retired from baseball.', 'is_supported': True}, {'atom': 'He announced his retirement.', 'is_supported': True}, {'atom': 'He announced his retirement in the middle of the 1972 season.', 'is_supported': True}, {'atom': \"He was unhappy with the team's management.\", 'is_supported': True}, {'atom': 'Conigliaro returned to baseball in 1973.', 'is_supported': True}, {'atom': 'Conigliaro returned to baseball as a part-time player.', 'is_supported': True}, {'atom': 'Conigliaro returned to baseball with the Oakland Athletics.', 'is_supported': True}, {'atom': 'He made brief appearances in the American League Championship Series.', 'is_supported': True}, {'atom': 'He made brief appearances in the World Series.', 'is_supported': True}, {'atom': \"He became disgruntled with the Athletics' ownership.\", 'is_supported': True}, {'atom': 'He retired.', 'is_supported': True}, {'atom': 'He retired at the conclusion of the season.', 'is_supported': True}, {'atom': \"He retired at the conclusion of the season in which he became disgruntled with the Athletics' ownership.\", 'is_supported': True}, {'atom': 'Conigliaro attempted a comeback with the Athletics.', 'is_supported': True}, {'atom': 'The comeback was several years later.', 'is_supported': True}, {'atom': 'Conigliaro ultimately retired for good.', 'is_supported': True}, {'atom': \"Conigliaro was assigned to the Athletics' minor league affiliate.\", 'is_supported': False}, {'atom': 'The assignment was on a temporary basis.', 'is_supported': True}, {'atom': 'Conigliaro had a career.', 'is_supported': True}, {'atom': 'Conigliaro was known for his potential as a hitter.', 'is_supported': True}, {'atom': \"Conigliaro's career was marred.\", 'is_supported': False}, {'atom': \"Conigliaro's career was marred by injuries.\", 'is_supported': True}, {'atom': \"Conigliaro's career was marred by conflicts with management.\", 'is_supported': True}, {'atom': 'Conigliaro had injuries.', 'is_supported': True}, {'atom': 'Conigliaro had conflicts with management.', 'is_supported': True}, {'atom': 'He had talents.', 'is_supported': True}, {'atom': 'He desired success.', 'is_supported': True}, {'atom': 'He desired success in the major leagues.', 'is_supported': True}, {'atom': 'He was unable to achieve success.', 'is_supported': False}, {'atom': 'He was unable to achieve success in the major leagues.', 'is_supported': False}]\n",
      "[{'atom': 'Joseph A. Lopez has documents.', 'is_supported': True}, {'atom': 'The documents provide information about Joseph A. Lopez.', 'is_supported': True}, {'atom': 'Joseph A. Lopez has a bio.', 'is_supported': True}, {'atom': 'The bio is based on the documents provided.', 'is_supported': True}, {'atom': 'The bio is about Joseph A. Lopez.', 'is_supported': True}, {'atom': 'Joseph A. Lopez was born on July 10, 1910.', 'is_supported': False}, {'atom': 'Joseph A. Lopez was born in Santiago Ihuitlán Plumas.', 'is_supported': False}, {'atom': 'Santiago Ihuitlán Plumas is located in Oaxaca, Mexico.', 'is_supported': False}, {'atom': 'Joseph A. Lopez was born in Mexico.', 'is_supported': True}, {'atom': 'He was raised by his mother.', 'is_supported': False}, {'atom': \"His mother's name is Cándida López.\", 'is_supported': True}, {'atom': 'He was raised in the town of Santiago Ihuitlán Plumas.', 'is_supported': False}, {'atom': 'He was a young boy.', 'is_supported': False}, {'atom': 'He moved to the city of Orizaba.', 'is_supported': False}, {'atom': 'His mother moved with him to the city of Orizaba.', 'is_supported': False}, {'atom': 'He and his mother moved to the city of Orizaba.', 'is_supported': False}, {'atom': 'Little is known about Joseph A. Lopez.', 'is_supported': False}, {'atom': \"Joseph A. Lopez's early life is not well-known.\", 'is_supported': False}, {'atom': \"Joseph A. Lopez's education is not well-known.\", 'is_supported': False}, {'atom': 'He served in the United States Army.', 'is_supported': False}, {'atom': 'He served during World War II.', 'is_supported': False}, {'atom': 'He served specifically during the Battle of the Bulge.', 'is_supported': False}, {'atom': 'It is known that he served in the United States Army during World War II.', 'is_supported': False}, {'atom': 'It is known that he served during the Battle of the Bulge.', 'is_supported': False}, {'atom': 'On December 16, 1944, Lopez repulsed a German infantry attack.', 'is_supported': False}, {'atom': 'Lopez repulsed the attack single-handedly.', 'is_supported': False}, {'atom': 'The attack was on December 16, 1944.', 'is_supported': False}, {'atom': 'Lopez killed at least 100 enemy troops.', 'is_supported': False}, {'atom': 'He was awarded the Medal of Honor.', 'is_supported': False}, {'atom': \"He was awarded the United States' highest military decoration.\", 'is_supported': False}, {'atom': 'He was awarded the Medal of Honor for his heroic actions.', 'is_supported': False}, {'atom': \"The Medal of Honor is the United States' highest military decoration.\", 'is_supported': False}, {'atom': 'The Medal of Honor is awarded for valor in combat.', 'is_supported': False}, {'atom': 'After the war, Lopez returned to civilian life.', 'is_supported': False}, {'atom': 'Lopez lived in San Antonio, Texas.', 'is_supported': False}, {'atom': 'He was known to be humble.', 'is_supported': True}, {'atom': 'He was known to be private.', 'is_supported': True}, {'atom': 'Little is known about his personal life.', 'is_supported': True}, {'atom': 'He had a military service.', 'is_supported': False}, {'atom': \"Lopez's legacy lives on.\", 'is_supported': True}, {'atom': 'Lopez has schools dedicated to him.', 'is_supported': True}, {'atom': 'Lopez has parks dedicated to him.', 'is_supported': False}, {'atom': 'Lopez has monuments dedicated to him.', 'is_supported': True}, {'atom': 'The North East Independent School District is located in San Antonio, Texas.', 'is_supported': False}, {'atom': \"The North East Independent School District named a school in someone's honor.\", 'is_supported': False}, {'atom': 'The school is named José M. López Middle School.', 'is_supported': True}, {'atom': 'Sgt. Reckless was a horse.', 'is_supported': False}, {'atom': 'Sgt. Reckless served in the Korean War.', 'is_supported': True}, {'atom': 'The statue was unveiled at Camp Pendleton.', 'is_supported': False}, {'atom': 'Sgt. Reckless was buried at Camp Pendleton.', 'is_supported': False}, {'atom': \"López stands in Brownsville's Veterans Park.\", 'is_supported': False}, {'atom': 'López is remembered at the Battle of the Bulge Memorial.', 'is_supported': False}, {'atom': 'The Battle of the Bulge Memorial is located in Belgium.', 'is_supported': False}, {'atom': \"Despite his heroic actions, Lopez's life remains a mystery.\", 'is_supported': False}, {'atom': \"Lopez's actions were considered heroic.\", 'is_supported': False}, {'atom': 'Lopez received decorations for his actions.', 'is_supported': True}, {'atom': 'His bravery is forever etched in American history.', 'is_supported': False}, {'atom': 'His sacrifice is forever etched in American history.', 'is_supported': False}, {'atom': 'His bravery and sacrifice are forever etched in the annals of American history.', 'is_supported': False}]\n",
      "[{'atom': 'The provided documents contain information about Patrick Merrill.', 'is_supported': True}, {'atom': 'The provided documents contain a brief bio of Patrick Merrill.', 'is_supported': True}, {'atom': 'Patrick Merrill is a former Canadian professional lacrosse player.', 'is_supported': True}, {'atom': 'Patrick Merrill is the current Head Coach of the San Diego Seals.', 'is_supported': True}, {'atom': 'Patrick Merrill is the current General Manager of the San Diego Seals.', 'is_supported': True}, {'atom': 'The San Diego Seals is a team in the National Lacrosse League.', 'is_supported': False}, {'atom': 'He was born on February 22, 1979.', 'is_supported': True}, {'atom': 'He was born in Montreal, Quebec.', 'is_supported': False}, {'atom': 'He was a first-round draft choice.', 'is_supported': True}, {'atom': 'He was a first-round draft choice of the Toronto Rock.', 'is_supported': True}, {'atom': 'He was a first-round draft choice of the Toronto Rock in 2002.', 'is_supported': True}, {'atom': 'He played four seasons with the Rock.', 'is_supported': True}, {'atom': 'He was chosen first overall in the 2008 expansion draft.', 'is_supported': False}, {'atom': 'He was chosen first overall by the Boston Blazers.', 'is_supported': False}, {'atom': 'The 2008 expansion draft took place.', 'is_supported': True}, {'atom': 'The 2008 season was cancelled.', 'is_supported': True}, {'atom': 'The 2008 season was subsequently reinstated.', 'is_supported': True}, {'atom': 'The Boston Blazers folded.', 'is_supported': True}, {'atom': 'The Arizona Sting folded.', 'is_supported': True}, {'atom': 'Christopher Merrill is American.', 'is_supported': False}, {'atom': 'Christopher Merrill is a poet.', 'is_supported': False}, {'atom': 'Christopher Merrill is an essayist.', 'is_supported': False}, {'atom': 'Christopher Merrill is a journalist.', 'is_supported': False}, {'atom': 'Christopher Merrill is a translator.', 'is_supported': False}, {'atom': 'He is currently the director of the International Writing Program at the University of Iowa.', 'is_supported': False}, {'atom': 'He led an initiative.', 'is_supported': True}, {'atom': 'The initiative resulted in the selection of Iowa City as a UNESCO City of Literature.', 'is_supported': False}, {'atom': 'Iowa City is a part of the Creative Cities Network.', 'is_supported': False}, {'atom': 'He was born in western Massachusetts.', 'is_supported': False}, {'atom': 'He was raised in New Jersey.', 'is_supported': False}, {'atom': 'He has published works.', 'is_supported': False}, {'atom': 'His works include poetry.', 'is_supported': False}, {'atom': 'His works include non-fiction.', 'is_supported': False}]\n",
      "[{'atom': 'Maxime Masson is the subject of the provided documents.', 'is_supported': True}, {'atom': \"The documents contain information about Maxime Masson's life.\", 'is_supported': True}, {'atom': 'Maxime Masson has a bio.', 'is_supported': True}, {'atom': 'The bio is based on the provided documents.', 'is_supported': True}, {'atom': 'The bio is brief.', 'is_supported': False}, {'atom': 'Maxime Masson was born on October 15, 1867.', 'is_supported': True}, {'atom': 'Maxime Masson was born in Saint-Justin.', 'is_supported': True}, {'atom': 'Maxime Masson was born in Quebec.', 'is_supported': True}, {'atom': 'Maxime Masson was a Roman Catholic priest.', 'is_supported': True}, {'atom': 'He was an architect.', 'is_supported': True}, {'atom': 'He was the main architect of religious buildings.', 'is_supported': True}, {'atom': 'He was the main architect of religious buildings in the town of Sainte-Thècle.', 'is_supported': True}, {'atom': 'He served as pastor.', 'is_supported': True}, {'atom': 'He served as pastor for 52 years.', 'is_supported': True}, {'atom': 'He served as pastor in the town of Sainte-Thècle.', 'is_supported': True}, {'atom': 'He served as pastor in the town of Sainte-Thècle for 52 years.', 'is_supported': True}, {'atom': 'He was a pastor.', 'is_supported': True}, {'atom': 'He was a pastor during a certain time.', 'is_supported': True}, {'atom': 'He coordinated the construction of the church.', 'is_supported': True}, {'atom': 'He coordinated the construction of the rectory.', 'is_supported': True}, {'atom': 'He coordinated the construction of other buildings.', 'is_supported': True}, {'atom': 'The buildings were on the lot of \"Fabrique de Sainte-Thècle.\"', 'is_supported': True}, {'atom': 'The construction took place from 1903 to 1905.', 'is_supported': True}, {'atom': 'He was instrumental.', 'is_supported': True}, {'atom': 'He was instrumental in the erection.', 'is_supported': True}, {'atom': 'He was instrumental in the erection of the monastery.', 'is_supported': True}, {'atom': 'The monastery was erected in 1912.', 'is_supported': True}, {'atom': 'The monastery is also known as a \"couvent\" in French.', 'is_supported': True}, {'atom': 'Masson studied classics.', 'is_supported': True}, {'atom': 'Masson studied classics at Séminaire Saint-Joseph de Trois-Rivières.', 'is_supported': True}, {'atom': 'Masson studied theology.', 'is_supported': True}, {'atom': 'Masson studied theology at the Grand Seminary Trois-Rivières.', 'is_supported': True}, {'atom': 'Masson was ordained as a priest.', 'is_supported': True}, {'atom': 'Masson was ordained as a priest on July 8, 1894.', 'is_supported': True}, {'atom': 'The ordination took place in the chapel of the Seminary Trois-Rivières.', 'is_supported': True}, {'atom': 'He was assigned as pastor of Sainte-Thècle.', 'is_supported': True}, {'atom': 'He served as vicar of Saint-Justin from 1894-1899.', 'is_supported': True}, {'atom': 'He served at Saint-Léon-le-Grand in 1902.', 'is_supported': True}, {'atom': 'He served at Saint-Timothée of Hérouxville from 1902-1903.', 'is_supported': True}, {'atom': 'Masson was a priest.', 'is_supported': True}, {'atom': 'Masson was the first president of the School board.', 'is_supported': True}, {'atom': 'Masson was the first president of the School board of the village of Sainte-Thècle.', 'is_supported': True}, {'atom': 'Masson was the first president of the School board of the village of Sainte-Thècle from July 19, 1915, to April 14, 1947.', 'is_supported': True}, {'atom': 'There is a person named Manon Massé.', 'is_supported': False}, {'atom': 'Manon Massé is a Canadian politician.', 'is_supported': False}, {'atom': 'Manon Massé is a politician in Quebec.', 'is_supported': False}, {'atom': 'There is another person named Manon Massé.', 'is_supported': False}, {'atom': 'The other Manon Massé is a Canadian politician.', 'is_supported': False}, {'atom': 'The other Manon Massé is also a politician in Quebec.', 'is_supported': False}, {'atom': 'Manon Massé was born in 1963.', 'is_supported': False}, {'atom': 'Manon Massé was born in Windsor.', 'is_supported': False}, {'atom': 'Manon Massé was born in Quebec.', 'is_supported': False}, {'atom': 'Manon Massé was elected to the National Assembly of Quebec.', 'is_supported': False}, {'atom': 'Manon Massé was elected to the National Assembly of Quebec in the 2014 election.', 'is_supported': False}, {'atom': 'She represents the electoral district of Sainte-Marie–Saint-Jacques.', 'is_supported': False}, {'atom': 'She is a member of Québec solidaire.', 'is_supported': False}, {'atom': \"She is the party's treasurer.\", 'is_supported': False}]\n",
      "[{'atom': 'Daniel Alexander Cameron was born on December 10, 1870.', 'is_supported': True}, {'atom': 'Daniel Alexander Cameron was born in Sydney River.', 'is_supported': True}, {'atom': 'Daniel Alexander Cameron was born in Nova Scotia.', 'is_supported': True}, {'atom': 'Daniel Alexander Cameron was born in Canada.', 'is_supported': True}, {'atom': 'His parents were John Cameron.', 'is_supported': True}, {'atom': 'His parents were Isabella Macdonald.', 'is_supported': False}, {'atom': 'His parents were John and Isabella Cameron.', 'is_supported': True}, {'atom': \"Isabella Cameron's maiden name was Macdonald.\", 'is_supported': True}, {'atom': 'He was educated at Sydney Academy.', 'is_supported': True}, {'atom': 'He was educated at Dalhousie University.', 'is_supported': True}, {'atom': 'He received a Bachelor of Laws degree.', 'is_supported': True}, {'atom': 'He received a Bachelor of Laws degree from Dalhousie University.', 'is_supported': True}, {'atom': 'He received a Bachelor of Laws degree from Dalhousie University after being educated at Sydney Academy.', 'is_supported': True}, {'atom': 'He was admitted to the bar in October 1893.', 'is_supported': True}, {'atom': 'He started practicing law in Sydney in the same year.', 'is_supported': True}, {'atom': 'Cameron was a member of the County Council.', 'is_supported': True}, {'atom': 'Cameron was a member of the County Council from 1900 to 1911.', 'is_supported': True}, {'atom': 'Cameron served as a stipendiary magistrate.', 'is_supported': True}, {'atom': 'Cameron served as the stipendiary magistrate for Sydney.', 'is_supported': True}, {'atom': 'Cameron served as the stipendiary magistrate for Sydney from 1905 to 1911.', 'is_supported': True}, {'atom': 'Cameron was an athlete.', 'is_supported': False}, {'atom': 'Cameron won prizes.', 'is_supported': False}, {'atom': 'Cameron won many prizes.', 'is_supported': False}, {'atom': 'Cameron won prizes at Boy Scouts sports events.', 'is_supported': False}, {'atom': 'Boy Scouts is an organization.', 'is_supported': False}, {'atom': 'Boy Scouts has sports events.', 'is_supported': False}, {'atom': 'He competed in relay races.', 'is_supported': False}, {'atom': 'He competed in relay races in his late teens.', 'is_supported': False}, {'atom': 'He competed in relay races with Eric Liddell.', 'is_supported': False}, {'atom': 'Eric Liddell was famously portrayed in the movie \"Chariots of Fire.\".', 'is_supported': False}, {'atom': 'Cameron was a successful high-jumper.', 'is_supported': False}, {'atom': \"Cameron's grandfather was Sandy Dees.\", 'is_supported': False}, {'atom': 'Sandy Dees was the high jump champion of Scotland.', 'is_supported': False}, {'atom': \"Cameron's mother was Margaret Brua.\", 'is_supported': False}, {'atom': 'Cameron was commonly referred to as \"Don.\".', 'is_supported': True}, {'atom': 'He left Princeton College.', 'is_supported': False}, {'atom': 'He graduated with a bachelor of arts in 1852.', 'is_supported': False}, {'atom': 'He received a master of arts degree in 1855.', 'is_supported': False}, {'atom': 'Princeton College is now known as Princeton University.', 'is_supported': False}, {'atom': 'His father, Simon, placed him as a clerk.', 'is_supported': False}, {'atom': 'The successful Middleton Bank is located in Pennsylvania.', 'is_supported': False}, {'atom': 'Cameron worked his way up.', 'is_supported': True}, {'atom': 'Cameron became a successful businessman.', 'is_supported': False}, {'atom': 'Cameron worked in the iron industry.', 'is_supported': False}, {'atom': 'Cameron worked in the coal industry.', 'is_supported': False}, {'atom': 'Cameron worked in the lumber industry.', 'is_supported': False}, {'atom': 'Cameron worked in the industries of Pennsylvania.', 'is_supported': False}, {'atom': 'Pennsylvania has iron, coal, and lumber industries.', 'is_supported': False}, {'atom': 'Cameron became successful in the industries of Pennsylvania.', 'is_supported': False}, {'atom': 'Cameron passed away on September 4, 1937.', 'is_supported': True}, {'atom': 'Cameron was 66 years old at the time of his passing.', 'is_supported': True}]\n",
      "[{'atom': 'The provided documents do not contain information about Serena Tideman.', 'is_supported': False}, {'atom': 'There is no information about Serena Tideman.', 'is_supported': False}, {'atom': 'The documents provide information about Serena Williams.', 'is_supported': False}, {'atom': 'Serena Williams is a former professional female tennis player.', 'is_supported': False}, {'atom': 'Serena Williams is from the Netherlands.', 'is_supported': False}, {'atom': 'The documents provide information about Serena Deeb.', 'is_supported': False}, {'atom': 'Serena Deeb is an American.', 'is_supported': False}, {'atom': 'Serena Deeb is a professional wrestler.', 'is_supported': False}, {'atom': 'Serena Deeb is a yoga instructor.', 'is_supported': False}, {'atom': 'There is no mention of a person named Serena Tideman.', 'is_supported': False}, {'atom': 'The documents do not mention Serena Tideman.', 'is_supported': False}]\n",
      "[{'atom': 'Margaret Rose Vendryes is a visual artist.', 'is_supported': True}, {'atom': 'Margaret Rose Vendryes is a curator.', 'is_supported': True}, {'atom': 'Margaret Rose Vendryes is an art historian.', 'is_supported': True}, {'atom': 'Margaret Rose Vendryes is based in New York.', 'is_supported': True}, {'atom': 'She was born in Kingston.', 'is_supported': True}, {'atom': 'She was born in Jamaica.', 'is_supported': True}, {'atom': 'She was born in 1955.', 'is_supported': True}, {'atom': 'Vendryes began her studies in costume design.', 'is_supported': True}, {'atom': 'Vendryes moved to fine art.', 'is_supported': True}, {'atom': \"Vendryes earned a Bachelor's degree.\", 'is_supported': True}, {'atom': \"Vendryes earned a Bachelor's degree at Amherst College.\", 'is_supported': True}, {'atom': \"Vendryes earned a Bachelor's degree at Amherst College in 1984.\", 'is_supported': True}, {'atom': 'She earned her MA in Art History from Tulane University.', 'is_supported': True}, {'atom': 'She earned her MA in Art History in 1992.', 'is_supported': True}, {'atom': 'She earned her PhD from Princeton University.', 'is_supported': True}, {'atom': 'She earned her PhD from Princeton University in 1997.', 'is_supported': True}, {'atom': 'She focused on African American art history.', 'is_supported': True}, {'atom': 'She focused on African American art history during her PhD studies.', 'is_supported': True}, {'atom': 'Vendryes is the Chair of the Department of Performing and Fine Arts at York College.', 'is_supported': True}, {'atom': 'Vendryes is the Director of the Fine Arts Gallery at York College.', 'is_supported': True}, {'atom': 'York College is located in New York.', 'is_supported': True}, {'atom': 'She has curated several exhibitions.', 'is_supported': True}, {'atom': 'One of the exhibitions she curated is \"i found god in myself: the 40th anniversary of Ntozake Shange\\'s for colored girls...\"', 'is_supported': True}, {'atom': 'The exhibition \"i found god in myself\" traveled to the African American Museum in Philadelphia in 2016.', 'is_supported': True}, {'atom': 'The exhibition \"i found god in myself\" also traveled to City Without Walls (cWOW) gallery in 2017.', 'is_supported': True}, {'atom': 'City Without Walls (cWOW) gallery is located in Newark, New Jersey.', 'is_supported': True}, {'atom': 'She curated an exhibition at City Without Walls (cWOW) gallery in 2017.', 'is_supported': True}, {'atom': 'The exhibition featured works by several artists.', 'is_supported': True}, {'atom': 'Renée Cox is an artist.', 'is_supported': True}, {'atom': 'Carrie Mae Weems is an artist.', 'is_supported': True}, {'atom': 'Deborah Willis is an artist.', 'is_supported': True}, {'atom': 'Saya Woolfalk is an artist.', 'is_supported': True}, {'atom': 'Michael Paul Britto is an artist.', 'is_supported': True}, {'atom': 'Pamela Council is an artist.', 'is_supported': True}, {'atom': 'Dianne Smith is an artist.', 'is_supported': True}, {'atom': 'Vendryes has an artistic practice.', 'is_supported': True}, {'atom': 'Vendryes combines portraits of Western pop culture icons.', 'is_supported': True}, {'atom': 'Vendryes combines portraits of Western pop culture icons with traditional African masks.', 'is_supported': True}, {'atom': \"Vendryes' artistic practice combines juxtapositions.\", 'is_supported': True}, {'atom': \"Vendryes' artistic practice combines juxtapositions of portraits of Western pop culture icons.\", 'is_supported': True}, {'atom': \"Vendryes' artistic practice combines juxtapositions and combinations.\", 'is_supported': True}, {'atom': \"Vendryes' artistic practice combines juxtapositions and combinations of portraits of Western pop culture icons.\", 'is_supported': True}, {'atom': \"Vendryes' artistic practice combines juxtapositions and combinations of portraits of Western pop culture icons with traditional African masks.\", 'is_supported': True}, {'atom': \"Vendryes' own artistic practice combines juxtapositions and combinations of portraits of Western pop culture icons with traditional African masks.\", 'is_supported': True}, {'atom': 'She has explored themes of power.', 'is_supported': True}, {'atom': 'She has explored themes of race.', 'is_supported': True}, {'atom': 'She has explored themes of gender.', 'is_supported': True}, {'atom': 'She has explored themes of beauty.', 'is_supported': True}, {'atom': 'She has explored themes of power, race, gender, and beauty.', 'is_supported': True}, {'atom': 'She has created works.', 'is_supported': True}, {'atom': 'Her works have included images.', 'is_supported': True}, {'atom': 'Her works have included images of Black American women icons.', 'is_supported': True}, {'atom': 'Aretha Franklin is a Black American women icon.', 'is_supported': True}, {'atom': 'Her works have included images of Aretha Franklin.', 'is_supported': True}, {'atom': 'Grace Jones is a Black American women icon.', 'is_supported': True}, {'atom': 'Her works have included images of Grace Jones.', 'is_supported': True}, {'atom': 'Whitney Houston is a Black American women icon.', 'is_supported': True}, {'atom': 'Her works have included images of Whitney Houston.', 'is_supported': True}, {'atom': 'In 2014, the Schomburg Center for Research in Black Culture commissioned an artwork.', 'is_supported': True}, {'atom': 'The artwork was commissioned from Vendryes.', 'is_supported': True}, {'atom': 'The artwork was commissioned for an exhibition.', 'is_supported': True}, {'atom': 'The exhibition was celebrating the 40th anniversary of Ntozake Shange\\'s \"for colored girls who have considered suicide / when the rainbow is enuf.\"', 'is_supported': True}, {'atom': 'The exhibition was titled \"My spirit is too ancient to understand the separation.\".', 'is_supported': True}]\n",
      "[{'atom': 'Lemuel W. Joiner was born in Royalton, Vermont.', 'is_supported': True}, {'atom': 'Lemuel W. Joiner was born in 1810.', 'is_supported': True}, {'atom': 'Lemuel W. Joiner passed away on October 22, 1886.', 'is_supported': True}, {'atom': 'He was a member of the Republican party.', 'is_supported': True}, {'atom': 'He served in various political positions.', 'is_supported': True}, {'atom': 'He served in the Wisconsin State Assembly.', 'is_supported': True}, {'atom': 'He served in the Wisconsin State Senate.', 'is_supported': True}, {'atom': 'Joiner was elected to the Assembly in 1853.', 'is_supported': True}, {'atom': 'Joiner served in the Assembly.', 'is_supported': True}, {'atom': 'Joiner served in the Senate three times.', 'is_supported': True}, {'atom': 'Joiner served in the Senate from 1857 to 1858.', 'is_supported': True}, {'atom': 'Joiner served in the Senate again from 1861 to 1862.', 'is_supported': True}, {'atom': 'He was a member of the faculty.', 'is_supported': False}, {'atom': 'He was a member of the faculty of the University of Michigan Law School.', 'is_supported': False}, {'atom': 'He was a member of the faculty of the University of Michigan Law School from 1947 to 1965.', 'is_supported': False}, {'atom': 'He served as an associate dean.', 'is_supported': False}, {'atom': 'He served as an acting dean.', 'is_supported': False}, {'atom': 'He served as an associate dean and acting dean.', 'is_supported': False}, {'atom': 'Joiner was an Alderman.', 'is_supported': False}, {'atom': 'Joiner was an Alderman for the City of Ann Arbor.', 'is_supported': False}, {'atom': 'Joiner was an Alderman for the City of Ann Arbor, Michigan.', 'is_supported': False}, {'atom': 'Joiner was an Alderman for the City of Ann Arbor, Michigan from 1955 to 1959.', 'is_supported': False}, {'atom': 'Joiner was a director.', 'is_supported': False}, {'atom': 'Joiner was a director of research.', 'is_supported': False}, {'atom': 'Joiner was a director of drafting.', 'is_supported': False}, {'atom': 'Joiner was a director of research and drafting.', 'is_supported': False}, {'atom': 'Joiner was a director of research and drafting for the Constitutional Convention.', 'is_supported': False}, {'atom': 'Joiner was a director of research and drafting for the Constitutional Convention of the State of Michigan.', 'is_supported': False}, {'atom': 'Joiner was a director of research and drafting for the Constitutional Convention of the State of Michigan from 1961 to 1962.', 'is_supported': False}, {'atom': 'Joiner has a son.', 'is_supported': True}, {'atom': \"Joiner's son is named Robert.\", 'is_supported': True}, {'atom': 'Robert served in the Senate.', 'is_supported': True}]\n",
      "[{'atom': 'Blair Tugman is a person.', 'is_supported': True}, {'atom': \"Blair Tugman's bio is based on given documents.\", 'is_supported': True}, {'atom': 'Blair Tugman is an American.', 'is_supported': True}, {'atom': 'Blair Tugman is a politician.', 'is_supported': False}, {'atom': 'Blair Tugman is a professional wrestler.', 'is_supported': False}, {'atom': \"Blair Tugman's birth name is B. Brian Blair.\", 'is_supported': False}, {'atom': 'B. Brian Blair is an American.', 'is_supported': False}, {'atom': 'B. Brian Blair is a politician.', 'is_supported': False}, {'atom': 'B. Brian Blair is a professional wrestler.', 'is_supported': False}, {'atom': 'He was born on January 12, 1959.', 'is_supported': False}, {'atom': 'He is best known for his appearances with the World Wrestling Federation (WWF).', 'is_supported': False}, {'atom': 'He used the ring name B. Brian Blair.', 'is_supported': False}, {'atom': 'He appeared in the 1980s.', 'is_supported': False}, {'atom': 'As a child, Blair wanted to be Superman.', 'is_supported': False}, {'atom': 'Blair prayed to become a superhero.', 'is_supported': False}, {'atom': 'Blair prayed to become a superhero as a child.', 'is_supported': False}, {'atom': 'He worked out.', 'is_supported': True}, {'atom': 'He worked out to help out his parents.', 'is_supported': False}, {'atom': 'He moved out of his house.', 'is_supported': False}, {'atom': 'He moved out of his house at age 16.', 'is_supported': False}, {'atom': 'He held several jobs.', 'is_supported': True}, {'atom': 'He held several jobs at age 16.', 'is_supported': True}, {'atom': 'Blair is known for his tag team partnership with Wes Brisco.', 'is_supported': False}, {'atom': 'Blair and Brisco took on AJ Smooth, Justin Decent, and Aaron Von Barron.', 'is_supported': False}, {'atom': 'The match took place at the \"Wrestling George Tragos/Lou Thesz Hall of Fame\" show.', 'is_supported': False}, {'atom': 'His last match was held on July 22, 2017.', 'is_supported': False}, {'atom': 'He successfully tagged with Wes Brisco.', 'is_supported': False}, {'atom': 'Blair is a wrestler.', 'is_supported': False}, {'atom': 'Brunzell is a wrestler.', 'is_supported': False}, {'atom': 'Blair and Brunzell are both Iowa HOF inductees.', 'is_supported': False}, {'atom': 'Both Blair and Brunzell have been in high demand.', 'is_supported': False}, {'atom': 'Both Blair and Brunzell have worked many Comic-Cons.', 'is_supported': False}, {'atom': 'Both Blair and Brunzell have worked many Independent Autograph Sessions.', 'is_supported': False}, {'atom': 'They have collaborated.', 'is_supported': False}, {'atom': 'They have collaborated on a new Comic Book Series.', 'is_supported': False}, {'atom': 'The Comic Book Series is called \"Killer Bees.\".', 'is_supported': False}, {'atom': 'Blair has a son.', 'is_supported': False}, {'atom': \"Blair's son is named Carson Blair.\", 'is_supported': False}, {'atom': 'Carson Blair is a professional baseball catcher.', 'is_supported': False}, {'atom': 'Carson Blair has played in Major League Baseball (MLB).', 'is_supported': False}, {'atom': 'Carson Blair has played in Major League Baseball (MLB) for the Oakland Athletics.', 'is_supported': False}, {'atom': 'He was drafted by the Boston Red Sox.', 'is_supported': False}, {'atom': 'The draft took place in 2008.', 'is_supported': False}, {'atom': 'He played for the Red Sox organization.', 'is_supported': False}, {'atom': 'He played for the Red Sox organization until 2014.', 'is_supported': False}, {'atom': 'He signed a minor league deal with the Oakland Athletics.', 'is_supported': False}, {'atom': 'The deal was signed prior to the 2015 season.', 'is_supported': False}, {'atom': 'He was called up to the majors.', 'is_supported': False}, {'atom': 'He was called up to the majors for the first time.', 'is_supported': False}, {'atom': 'He was called up to the majors on September 1, 2015.', 'is_supported': False}]\n",
      "[{'atom': 'Patricia Cladis is a person.', 'is_supported': True}, {'atom': 'Patricia Cladis has provided documents.', 'is_supported': False}, {'atom': 'The documents provided are about Patricia Cladis.', 'is_supported': True}, {'atom': 'The documents provided are used to create a brief bio of Patricia Cladis.', 'is_supported': True}, {'atom': 'Patricia Cladis was Canadian-American.', 'is_supported': True}, {'atom': 'Patricia Cladis was a physicist.', 'is_supported': True}, {'atom': 'Patricia Cladis specialized in the physics of liquid crystals.', 'is_supported': True}, {'atom': 'She was born in Shanghai in 1937.', 'is_supported': True}, {'atom': 'She grew up in Vancouver, British Columbia.', 'is_supported': True}, {'atom': 'Cladis earned her B.A.', 'is_supported': False}, {'atom': 'Cladis earned her B.A. in combined Honours Mathematics and Physics.', 'is_supported': True}, {'atom': 'Cladis earned her B.A. from the University of British Columbia.', 'is_supported': True}, {'atom': 'Cladis earned her B.A. from the University of British Columbia in 1959.', 'is_supported': False}, {'atom': 'Cladis went on to earn her M.A.', 'is_supported': True}, {'atom': 'Cladis went on to earn her M.A. in Physics.', 'is_supported': True}, {'atom': 'Cladis went on to earn her M.A. from the University of Toronto.', 'is_supported': True}, {'atom': 'Cladis went on to earn her M.A. from the University of Toronto in 1960.', 'is_supported': True}, {'atom': 'Cladis completed her graduate studies.', 'is_supported': True}, {'atom': 'Cladis worked as a meteorologist.', 'is_supported': True}, {'atom': 'Cladis worked as a meteorologist for Transport Canada.', 'is_supported': True}, {'atom': 'Cladis worked as a meteorologist for Transport Canada from 1960 to 1962.', 'is_supported': False}, {'atom': 'Cladis worked as a Programmer-Analyst.', 'is_supported': True}, {'atom': 'Cladis worked as a Programmer-Analyst at KCS Ltd.', 'is_supported': True}, {'atom': 'Cladis worked as a Programmer-Analyst at KCS Ltd. from 1962 to 1963.', 'is_supported': True}, {'atom': 'She was appointed as an Assistant Professor of Physics at Western Connecticut State University in 1963.', 'is_supported': True}, {'atom': 'She worked at Western Connecticut State University for four years.', 'is_supported': False}, {'atom': 'She moved to the University of Rochester.', 'is_supported': True}, {'atom': 'She pursued her Ph.D. in Physics.', 'is_supported': True}, {'atom': 'She concentrated in superconductivity.', 'is_supported': True}, {'atom': 'Cladis received her Ph.D. in 1968.', 'is_supported': True}, {'atom': 'She spent three years in Paris.', 'is_supported': True}, {'atom': 'She spent three years in Paris as a researcher.', 'is_supported': True}, {'atom': 'Throughout her career, Cladis was a researcher.', 'is_supported': True}, {'atom': 'Throughout her career, Cladis was a writer.', 'is_supported': True}, {'atom': 'Throughout her career, Cladis was a prolific researcher.', 'is_supported': True}, {'atom': 'Throughout her career, Cladis was a prolific writer.', 'is_supported': True}, {'atom': 'Throughout her career, Cladis published over 130 publications.', 'is_supported': True}, {'atom': 'Throughout her career, Cladis edited multiple books.', 'is_supported': True}, {'atom': '\"Spatio-temporal patterns in nonequilibrium complex systems\" is a book.', 'is_supported': True}, {'atom': '\"Spatio-temporal patterns in nonequilibrium complex systems\" was published in 1995.', 'is_supported': True}, {'atom': 'Cladis edited \"Spatio-temporal patterns in nonequilibrium complex systems\" in 1995.', 'is_supported': True}, {'atom': 'She was a fellow of the American Physical Society.', 'is_supported': True}, {'atom': 'She received a Guggenheim fellowship.', 'is_supported': True}, {'atom': 'Cladis passed away on July 3, 2017.', 'is_supported': True}, {'atom': 'Cladis passed away in Summit, New Jersey.', 'is_supported': True}, {'atom': 'Cladis passed away in Summit, New Jersey on July 3, 2017.', 'is_supported': True}]\n",
      "[{'atom': 'Jimmy Tompkins is a priest.', 'is_supported': True}, {'atom': 'The bio is based on provided documents.', 'is_supported': True}, {'atom': 'Jimmy Tompkins was a Roman Catholic priest.', 'is_supported': True}, {'atom': 'Jimmy Tompkins founded the Antigonish Movement.', 'is_supported': True}, {'atom': 'The Antigonish Movement was a progressive effort.', 'is_supported': True}, {'atom': 'The Antigonish Movement aimed to improve economic conditions.', 'is_supported': True}, {'atom': 'The Antigonish Movement was focused on the fishing and mining communities.', 'is_supported': True}, {'atom': 'The Antigonish Movement was focused on northern and eastern Nova Scotia, Canada.', 'is_supported': True}, {'atom': 'He was born in Margaree Forks, Nova Scotia.', 'is_supported': True}, {'atom': 'He was born on September 7, 1870.', 'is_supported': True}, {'atom': 'His name was Tompkins.', 'is_supported': True}, {'atom': 'Tompkins attended St. Francis Xavier University.', 'is_supported': True}, {'atom': 'Tompkins attended St. Francis Xavier University in alternate semesters.', 'is_supported': True}, {'atom': 'He was teaching Greek and Mathematics.', 'is_supported': True}, {'atom': 'He taught to support himself.', 'is_supported': True}, {'atom': 'He taught to support himself from 1888-1895.', 'is_supported': True}, {'atom': 'He attended St. Francis Xavier University while teaching.', 'is_supported': True}, {'atom': 'He attended St. Francis Xavier University while teaching from 1888-1895.', 'is_supported': True}, {'atom': 'Tompkins believed in the emancipating power of education.', 'is_supported': True}, {'atom': 'Tompkins sought to improve economic conditions.', 'is_supported': True}, {'atom': 'Tompkins sought to improve economic conditions through study groups.', 'is_supported': True}, {'atom': 'Tompkins sought to improve economic conditions through cooperative action.', 'is_supported': True}, {'atom': 'He started the first regional library in Nova Scotia.', 'is_supported': True}, {'atom': 'He started the first credit union in Reserve Mines.', 'is_supported': True}, {'atom': 'He started the first cooperative housing association in Reserve Mines.', 'is_supported': True}, {'atom': 'Reserve Mines was dubbed \"Tompkinsville.\".', 'is_supported': True}, {'atom': 'Tompkins was the spiritual founder of the Antigonish Movement.', 'is_supported': True}, {'atom': 'The Antigonish Movement later evolved into the Extension Department.', 'is_supported': True}, {'atom': 'The Extension Department is now known as the Coady International Center.', 'is_supported': True}, {'atom': 'The Coady International Center is part of St. Francis Xavier University.', 'is_supported': True}, {'atom': 'Tompkins was known for his passion for helping the poor.', 'is_supported': True}, {'atom': 'Tompkins was known for his passion for helping the marginalized.', 'is_supported': True}, {'atom': 'Tompkins often said, \"It is not enough to have ideas.\"', 'is_supported': True}, {'atom': 'Tompkins often said, \"We have to put legs on them.\".', 'is_supported': True}, {'atom': 'He was a double-cousin of Father Moses Coady.', 'is_supported': True}, {'atom': 'Father Moses Coady headed the Extension Department at St. Francis Xavier University.', 'is_supported': True}, {'atom': 'He worked alongside other prominent figures.', 'is_supported': True}, {'atom': 'Father (Dr.) Hugh MacPherson was one of these prominent figures.', 'is_supported': True}, {'atom': 'A.B. MacDonald was one of these prominent figures.', 'is_supported': True}, {'atom': 'Dr. Jimmy Tompkins was one of these prominent figures.', 'is_supported': False}, {'atom': 'MacDonald is a person.', 'is_supported': True}, {'atom': 'There are others.', 'is_supported': True}, {'atom': 'MacDonald and others exist.', 'is_supported': True}, {'atom': 'Throughout his life, Tompkins remained committed to his community.', 'is_supported': True}, {'atom': 'Throughout his life, Tompkins remained committed to his beliefs.', 'is_supported': True}, {'atom': \"Tompkins' legacy continues to inspire social justice initiatives.\", 'is_supported': True}, {'atom': \"Tompkins' legacy continues to inspire community development initiatives.\", 'is_supported': True}, {'atom': \"Tompkins' legacy continues to inspire initiatives to this day.\", 'is_supported': True}]\n",
      "[{'atom': 'Alexander Vovin is a linguist.', 'is_supported': True}, {'atom': 'Alexander Vovin is a philologist.', 'is_supported': True}, {'atom': 'Alexander Vovin is a Russian-American.', 'is_supported': True}, {'atom': 'Alexander Vovin was born in Saint Petersburg, Russia.', 'is_supported': False}, {'atom': 'Alexander Vovin was born in 1961.', 'is_supported': True}, {'atom': 'He earned his M.A.', 'is_supported': True}, {'atom': 'He earned his M.A. in structural and applied linguistics.', 'is_supported': True}, {'atom': 'He earned his M.A. from Saint Petersburg State University.', 'is_supported': True}, {'atom': 'He earned his M.A. from Saint Petersburg State University in 1983.', 'is_supported': True}, {'atom': 'He earned his Ph.D.', 'is_supported': True}, {'atom': 'He earned his Ph.D. in historical Japanese linguistics.', 'is_supported': True}, {'atom': 'He earned his Ph.D. in premodern Japanese literature.', 'is_supported': False}, {'atom': 'He earned his Ph.D. from Saint Petersburg State University.', 'is_supported': True}, {'atom': 'He earned his Ph.D. from Saint Petersburg State University in 1987.', 'is_supported': True}, {'atom': 'His doctoral dissertation was on the \"Hamamatsu Chūnagon Monogatari\".', 'is_supported': True}, {'atom': 'The \"Hamamatsu Chūnagon Monogatari\" was written around 1056.', 'is_supported': True}, {'atom': 'The \"Hamamatsu Chūnagon Monogatari\" is a written work.', 'is_supported': True}, {'atom': 'He completed a doctoral degree.', 'is_supported': True}, {'atom': 'He wrote a dissertation.', 'is_supported': True}, {'atom': 'Vovin completed his Ph.D.', 'is_supported': True}, {'atom': 'Vovin served as a Junior Researcher.', 'is_supported': True}, {'atom': 'Vovin served as a Junior Researcher at the St. Petersburg Institute of Oriental Studies.', 'is_supported': True}, {'atom': 'Vovin served as a Junior Researcher at the St. Petersburg Institute of Oriental Studies from 1987 to 1990.', 'is_supported': True}, {'atom': 'He became Assistant Professor of Japanese.', 'is_supported': True}, {'atom': 'He became Assistant Professor of Japanese at the University of Michigan.', 'is_supported': True}, {'atom': 'He became Assistant Professor of Japanese at the University of Michigan in 1990.', 'is_supported': True}, {'atom': 'He became Assistant Professor of Japanese at Miami University in 1994.', 'is_supported': True}, {'atom': \"He became Assistant and Associate Professor at the University of Hawai'i.\", 'is_supported': True}, {'atom': \"He became Assistant and Associate Professor at the University of Hawai'i from 1995 to 2003.\", 'is_supported': True}, {'atom': \"He became a full professor at the University of Hawai'i.\", 'is_supported': True}, {'atom': \"He became a full professor at the University of Hawai'i in 2003.\", 'is_supported': True}, {'atom': \"He worked at the University of Hawai'i.\", 'is_supported': True}, {'atom': \"He worked at the University of Hawai'i until 2014.\", 'is_supported': False}, {'atom': 'Vovin has held visiting positions.', 'is_supported': True}, {'atom': 'Vovin has held visiting positions at various institutions.', 'is_supported': True}, {'atom': 'Vovin held a visiting position at the International Research Center for Japanese Studies in Kyoto.', 'is_supported': True}, {'atom': 'Vovin held a visiting position at the International Research Center for Japanese Studies in Kyoto in 2001-2002.', 'is_supported': True}, {'atom': 'Vovin held a visiting position at the International Research Center for Japanese Studies in Kyoto in 2008.', 'is_supported': True}, {'atom': 'Vovin held a visiting position at the Ruhr University Bochum in Germany.', 'is_supported': True}, {'atom': 'Vovin held a visiting position at the Ruhr University Bochum in Germany in 2008-2009.', 'is_supported': True}, {'atom': 'Vovin held a visiting position at the National Institute for Japanese Language and Linguistics in Tokyo, Japan.', 'is_supported': True}, {'atom': 'Vovin held a visiting position at the National Institute for Japanese Language and Linguistics in Tokyo, Japan in May-August 2012.', 'is_supported': True}, {'atom': 'Vovin is a researcher.', 'is_supported': True}, {'atom': \"Vovin's research specializes in Japanese historical linguistics.\", 'is_supported': True}, {'atom': \"Vovin's research emphasizes the study of the language's grammar, syntax, and vocabulary.\", 'is_supported': True}, {'atom': 'Japanese historical linguistics is a field of study.', 'is_supported': True}, {'atom': \"The study of the language's grammar, syntax, and vocabulary is a field of study within Japanese historical linguistics.\", 'is_supported': True}, {'atom': 'He is widely recognized.', 'is_supported': True}, {'atom': 'He is recognized as an expert.', 'is_supported': True}, {'atom': 'He is recognized as an expert in the field.', 'is_supported': True}, {'atom': 'He is an expert in the field.', 'is_supported': True}, {'atom': 'He has published numerous articles.', 'is_supported': True}, {'atom': 'He has published numerous books.', 'is_supported': True}, {'atom': 'He has published numerous articles and books.', 'is_supported': True}, {'atom': 'His publications focus on Japanese linguistics.', 'is_supported': True}]\n",
      "[{'atom': 'Krystyna Szczepańska is a person.', 'is_supported': True}, {'atom': 'Krystyna Szczepańska is a person mentioned in given documents.', 'is_supported': True}, {'atom': \"Krystyna Szczepańska's bio is based on the given documents.\", 'is_supported': True}, {'atom': \"Krystyna Szczepańska's bio is brief.\", 'is_supported': True}, {'atom': \"Krystyna Szczepańska's full name is Krystyna Szczepańska.\", 'is_supported': True}, {'atom': 'Krystyna Szczepańska is a stage and costume designer.', 'is_supported': True}, {'atom': 'Krystyna Szczepańska is Polish.', 'is_supported': True}, {'atom': 'Krystyna Szczepańska was born on August 18, 1950.', 'is_supported': True}, {'atom': 'Krystyna Szczepańska was born in Kraków.', 'is_supported': True}, {'atom': 'Her parents were Piotr Szczepański and Stanisława née Żółtańska.', 'is_supported': True}, {'atom': 'Her parents were both members of the Home Army.', 'is_supported': True}, {'atom': 'Her parents came from Berezhany.', 'is_supported': True}, {'atom': 'Krystyna has an elder sister named Alicja.', 'is_supported': True}, {'atom': 'Alicja is a lawyer.', 'is_supported': True}, {'atom': 'Their father is a lawyer.', 'is_supported': True}, {'atom': 'She was married to director Andrzej Maj.', 'is_supported': True}, {'atom': \"She designed sets for her husband's performances.\", 'is_supported': True}, {'atom': \"She designed costumes for her husband's performances.\", 'is_supported': True}, {'atom': 'Krystyna has two daughters.', 'is_supported': True}, {'atom': \"Krystyna's daughters are Magdalena and Elizabeth.\", 'is_supported': True}, {'atom': 'Magdalena is involved in the arts.', 'is_supported': True}, {'atom': 'Elizabeth is involved in the arts.', 'is_supported': True}, {'atom': \"Krystyna's daughters are involved in the arts.\", 'is_supported': True}, {'atom': 'Magdalena is a costume designer.', 'is_supported': True}, {'atom': 'Magdalena is a set designer.', 'is_supported': False}, {'atom': 'Magdalena is active in the advertising industry.', 'is_supported': True}, {'atom': 'Magdalena emigrated to Vancouver.', 'is_supported': False}, {'atom': 'Elizabeth is a set designer.', 'is_supported': False}, {'atom': \"Krystyna's professional career began in the 1970s.\", 'is_supported': True}, {'atom': \"Krystyna's professional career began as a stage and costume designer.\", 'is_supported': True}, {'atom': 'She has worked on numerous productions.', 'is_supported': True}, {'atom': 'She has worked on sets for theater and film.', 'is_supported': True}, {'atom': 'She has worked on costumes for theater and film.', 'is_supported': True}, {'atom': 'Krystyna has worked on numerous productions since the 1970s.', 'is_supported': True}, {'atom': 'She has designed interiors.', 'is_supported': True}, {'atom': 'She has designed decorations.', 'is_supported': True}, {'atom': 'She has designed interiors and decorations.', 'is_supported': True}, {'atom': 'She has designed interiors and decorations for events.', 'is_supported': True}, {'atom': 'She has designed interiors and decorations for competitions.', 'is_supported': False}, {'atom': 'She has designed interiors and decorations for various events.', 'is_supported': True}, {'atom': 'She has designed interiors and decorations for various competitions.', 'is_supported': False}, {'atom': 'She has also designed interiors and decorations for various events and competitions.', 'is_supported': True}, {'atom': \"Krystyna's work has been recognized.\", 'is_supported': True}, {'atom': \"Krystyna's work has been awarded.\", 'is_supported': True}, {'atom': \"Krystyna's work has been recognized and awarded in various competitions.\", 'is_supported': True}, {'atom': \"Krystyna's work was recognized and awarded in the 2004 European Combined Events Cup.\", 'is_supported': False}, {'atom': 'The 2004 European Combined Events Cup was held in Hengelo, Netherlands.', 'is_supported': False}, {'atom': 'Krystyna won a silver medal in the 2004 European Combined Events Cup.', 'is_supported': False}, {'atom': 'Krystyna is a designer.', 'is_supported': True}, {'atom': 'Krystyna is a retired athlete.', 'is_supported': False}, {'atom': 'Krystyna competed in the heptathlon.', 'is_supported': False}, {'atom': 'Krystyna competed in the heptathlon at the 2004 Olympics.', 'is_supported': False}, {'atom': 'The 2004 Olympics was held in Athens.', 'is_supported': False}, {'atom': 'She trained under Jerzy Skucha.', 'is_supported': True}, {'atom': 'Jerzy Skucha was the head coach.', 'is_supported': False}, {'atom': 'Her training was for the national team.', 'is_supported': False}, {'atom': 'She represented Poland in the sport.', 'is_supported': False}, {'atom': 'Krystyna Szczepańska is an artist.', 'is_supported': True}, {'atom': 'Krystyna Szczepańska is talented.', 'is_supported': True}, {'atom': 'Krystyna Szczepańska is accomplished.', 'is_supported': True}, {'atom': 'Krystyna Szczepańska has a diverse background.', 'is_supported': True}, {'atom': 'Krystyna Szczepańska has a background in design.', 'is_supported': True}, {'atom': 'Krystyna Szczepańska has a background in athletics.', 'is_supported': False}, {'atom': 'Her work has made a significant impact.', 'is_supported': True}, {'atom': 'Her work has made a significant impact in the arts community.', 'is_supported': True}, {'atom': 'Her work has made a significant impact in the sports community.', 'is_supported': False}, {'atom': 'Her work has made a significant impact in Poland.', 'is_supported': True}, {'atom': 'Her work has made a significant impact beyond Poland.', 'is_supported': True}]\n",
      "[{'atom': 'Jeffrey Viggiano has a brief bio.', 'is_supported': True}, {'atom': \"Jeffrey Viggiano's bio is based on provided documents.\", 'is_supported': True}, {'atom': 'Jeffrey Donald Viggiano was born on July 24, 1984.', 'is_supported': True}, {'atom': 'Jeffrey Donald Viggiano was born in the United States.', 'is_supported': True}, {'atom': 'His full name is Jeffrey Donald Viggiano.', 'is_supported': True}, {'atom': 'His nickname is Jeff.', 'is_supported': True}, {'atom': 'Jeffrey Donald Viggiano is an American.', 'is_supported': True}, {'atom': 'He is an American.', 'is_supported': True}, {'atom': 'He is an Italian.', 'is_supported': False}, {'atom': 'He is a professional basketball player.', 'is_supported': True}, {'atom': 'He is an American-born Italian.', 'is_supported': True}, {'atom': 'He is an American-born Italian professional basketball player.', 'is_supported': True}, {'atom': 'Viggiano played high school basketball.', 'is_supported': True}, {'atom': 'Viggiano played high school basketball at Suffield High School.', 'is_supported': True}, {'atom': 'Suffield High School is located in West Suffield, Connecticut.', 'is_supported': True}, {'atom': 'Viggiano won the 2000 Gatorade Player of the Year in the state of Connecticut.', 'is_supported': True}, {'atom': 'Viggiano won the State Championship.', 'is_supported': True}, {'atom': \"Dan Presser was Viggiano's teammate.\", 'is_supported': True}, {'atom': 'Viggiano won the State Championship alongside Dan Presser.', 'is_supported': True}, {'atom': 'Viggiano played college basketball.', 'is_supported': True}, {'atom': 'Viggiano played for four seasons.', 'is_supported': True}, {'atom': 'Viggiano played at the University of Massachusetts Amherst.', 'is_supported': True}, {'atom': 'The University of Massachusetts Amherst is also known as UMass.', 'is_supported': True}, {'atom': 'Viggiano played with the UMass Minutemen.', 'is_supported': True}, {'atom': 'Viggiano played four seasons with the UMass Minutemen.', 'is_supported': True}, {'atom': 'Viggiano played four seasons with the UMass Minutemen after high school.', 'is_supported': True}, {'atom': 'In 2008, he was signed by Nuova Pallacanestro Pavia.', 'is_supported': True}, {'atom': 'Nuova Pallacanestro Pavia is an Italian LegADue team.', 'is_supported': True}, {'atom': 'He averaged 14.1 points per game.', 'is_supported': True}, {'atom': 'He averaged 4.2 rebounds per game.', 'is_supported': True}, {'atom': 'He gained the call of Armani Jeans Milano.', 'is_supported': True}, {'atom': 'Armani Jeans Milano is a powerhouse team.', 'is_supported': True}, {'atom': 'Viggiano has played professionally.', 'is_supported': True}, {'atom': 'Viggiano has played professionally in several countries.', 'is_supported': True}, {'atom': 'Viggiano has played professionally in Sweden.', 'is_supported': False}, {'atom': 'Viggiano has played professionally in Hungary.', 'is_supported': False}, {'atom': 'He played professionally with Norrköping Dolphins.', 'is_supported': True}, {'atom': 'He played professionally with Soproni Sördögök KC.', 'is_supported': True}, {'atom': 'He has played for several Italian teams.', 'is_supported': True}, {'atom': 'He has played for Angelico Biella.', 'is_supported': True}, {'atom': 'He has played for Benetton Treviso.', 'is_supported': True}, {'atom': 'He has played for Enel Brindisi.', 'is_supported': True}, {'atom': 'He has played for Umana Reyer Venezia.', 'is_supported': True}, {'atom': 'Viggiano signed with Montepaschi Siena in 2014.', 'is_supported': False}, {'atom': 'Viggiano re-signed with Umana Reyer Venezia in 2015.', 'is_supported': True}, {'atom': 'Viggiano is still playing for Umana Reyer Venezia.', 'is_supported': False}, {'atom': 'Umana Reyer Venezia is a team.', 'is_supported': True}, {'atom': 'Viggiano plays for Umana Reyer Venezia.', 'is_supported': True}, {'atom': 'Viggiano plays for Umana Reyer Venezia in the Lega Basket Serie A.', 'is_supported': True}, {'atom': 'Viggiano has been playing for Umana Reyer Venezia since 2016.', 'is_supported': True}, {'atom': 'The Lega Basket Serie A is a league.', 'is_supported': True}]\n",
      "[{'atom': 'Earl Garrison is a person.', 'is_supported': True}, {'atom': 'Earl Garrison has a bio.', 'is_supported': True}, {'atom': 'The bio is based on provided documents.', 'is_supported': True}, {'atom': 'The bio is about Earl Garrison.', 'is_supported': True}, {'atom': 'Earl Garrison was born in St Thomas, Jamaica.', 'is_supported': False}, {'atom': 'Earl Garrison was born on June 30, 1952.', 'is_supported': False}, {'atom': \"Earl Garrison's parents are Ernest Samuel Garrison and Albertha Adassa Garrison.\", 'is_supported': True}, {'atom': 'His father was a cabinet maker.', 'is_supported': False}, {'atom': 'His father was born in Hopewell.', 'is_supported': False}, {'atom': 'His father was born in Hanover.', 'is_supported': False}, {'atom': 'His mother was a school teacher.', 'is_supported': True}, {'atom': 'His mother was born in Somerset.', 'is_supported': False}, {'atom': 'His mother was born in St Andrew.', 'is_supported': False}, {'atom': \"Earl's parents migrated to Britain.\", 'is_supported': False}, {'atom': \"Earl's parents migrated to Britain in 1952.\", 'is_supported': False}, {'atom': 'They migrated to pursue a role in a new play.', 'is_supported': False}, {'atom': 'Earl has a son named David Earl Garrison.', 'is_supported': False}, {'atom': 'David Earl Garrison is an American actor.', 'is_supported': False}, {'atom': 'David Earl Garrison is known for his role as Steve Rhoades.', 'is_supported': False}, {'atom': 'Married... with Children is a television series.', 'is_supported': False}, {'atom': 'David was born in Long Branch, New Jersey.', 'is_supported': False}, {'atom': 'David was born on June 30, 1952.', 'is_supported': False}, {'atom': \"David's parents are Earl B. Garrison and Maude B. Garrison.\", 'is_supported': True}, {'atom': 'Earl B. Garrison was a school administrator.', 'is_supported': False}, {'atom': 'Maude B. Garrison was a teacher.', 'is_supported': False}, {'atom': 'He graduated from Freehold High School in 1970.', 'is_supported': False}, {'atom': 'He began his acting career.', 'is_supported': False}, {'atom': 'He began his acting career in live theater.', 'is_supported': False}, {'atom': \"Earl's grandfather was Ford Garrison.\", 'is_supported': True}, {'atom': 'Ford Garrison was an American.', 'is_supported': False}, {'atom': 'Ford Garrison was a professional baseball player.', 'is_supported': False}, {'atom': 'Ford Garrison was a coach.', 'is_supported': False}, {'atom': 'He was born on August 29, 1915.', 'is_supported': False}, {'atom': 'He was born in Greenville, South Carolina.', 'is_supported': False}, {'atom': 'He stood tall.', 'is_supported': True}, {'atom': 'He weighed a certain amount.', 'is_supported': False}, {'atom': 'He played 185 games in Major League Baseball.', 'is_supported': False}, {'atom': 'He played for the Boston Red Sox.', 'is_supported': False}, {'atom': 'He played for the Boston Red Sox from 1943-1944.', 'is_supported': False}, {'atom': 'He played for the Philadelphia Athletics.', 'is_supported': False}, {'atom': 'He played for the Philadelphia Athletics from 1944-1946.', 'is_supported': False}, {'atom': 'Ford had a long minor league career.', 'is_supported': False}, {'atom': 'Ford played 1,822 games during his minor league career.', 'is_supported': False}, {'atom': \"Ford's minor league career lasted from 1938-1943.\", 'is_supported': False}, {'atom': \"Ford's minor league career lasted from 1946-1952.\", 'is_supported': False}, {'atom': \"Ford's minor league career lasted from 1954-1956.\", 'is_supported': False}, {'atom': 'He had a Major League playing career.', 'is_supported': False}, {'atom': 'The bulk of his Major League playing career took place during World War II.', 'is_supported': False}, {'atom': 'He missed part of the 1945 season.', 'is_supported': False}, {'atom': 'He missed part of the 1945 season while serving in the military.', 'is_supported': True}, {'atom': 'He served in the military during World War II.', 'is_supported': False}, {'atom': 'Earl Garrison is not a well-known historical figure.', 'is_supported': False}, {'atom': 'Earl Garrison is not a celebrity.', 'is_supported': True}, {'atom': 'There may not be much information available about Earl Garrison.', 'is_supported': False}, {'atom': 'The documents provided contain information about Earl Garrison.', 'is_supported': True}]\n",
      "[{'atom': 'Maggie Cogan is the subject of the provided documents.', 'is_supported': True}, {'atom': \"The documents contain information about Maggie Cogan's life.\", 'is_supported': True}, {'atom': 'The documents provide a brief biography of Maggie Cogan.', 'is_supported': True}, {'atom': 'Maggie Cogan was born in a town near New York City.', 'is_supported': True}, {'atom': 'Maggie Cogan was raised in a town near New York City.', 'is_supported': True}, {'atom': 'She became a minor celebrity in the early 1960s.', 'is_supported': True}, {'atom': 'She became the first female horse and carriage driver in Central Park.', 'is_supported': True}, {'atom': 'She worked for the Plaza Hotel.', 'is_supported': True}, {'atom': 'She became a horse and carriage driver in Central Park in the early 1960s.', 'is_supported': True}, {'atom': 'She worked for the Plaza Hotel in the early 1960s.', 'is_supported': True}, {'atom': 'She worked as a horse and carriage driver in Central Park for the Plaza Hotel.', 'is_supported': True}, {'atom': 'Her career took off.', 'is_supported': True}, {'atom': 'Her career took off after she appeared in a 1967 Universal newsreel.', 'is_supported': True}, {'atom': 'She appeared in a 1967 Universal newsreel.', 'is_supported': True}, {'atom': 'The newsreel featured her and her horse and carriage.', 'is_supported': True}, {'atom': \"She later appeared on the quiz show What's My Line?\", 'is_supported': True}, {'atom': \"She appeared on the quiz show What's My Line? in 1968.\", 'is_supported': False}, {'atom': 'She left her career in the 1960s.', 'is_supported': True}, {'atom': 'She left her career briefly in the 1960s.', 'is_supported': True}, {'atom': 'She resumed her career in 1970.', 'is_supported': True}, {'atom': 'She befriended Lisa Ryan.', 'is_supported': True}, {'atom': 'Lisa Ryan is the daughter of actor Robert Ryan.', 'is_supported': True}, {'atom': 'Actor Robert Ryan became a horse-and-carriage driver.', 'is_supported': False}, {'atom': 'Lisa Ryan became a horse-and-carriage driver.', 'is_supported': True}, {'atom': 'Cogan had two marriages.', 'is_supported': True}, {'atom': 'Cogan had two unsuccessful marriages.', 'is_supported': True}, {'atom': 'Cogan gave birth to two sons.', 'is_supported': True}, {'atom': 'Cogan lost custody of her sons.', 'is_supported': True}, {'atom': 'Cogan lost custody of her sons due to her mental health issues.', 'is_supported': True}, {'atom': 'Cogan had mental health issues.', 'is_supported': True}, {'atom': 'In 1977, Cogan began to show signs of mental illness.', 'is_supported': True}, {'atom': 'Cogan was living with Ryan at the time.', 'is_supported': True}, {'atom': 'Cogan was committed to a mental hospital.', 'is_supported': True}, {'atom': 'Cogan was committed to a mental hospital by her parents.', 'is_supported': True}, {'atom': \"Cogan's parents made the decision to commit her.\", 'is_supported': True}, {'atom': 'She left her career.', 'is_supported': True}, {'atom': 'She left her career for good.', 'is_supported': True}, {'atom': 'After leaving her career for good, she became homeless.', 'is_supported': True}, {'atom': 'She became homeless.', 'is_supported': True}, {'atom': 'She lived in Central Park.', 'is_supported': True}, {'atom': 'She lived in Central Park for several years.', 'is_supported': True}, {'atom': 'Director Michel Negroponte discovered Cogan.', 'is_supported': True}, {'atom': 'Cogan was living in Central Park.', 'is_supported': True}, {'atom': 'Michel Negroponte made a documentary film.', 'is_supported': True}, {'atom': \"The documentary film is titled Jupiter's Wife.\", 'is_supported': True}, {'atom': \"The documentary film is about Cogan's life.\", 'is_supported': True}, {'atom': 'Cogan faced challenges.', 'is_supported': True}, {'atom': 'Cogan remained determined.', 'is_supported': True}, {'atom': 'Cogan remained independent.', 'is_supported': False}, {'atom': \"Cogan's life reflected resilience.\", 'is_supported': True}, {'atom': \"Cogan's life reflected determination.\", 'is_supported': True}, {'atom': 'Cogan was a true New Yorker.', 'is_supported': True}]\n",
      "[{'atom': 'Albert Outler is the subject of the provided documents.', 'is_supported': True}, {'atom': 'The provided documents are used to create a bio of Albert Outler.', 'is_supported': True}, {'atom': \"Albert Outler's bio is based on the provided documents.\", 'is_supported': True}, {'atom': 'Albert Outler was a 20th-century American.', 'is_supported': True}, {'atom': 'Albert Outler was a Methodist theologian.', 'is_supported': True}, {'atom': 'Albert Outler was a philosopher.', 'is_supported': False}, {'atom': 'Albert Outler was born on November 17, 1908.', 'is_supported': True}, {'atom': 'Albert Outler was born in Georgia.', 'is_supported': True}, {'atom': 'He is widely regarded as one of the most important Wesley scholars.', 'is_supported': True}, {'atom': 'He is widely regarded as one of the most important Wesley scholars in the history of the church.', 'is_supported': True}, {'atom': 'He is the first real United Methodist theologian.', 'is_supported': True}, {'atom': 'Outler was an ordained Methodist elder.', 'is_supported': True}, {'atom': 'Outler served in several appointments.', 'is_supported': True}, {'atom': 'Outler graduated from Wofford College.', 'is_supported': True}, {'atom': 'Outler earned his Doctor of Philosophy degree.', 'is_supported': True}, {'atom': 'Outler earned his Doctor of Philosophy degree from Yale University.', 'is_supported': True}, {'atom': 'He taught at Yale.', 'is_supported': True}, {'atom': 'He taught at Duke University.', 'is_supported': True}, {'atom': 'He taught at both Yale and Duke University.', 'is_supported': True}, {'atom': 'He began a long tenure at Southern Methodist University.', 'is_supported': True}, {'atom': 'He began a long tenure at Southern Methodist University in Texas.', 'is_supported': True}, {'atom': 'Outler was a delegate to the Consultation on Church Union.', 'is_supported': True}, {'atom': 'Outler served on the Faith & Order board of the World Council of Churches.', 'is_supported': True}, {'atom': 'Outler was an official observer at the Second Vatican Council.', 'is_supported': True}, {'atom': \"He is credited with recognizing John Wesley's method for theologizing.\", 'is_supported': True}, {'atom': 'The method is referred to as the Wesleyan Quadrilateral.', 'is_supported': True}, {'atom': 'The Wesleyan Quadrilateral consists of scripture, church tradition, reason, and personal experience.', 'is_supported': True}, {'atom': 'This understanding of Wesleyan theology is prevalent.', 'is_supported': True}, {'atom': 'This understanding of Wesleyan theology is prevalent throughout Methodism.', 'is_supported': True}, {'atom': 'This understanding of Wesleyan theology is prevalent throughout the United Methodist Church.', 'is_supported': True}, {'atom': 'Wesleyan theology is prevalent throughout Methodism.', 'is_supported': True}, {'atom': 'Wesleyan theology is prevalent throughout the United Methodist Church.', 'is_supported': True}, {'atom': 'The United Methodist Church practices Wesleyan theology.', 'is_supported': True}, {'atom': 'Outler was a key figure.', 'is_supported': True}, {'atom': 'Outler was a key figure in organizing.', 'is_supported': True}, {'atom': 'Outler was a key figure in organizing the theological work.', 'is_supported': True}, {'atom': 'Outler was a key figure in organizing the theological work of the United Methodist Church.', 'is_supported': True}, {'atom': 'The United Methodist Church was formed in 1968.', 'is_supported': True}, {'atom': 'Outler organized the theological work of the United Methodist Church.', 'is_supported': True}, {'atom': 'Outler organized the theological work of the United Methodist Church after its formation in 1968.', 'is_supported': True}, {'atom': 'He wrote works.', 'is_supported': True}, {'atom': 'He edited works.', 'is_supported': True}, {'atom': 'He wrote and edited a great many works.', 'is_supported': True}, {'atom': 'His works have been collected.', 'is_supported': True}, {'atom': 'His works have been collected in the \"Albert Outler Library\" series.', 'is_supported': True}, {'atom': 'The \"Albert Outler Library\" series was published by Bristol House.', 'is_supported': True}, {'atom': 'His works have been collected by Bristol House.', 'is_supported': True}, {'atom': 'Many of his works have been collected in the \"Albert Outler Library\" series by Bristol House publishers.', 'is_supported': True}, {'atom': \"Outler's work has proven influential.\", 'is_supported': True}, {'atom': \"Outler's work has proven influential to those in the paleo-orthodox movement.\", 'is_supported': True}, {'atom': \"Outler's work has proven influential to those in contemporary evangelicalism.\", 'is_supported': True}, {'atom': \"Thomas C. Oden has been notably influenced by Outler's work.\", 'is_supported': True}, {'atom': 'Outler passed away on September 1, 1989.', 'is_supported': True}, {'atom': \"Outler's legacy continues to be felt.\", 'is_supported': True}, {'atom': \"Outler's legacy continues to be felt in the world of Methodist theology.\", 'is_supported': True}, {'atom': \"Outler's legacy continues to be felt beyond the world of Methodist theology.\", 'is_supported': True}, {'atom': 'He has made contributions to the field of theology.', 'is_supported': True}, {'atom': 'His contributions have been widely recognized.', 'is_supported': True}, {'atom': 'He is widely regarded as one of the most important theologians.', 'is_supported': True}, {'atom': 'He is widely regarded as one of the most important theologians of the 20th century.', 'is_supported': True}]\n",
      "[{'atom': 'Meg Thalken is a person.', 'is_supported': True}, {'atom': \"Meg Thalken's bio is based on provided documents.\", 'is_supported': True}, {'atom': \"Meg Thalken's bio is brief.\", 'is_supported': True}, {'atom': 'Meg Thalken is an American.', 'is_supported': True}, {'atom': 'Meg Thalken is an intermedia artist.', 'is_supported': False}, {'atom': 'Meg Thalken is known for her photographic explorations.', 'is_supported': False}, {'atom': \"Meg Thalken's photographic explorations focus on loss.\", 'is_supported': False}, {'atom': 'Thalken was born in Nebraska in 1952.', 'is_supported': False}, {'atom': 'Thalken received her BA in Psychology from Barat College in 1974.', 'is_supported': False}, {'atom': 'Thalken received her MFA in Photography from Yale University in 1988.', 'is_supported': False}, {'atom': 'Thalken went to Yale.', 'is_supported': True}, {'atom': 'Thalken was awarded several grants and fellowships.', 'is_supported': False}, {'atom': 'Thalken was awarded the Yale Scholarship.', 'is_supported': False}, {'atom': 'Thalken was awarded the Artist Support Grant.', 'is_supported': True}, {'atom': 'Thalken was awarded the Alice Kimball English Traveling Fellowship.', 'is_supported': True}, {'atom': 'Thalken received the Yale Scholarship during her time at Yale.', 'is_supported': True}, {'atom': 'Thalken received the Artist Support Grant during her time at Yale.', 'is_supported': True}, {'atom': 'Thalken received the Alice Kimball English Traveling Fellowship during her time at Yale.', 'is_supported': True}, {'atom': 'Thalken completed an Artist Residency Fellowship.', 'is_supported': True}, {'atom': 'The fellowship was completed in 1995.', 'is_supported': False}, {'atom': 'The Artist Residency Fellowship was completed at Georgia State University.', 'is_supported': True}, {'atom': 'Thalken has lived at Georgia State University since 1990.', 'is_supported': False}, {'atom': 'Thalken has worked at Georgia State University since 1990.', 'is_supported': False}, {'atom': 'Thalken has lived and worked at Georgia State University since 1990.', 'is_supported': False}, {'atom': 'She has received research grants.', 'is_supported': False}, {'atom': 'She has received individual artist research grants.', 'is_supported': True}, {'atom': 'She has received individual artist research grants from various organizations.', 'is_supported': True}, {'atom': 'The organizations include: the Welch School of Art and Design, the College of Arts and Sciences of Georgia State University, the Georgia Council for the Arts, the Dekalb Council for the Arts, the Board of Regents of the University System of Georgia, and the Hartsfield Jackson Airport Art Program.', 'is_supported': False}, {'atom': \"Thalken's work has received honors.\", 'is_supported': True}, {'atom': 'The honors were from several organizations.', 'is_supported': False}, {'atom': 'The organizations include the Atlanta Photography Gallery.', 'is_supported': False}, {'atom': 'The organizations include the Alice and William Jenkins Gallery.', 'is_supported': False}, {'atom': 'The organizations include the Georgia Commission on Women.', 'is_supported': False}, {'atom': 'The organizations include Professional Women Photographers.', 'is_supported': False}, {'atom': 'The organizations include the New York Center for Photographic Art International.', 'is_supported': False}, {'atom': 'The organizations include American Art Today: Figures.', 'is_supported': False}, {'atom': 'The organizations include ArtsATL.', 'is_supported': False}, {'atom': 'The Critics Memorable Art was at The Hambidge Center.', 'is_supported': False}, {'atom': 'The Hambidge Center is located in Rabun Gap, Georgia.', 'is_supported': False}, {'atom': \"Thalken's influences lie beyond the realm of photography.\", 'is_supported': False}, {'atom': 'Thalken is inspired by readings.', 'is_supported': True}, {'atom': 'Thalken is inspired by readings in philosophy.', 'is_supported': True}, {'atom': 'Thalken is inspired by readings in anthropology.', 'is_supported': False}, {'atom': 'Thalken is inspired by readings in fiction.', 'is_supported': False}, {'atom': 'Thalken is inspired by readings in poetry.', 'is_supported': True}, {'atom': 'Thalken is inspired by readings in critical writings.', 'is_supported': False}, {'atom': 'Some of her influences include Susan Sontag.', 'is_supported': False}, {'atom': 'Some of her influences include Rachel Poliquin.', 'is_supported': False}, {'atom': 'Some of her influences include C. K. Williams.', 'is_supported': False}, {'atom': 'Some of her influences include Roland Barthes.', 'is_supported': False}, {'atom': 'Some of her influences include Guillermo Bonfil Batalla.', 'is_supported': False}, {'atom': 'Some of her influences include Octavio Paz.', 'is_supported': False}, {'atom': 'Thalken is an Associate Professor of Photography.', 'is_supported': False}, {'atom': 'Thalken works at the Ernest G. Welch School of Art and Design.', 'is_supported': False}, {'atom': 'Thalken has taught at Georgia State University since 1990.', 'is_supported': True}, {'atom': 'Thalken has a career.', 'is_supported': True}, {'atom': 'Thalken has been recognized for her ability.', 'is_supported': True}, {'atom': 'Thalken is able to carefully convey subject matter.', 'is_supported': True}, {'atom': \"Thalken's subject matter engages the viewer perceptually.\", 'is_supported': False}, {'atom': \"Thalken's subject matter engages the viewer emotionally.\", 'is_supported': False}, {'atom': \"Thalken's subject matter engages the viewer viscerally.\", 'is_supported': False}, {'atom': \"Thalken's subject matter engages the viewer intellectually.\", 'is_supported': False}]\n",
      "[{'atom': \"Rigoberto Torres' bio is based on documents provided.\", 'is_supported': True}, {'atom': 'There are documents about Rigoberto Torres.', 'is_supported': True}, {'atom': 'These documents provide information about Rigoberto Torres.', 'is_supported': True}, {'atom': 'Rigoberto Torres is a sculptor.', 'is_supported': True}, {'atom': 'Rigoberto Torres was born in Aguadilla.', 'is_supported': True}, {'atom': 'Rigoberto Torres was born in Puerto Rico.', 'is_supported': True}, {'atom': 'Rigoberto Torres was born in 1960.', 'is_supported': True}, {'atom': 'He began his career working in a factory.', 'is_supported': True}, {'atom': 'The factory produced religious statuary.', 'is_supported': True}, {'atom': 'He worked in a factory where religious figures were cast.', 'is_supported': True}, {'atom': 'He produced religious statuary.', 'is_supported': True}, {'atom': 'He began his career producing religious statuary.', 'is_supported': True}, {'atom': 'He began his career in a factory producing religious statuary.', 'is_supported': True}, {'atom': 'Torres is known for his sculptures.', 'is_supported': True}, {'atom': 'Torres is known for his sculptures in plaster and fiberglass.', 'is_supported': True}, {'atom': \"Torres' sculptures depict his neighbors in the Bronx.\", 'is_supported': True}, {'atom': 'Torres created his sculptures in collaboration with his partner John Ahearn.', 'is_supported': True}, {'atom': 'The collaboration between Torres and Ahearn took place between 1981 and 1985.', 'is_supported': True}, {'atom': 'These works were referred to as the \"South Bronx Hall of Fame.\"', 'is_supported': True}, {'atom': 'The purpose of these works was to recognize and honor ordinary people.', 'is_supported': True}, {'atom': 'The purpose of these works was not to recognize and honor famous or heroic figures.', 'is_supported': True}, {'atom': 'Torres was born in Aguadilla, Puerto Rico.', 'is_supported': True}, {'atom': 'Torres moved to New York City.', 'is_supported': True}, {'atom': 'Torres moved to New York City at the age of four.', 'is_supported': True}, {'atom': 'Torres was four years old when he moved to New York City.', 'is_supported': True}, {'atom': 'He returned to Puerto Rico in 1990.', 'is_supported': True}, {'atom': 'He produced twenty-two works.', 'is_supported': True}, {'atom': 'He produced the work \"Ruth Fernandez in 1991.\".', 'is_supported': True}, {'atom': 'Torres is not related to Rigoberto Urán.', 'is_supported': True}, {'atom': 'Rigoberto Urán is a Colombian professional road racing cyclist.', 'is_supported': False}, {'atom': 'Rigoberto Urán was born in 1987.', 'is_supported': False}]\n",
      "[{'atom': 'Shane Fontayne is an English.', 'is_supported': True}, {'atom': 'Shane Fontayne is a rock guitarist.', 'is_supported': True}, {'atom': 'Shane Fontayne has been active in the music industry.', 'is_supported': True}, {'atom': 'Shane Fontayne has been active in the music industry since the 1970s.', 'is_supported': True}, {'atom': 'Shane Fontayne is an English rock guitarist.', 'is_supported': True}, {'atom': 'Shane Fontayne has been active since the 1970s.', 'is_supported': True}, {'atom': 'He was born on April 29, 1954.', 'is_supported': True}, {'atom': 'He was born in London, England.', 'is_supported': True}, {'atom': 'He is known for his work with a variety of artists.', 'is_supported': True}, {'atom': 'Bruce Springsteen is an artist.', 'is_supported': True}, {'atom': 'He has worked with Bruce Springsteen.', 'is_supported': True}, {'atom': 'Ian Hunter is an artist.', 'is_supported': True}, {'atom': 'He has worked with Ian Hunter.', 'is_supported': True}, {'atom': 'Van Zant is an artist.', 'is_supported': True}, {'atom': 'He has worked with Van Zant.', 'is_supported': True}, {'atom': 'John Waite is an artist.', 'is_supported': True}, {'atom': 'He has worked with John Waite.', 'is_supported': True}, {'atom': 'Chris Botti is an artist.', 'is_supported': True}, {'atom': 'He has worked with Chris Botti.', 'is_supported': True}, {'atom': 'Joe Cocker is an artist.', 'is_supported': True}, {'atom': 'He has worked with Joe Cocker.', 'is_supported': True}, {'atom': 'Johnny Hallyday is an artist.', 'is_supported': True}, {'atom': 'He has worked with Johnny Hallyday.', 'is_supported': True}, {'atom': 'Marc Cohn is an artist.', 'is_supported': True}, {'atom': 'He has worked with Marc Cohn.', 'is_supported': True}, {'atom': 'Randy VanWarmer is an artist.', 'is_supported': False}, {'atom': 'He has worked with Randy VanWarmer.', 'is_supported': True}, {'atom': 'Graham Nash is an artist.', 'is_supported': True}, {'atom': 'He has worked with Graham Nash.', 'is_supported': True}, {'atom': 'Mick Ronson is an artist.', 'is_supported': False}, {'atom': 'He has worked with Mick Ronson.', 'is_supported': True}, {'atom': \"Fontayne's career began in the 1970s.\", 'is_supported': True}, {'atom': 'Fontayne was associated with the English psychedelic band Byzantium.', 'is_supported': True}, {'atom': 'Byzantium was a band.', 'is_supported': True}, {'atom': 'Byzantium was a psychedelic band.', 'is_supported': True}, {'atom': 'Fontayne was associated with Byzantium in the 1970s.', 'is_supported': True}, {'atom': 'He was a member of a band.', 'is_supported': True}, {'atom': 'The band was called Ora.', 'is_supported': True}, {'atom': 'Ora was a precursor band.', 'is_supported': True}, {'atom': 'He played lead electric guitar.', 'is_supported': True}, {'atom': 'He played lead electric guitar for Ann and Nancy Wilson\\'s version of \"Stairway to Heaven\" at the Kennedy Center Honors ceremony.', 'is_supported': True}, {'atom': 'Ann and Nancy Wilson have a version of \"Stairway to Heaven\".', 'is_supported': True}, {'atom': '\"Stairway to Heaven\" is a song.', 'is_supported': True}, {'atom': 'Ann and Nancy Wilson performed \"Stairway to Heaven\" at the Kennedy Center Honors ceremony.', 'is_supported': True}, {'atom': 'The Kennedy Center Honors ceremony took place in the 1990s.', 'is_supported': False}, {'atom': 'Jason Bonham is a drummer.', 'is_supported': True}, {'atom': \"Jason Bonham's father is also a drummer.\", 'is_supported': True}, {'atom': \"Jason Bonham's father was not able to perform at the Kennedy Center Honors ceremony.\", 'is_supported': True}, {'atom': \"Jason Bonham took his father's position on drums.\", 'is_supported': True}, {'atom': 'Fontayne has been married to Mackenzie Phillips.', 'is_supported': True}, {'atom': 'The marriage lasted from 1986 to 2000.', 'is_supported': True}, {'atom': 'They have a son together named Shane.', 'is_supported': True}, {'atom': 'Shane was born in 1987.', 'is_supported': True}, {'atom': 'His older brother Peter is well-known.', 'is_supported': True}, {'atom': 'Peter is a music critic.', 'is_supported': True}, {'atom': 'Peter is a music critic in Japan.', 'is_supported': True}, {'atom': 'Fontayne collaborated with Steve Forbert.', 'is_supported': True}, {'atom': 'Their collaboration resulted in the 1980 album \"Little Stevie Orbit.\"', 'is_supported': True}, {'atom': 'Fontayne worked with Maria McKee.', 'is_supported': True}, {'atom': 'Their collaboration resulted in her 1989 album.', 'is_supported': True}, {'atom': 'Fontayne played guitar for Joe Cocker.', 'is_supported': True}, {'atom': 'His guitar work is featured on the 2004 album \"Heart & Soul.\".', 'is_supported': True}, {'atom': 'He has been a guitarist.', 'is_supported': True}, {'atom': 'He has been the guitarist for French rocker Johnny Hallyday.', 'is_supported': True}, {'atom': 'Johnny Hallyday is a French rocker.', 'is_supported': True}, {'atom': 'He has been the guitarist for Johnny Hallyday on his 1995 tour.', 'is_supported': True}, {'atom': 'The 1995 tour was called \"Lorada tour.\"', 'is_supported': True}, {'atom': 'He has been the guitarist for Johnny Hallyday on his 1996 concert in Las Vegas.', 'is_supported': True}, {'atom': \"Fontayne has been Marc Cohn's touring guitarist since 1998.\", 'is_supported': True}, {'atom': 'Fontayne has recently worked with Crosby, Stills & Nash on tour.', 'is_supported': True}, {'atom': 'Fontayne has recently worked with Graham Nash (solo) on tour.', 'is_supported': True}, {'atom': 'Fontayne produced Nash\\'s 2016 album \"This Path Tonight.\".', 'is_supported': True}]\n",
      "[{'atom': 'The documents provide information about Michael H. Schneider Sr.', 'is_supported': True}, {'atom': 'Michael H. Schneider Sr. has a bio.', 'is_supported': True}, {'atom': 'The bio is based on the information provided in the documents.', 'is_supported': True}, {'atom': 'Michael H. Schneider Sr. was born in San Antonio.', 'is_supported': True}, {'atom': 'Michael H. Schneider Sr. was born in Texas.', 'is_supported': True}, {'atom': 'Michael H. Schneider Sr. was born in 1943.', 'is_supported': True}, {'atom': 'He received an Associate of Arts degree.', 'is_supported': True}, {'atom': 'He received an Associate of Arts degree from Lon Morris College.', 'is_supported': True}, {'atom': 'He received a Bachelor of Science degree.', 'is_supported': True}, {'atom': 'He received a Bachelor of Science degree from Stephen F. Austin State University.', 'is_supported': True}, {'atom': 'He received a Juris Doctor.', 'is_supported': True}, {'atom': 'He received a Juris Doctor from the University of Houston Law Center.', 'is_supported': True}, {'atom': 'He received an Associate of Arts degree from Lon Morris College in 1963.', 'is_supported': True}, {'atom': 'He received a Bachelor of Science degree from Stephen F. Austin State University in 1965.', 'is_supported': True}, {'atom': 'He received a Juris Doctor from the University of Houston Law Center in 1970.', 'is_supported': True}, {'atom': 'Schneider graduated from law school.', 'is_supported': True}, {'atom': 'Schneider served as an assistant district attorney.', 'is_supported': True}, {'atom': \"Schneider served as an assistant district attorney in the Harris County, Texas District Attorney's Office.\", 'is_supported': True}, {'atom': \"Schneider served as an assistant district attorney in the Harris County, Texas District Attorney's Office from 1971 to 1975.\", 'is_supported': True}, {'atom': 'He entered private practice in Texas.', 'is_supported': True}, {'atom': 'He entered private practice in 1975.', 'is_supported': True}, {'atom': 'He retired on October 1, 2016.', 'is_supported': True}, {'atom': 'He retired from private practice.', 'is_supported': True}, {'atom': 'He retired from private practice in Texas.', 'is_supported': True}, {'atom': 'He retired on October 1, 2016 after working in private practice in Texas.', 'is_supported': True}, {'atom': 'Schneider is a former United States District Judge.', 'is_supported': True}, {'atom': 'Schneider was a United States District Judge.', 'is_supported': True}, {'atom': 'Schneider was a United States District Judge for the Eastern District of Texas.', 'is_supported': True}, {'atom': 'He was appointed to the bench in 1985.', 'is_supported': False}, {'atom': 'He served in that capacity until his retirement.', 'is_supported': True}, {'atom': 'Schneider has a legal career.', 'is_supported': True}, {'atom': 'Schneider has been involved in politics.', 'is_supported': False}, {'atom': 'Schneider has been involved in politics in addition to his legal career.', 'is_supported': True}, {'atom': 'He served as a member of the Nevada Senate.', 'is_supported': False}, {'atom': 'He represented Clark County District 11.', 'is_supported': False}, {'atom': 'He represented Clark County District 11 from 1996 to 2012.', 'is_supported': False}, {'atom': 'He retired from the Nevada Senate in 2012.', 'is_supported': False}, {'atom': 'He retired due to term limits.', 'is_supported': False}, {'atom': 'Schneider served in the Nevada Senate.', 'is_supported': False}, {'atom': 'Schneider served in the Nevada Senate prior to 1992.', 'is_supported': False}, {'atom': 'Schneider served in the Nevada Senate prior to 1996.', 'is_supported': False}, {'atom': 'Schneider was a member of the Nevada Assembly.', 'is_supported': False}, {'atom': 'Schneider was a member of the Nevada Assembly from 1992.', 'is_supported': False}, {'atom': 'Schneider was a member of the Nevada Assembly through 1996.', 'is_supported': False}, {'atom': 'Schneider was a member of the Nevada Assembly from 1992 through 1996.', 'is_supported': False}, {'atom': 'In 2005, Schneider was sued.', 'is_supported': False}, {'atom': 'Schneider was sued by his 2004 Republican opponent.', 'is_supported': False}, {'atom': 'Schneider was sued by Danny Tarkanian.', 'is_supported': False}, {'atom': 'Schneider was sued for defamation.', 'is_supported': False}, {'atom': \"Tarkanian was Schneider's Republican opponent in 2004.\", 'is_supported': True}, {'atom': 'Tarkanian sued Schneider for defamation.', 'is_supported': False}, {'atom': 'Schneider accused Tarkanian.', 'is_supported': False}, {'atom': 'Schneider accused Tarkanian of setting up telemarketing companies.', 'is_supported': False}, {'atom': 'Tarkanian set up telemarketing companies.', 'is_supported': False}, {'atom': 'The telemarketing companies were found to be running scams.', 'is_supported': False}, {'atom': 'The scams victimized senior citizens.', 'is_supported': False}, {'atom': 'Michael H. Schneider Sr. has had a distinguished career.', 'is_supported': True}, {'atom': 'Michael H. Schneider Sr. has had a distinguished career in the legal field.', 'is_supported': True}, {'atom': 'Michael H. Schneider Sr. has had a distinguished career in the political field.', 'is_supported': True}, {'atom': 'Michael H. Schneider Sr. has served in various roles.', 'is_supported': True}, {'atom': 'Michael H. Schneider Sr. has served as a district attorney.', 'is_supported': False}, {'atom': 'Michael H. Schneider Sr. has served as a judge.', 'is_supported': True}, {'atom': 'Michael H. Schneider Sr. has served as a state senator.', 'is_supported': False}]\n",
      "[{'atom': 'There are documents provided.', 'is_supported': True}, {'atom': 'The documents provided contain information about three individuals.', 'is_supported': False}, {'atom': 'The individuals have the name Kion Smith.', 'is_supported': True}, {'atom': 'Kion Wilson was born in Jacksonville, Florida.', 'is_supported': False}, {'atom': 'Kion Wilson is a former American football linebacker.', 'is_supported': False}, {'atom': 'Kion Wilson attended the University of South Florida.', 'is_supported': False}, {'atom': 'Kion Wilson played professionally for the San Diego Chargers.', 'is_supported': False}, {'atom': 'Kile Smith is an American composer.', 'is_supported': False}, {'atom': 'Kile Smith was born on August 24, 1956.', 'is_supported': False}, {'atom': 'Kile Smith is known for his choral music.', 'is_supported': False}, {'atom': 'Kile Smith is known for his vocal music.', 'is_supported': False}, {'atom': 'Kile Smith is known for his orchestral music.', 'is_supported': False}, {'atom': 'Kile Smith is known for his chamber music.', 'is_supported': False}, {'atom': 'Kile Smith is known for his anthems.', 'is_supported': False}, {'atom': 'Kile Smith is known for his hymns.', 'is_supported': False}, {'atom': 'Kile Smith is known for his liturgical music.', 'is_supported': False}, {'atom': 'Deon Smith was born on 30 March 1968.', 'is_supported': False}, {'atom': 'Deon Smith is a former South African cricketer.', 'is_supported': False}, {'atom': 'Deon Smith is a current coach.', 'is_supported': False}, {'atom': 'Deon Smith is a coach of South Western Districts.', 'is_supported': False}, {'atom': 'South Western Districts is a South African provincial level team.', 'is_supported': False}, {'atom': 'There is no information provided in the documents.', 'is_supported': False}, {'atom': 'The documents do not distinguish between these individuals.', 'is_supported': False}, {'atom': 'They are listed together as \"Kion Smith.\".', 'is_supported': True}]\n",
      "[{'atom': 'The provided documents are being used as a basis for a brief bio.', 'is_supported': True}, {'atom': 'The subject of the bio is Joseph Michael Linsner.', 'is_supported': True}, {'atom': 'Joseph Michael Linsner is a person.', 'is_supported': True}, {'atom': 'Joseph Michael Linsner is not a well-known journalist.', 'is_supported': False}, {'atom': 'Joseph Michael Linsner is not a well-known Canadian journalist.', 'is_supported': False}, {'atom': 'Joseph Michael Linsner is not a well-known Canadian journalist or lawyer.', 'is_supported': True}, {'atom': 'Joseph Michael Linsner is not a lawyer.', 'is_supported': True}, {'atom': 'The documents provided are about two individuals named Michael Posner.', 'is_supported': False}, {'atom': 'One is named Michael Posner (journalist).', 'is_supported': False}, {'atom': 'One is named Michael Posner (lawyer).', 'is_supported': False}, {'atom': 'Michael Posner is a Canadian.', 'is_supported': False}, {'atom': 'Michael Posner is a journalist.', 'is_supported': False}, {'atom': 'Michael Posner is an author.', 'is_supported': False}, {'atom': 'Michael Posner is best known for his biographies.', 'is_supported': False}, {'atom': 'Michael Posner has written biographies of Mordecai Richler.', 'is_supported': False}, {'atom': 'Michael Posner has written biographies of Anne Murray.', 'is_supported': False}, {'atom': \"Mordecai Richler is a subject of one of Michael Posner's biographies.\", 'is_supported': False}, {'atom': \"Anne Murray is a subject of one of Michael Posner's biographies.\", 'is_supported': False}, {'atom': 'In his youth, he appeared as an actor.', 'is_supported': False}, {'atom': 'He appeared in the film \"And No Birds Sing\".', 'is_supported': False}, {'atom': 'He won the Canadian Film Award.', 'is_supported': False}, {'atom': 'He won the Canadian Film Award for Best Supporting Actor.', 'is_supported': False}, {'atom': 'He won the Canadian Film Award for Best Supporting Actor in 1969.', 'is_supported': False}, {'atom': 'He chose not to continue acting.', 'is_supported': False}, {'atom': 'He became a journalist.', 'is_supported': False}, {'atom': 'He wrote for publications.', 'is_supported': False}, {'atom': 'He wrote for the \"Financial Times of Canada.\"', 'is_supported': False}, {'atom': 'He wrote for \"The Globe and Mail.\"', 'is_supported': False}, {'atom': 'He wrote for \"Toronto Life.\".', 'is_supported': False}, {'atom': 'He has written books.', 'is_supported': False}, {'atom': 'He has written books on various topics.', 'is_supported': False}, {'atom': 'He has written \"The Big Picture: What Canadians Think About Almost Everything.\"', 'is_supported': False}, {'atom': '\"The Big Picture: What Canadians Think About Almost Everything\" was published in 1990.', 'is_supported': False}, {'atom': 'He has written \"Canadian Dreams: The Making and Marketing of Independent Films.\"', 'is_supported': False}, {'atom': '\"Canadian Dreams: The Making and Marketing of Independent Films\" was published in 1993.', 'is_supported': False}, {'atom': 'He has written \"Triple Bypass.\"', 'is_supported': False}, {'atom': '\"Triple Bypass\" was published in 2016.', 'is_supported': False}, {'atom': 'Michael Posner is an American.', 'is_supported': False}, {'atom': 'Michael Posner is a lawyer.', 'is_supported': False}, {'atom': 'Michael Posner is a human rights advocate.', 'is_supported': False}, {'atom': 'He is the Founding Executive Director of Human Rights First.', 'is_supported': False}, {'atom': 'He was later the President of Human Rights First.', 'is_supported': False}, {'atom': 'Human Rights First was formerly known as the Lawyers Committee for Human Rights.', 'is_supported': True}, {'atom': 'He served as the Assistant Secretary of State.', 'is_supported': False}, {'atom': 'He served as the Assistant Secretary of State for Democracy.', 'is_supported': False}, {'atom': 'He served as the Assistant Secretary of State for Human Rights.', 'is_supported': False}, {'atom': 'He served as the Assistant Secretary of State for Labor.', 'is_supported': False}, {'atom': 'He served as the Assistant Secretary of State for Democracy, Human Rights, and Labor (DRL).', 'is_supported': False}, {'atom': 'He has received several awards and honors for his work.', 'is_supported': True}, {'atom': 'He received the Alumni Association award in 1993.', 'is_supported': False}, {'atom': 'He received the Wolfgang Friedmann Memorial Award in 1993.', 'is_supported': True}, {'atom': 'The Wolfgang Friedmann Memorial Award was for outstanding contributions to the field of international law.', 'is_supported': False}, {'atom': 'He received the Dr. Jean Mayer Global Citizenship Award in 2006.', 'is_supported': False}, {'atom': 'The Dr. Jean Mayer Global Citizenship Award was from the Institute for Global Leadership at Tufts University.', 'is_supported': False}, {'atom': 'He received the Builders of the \"New\" New York Award in 2007.', 'is_supported': True}, {'atom': 'The Builders of the \"New\" New York Award was from the New York Immigration Coalition.', 'is_supported': False}]\n",
      "[{'atom': 'Charles Allen was a politician.', 'is_supported': False}, {'atom': 'Charles Allen was a judge in Indiana.', 'is_supported': False}, {'atom': 'Charles Allen served as a Justice of the Supreme Court of Indiana.', 'is_supported': False}, {'atom': 'Charles Allen served from January 1, 1883 to January 7, 1889.', 'is_supported': False}, {'atom': 'Charles Allen served as a Justice of the Supreme Court of Indiana from January 1, 1883 to January 7, 1889.', 'is_supported': False}, {'atom': 'He was born in Licking County, Ohio.', 'is_supported': False}, {'atom': \"His father's name was Frederick Zollars.\", 'is_supported': False}, {'atom': 'His father was born on December 11, 1801.', 'is_supported': False}, {'atom': 'His father passed away in 1889.', 'is_supported': False}, {'atom': \"His mother's name was Anna Whitmore.\", 'is_supported': False}, {'atom': 'His mother was born on February 21, 1806.', 'is_supported': False}, {'atom': 'It is unknown if his mother is still alive.', 'is_supported': False}, {'atom': 'Allen received a B.A.', 'is_supported': True}, {'atom': 'Allen received a B.A. from Denison University.', 'is_supported': False}, {'atom': 'Denison University is located in Granville, Ohio.', 'is_supported': False}, {'atom': 'Allen received a B.A. from Denison University in Granville, Ohio.', 'is_supported': False}, {'atom': 'Denison University is located in or about 1863.', 'is_supported': False}, {'atom': 'Allen briefly studied law.', 'is_supported': True}, {'atom': 'Allen briefly studied law in Ohio.', 'is_supported': False}, {'atom': 'Allen entered the University of Michigan Law School.', 'is_supported': False}, {'atom': 'He was admitted to the bar in 1864.', 'is_supported': False}, {'atom': 'He began his legal career.', 'is_supported': True}, {'atom': 'He began his legal career in Indiana.', 'is_supported': False}, {'atom': 'Allen Zollars was the son of Charles Zollars.', 'is_supported': False}, {'atom': 'Allen Zollars was a United States District Judge.', 'is_supported': False}, {'atom': 'Allen Zollars was a United States District Judge of the United States District Court.', 'is_supported': False}, {'atom': 'Allen Zollars was a United States District Judge of the United States District Court for the Western District of Kentucky.', 'is_supported': False}, {'atom': 'He was born in Louisville, Kentucky.', 'is_supported': False}, {'atom': 'He received a Bachelor of Arts degree from Yale University in 1941.', 'is_supported': False}, {'atom': 'He received a Bachelor of Laws from the University of Louisville School of Law in 1943.', 'is_supported': False}, {'atom': 'He was in private practice from 1944 to 1945.', 'is_supported': False}, {'atom': 'He was a teacher at Arizona Desert School in Tucson, Arizona from 1945 to 1946.', 'is_supported': False}, {'atom': 'He returned to private practice in Louisville from 1946 to 1955.', 'is_supported': False}, {'atom': 'He was an Assistant United States Attorney.', 'is_supported': True}, {'atom': 'He was an Assistant United States Attorney for the Western District of Kentucky.', 'is_supported': False}, {'atom': 'He was an Assistant United States Attorney for the Western District of Kentucky from 1965 to 1985.', 'is_supported': False}, {'atom': 'He assumed senior status on October 1, 1985.', 'is_supported': False}, {'atom': 'He served in that capacity until his death on January 4, 2000.', 'is_supported': False}, {'atom': 'He died in Louisville.', 'is_supported': False}, {'atom': 'Charles Allen had three grandchildren.', 'is_supported': False}, {'atom': 'Two of the grandchildren were from Charles.', 'is_supported': True}, {'atom': 'One of the grandchildren was from Clara.', 'is_supported': False}, {'atom': 'They have four great-grandchildren.', 'is_supported': False}, {'atom': 'The four great-grandchildren are from Charles.', 'is_supported': True}]\n"
     ]
    }
   ],
   "source": [
    "print(len(result['decisions']))\n",
    "for decision in result['decisions']:\n",
    "    print(decision)"
   ]
  },
  {
   "cell_type": "markdown",
   "metadata": {},
   "source": [
    "## Non RAG Slice"
   ]
  },
  {
   "cell_type": "code",
   "execution_count": 17,
   "metadata": {},
   "outputs": [
    {
     "name": "stdout",
     "output_type": "stream",
     "text": [
      "(' Jessie Mae Brown Beavers was born on December 11, 1947, in Millport, '\n",
      " 'Alabama. She is an American former politician who served as a member of the '\n",
      " 'Tennessee Senate for the 17th district from 2003 to 2017. Prior to her time '\n",
      " 'in the state senate, Beavers was a state representative in the 99th through '\n",
      " 'the 102nd General Assemblies. In 1990, she was a member of the Brantfort '\n",
      " 'Lady Blues team that won the Ontario Ladies Hockey League Championships, and '\n",
      " 'she maintained a high female average and high triple score in Ontario Indian '\n",
      " 'Bowling Championship in 1973. Beavers is also a professional athlete who won '\n",
      " 'the most valuable player award eight times from 1962 to 1980 and was awarded '\n",
      " 'the Filmmakers Hall of Fame in 1976.\\n'\n",
      " '\\n'\n",
      " \"Beavers' mother, Louise Beavers, was an American film and television actress \"\n",
      " 'who appeared in dozens of films and two hit television shows from the 1920s '\n",
      " 'until 1960. Beavers was born in Cincinnati, Ohio, and was a member of Sigma '\n",
      " 'Gamma Rho sorority, one of the four African-American sororities. Beavers was '\n",
      " 'a breakthrough actress for black women and became known as a symbol of a '\n",
      " '\"mammy\" on the screen.\\n'\n",
      " '\\n'\n",
      " 'In conclusion, Jessie Mae Brown Beavers is a prominent figure in both '\n",
      " 'politics and sports, with a successful career in both fields. Her mother, '\n",
      " 'Louise Beavers, was a pioneering actress who paved the way for other black '\n",
      " 'women in the entertainment industry.')\n"
     ]
    }
   ],
   "source": [
    "with open (\"../results/bio/slice_results_llama2Chat_bio_prompts_ctxs.jsonl\", \"r\") as f_out:\n",
    "    for line in f_out.readlines():\n",
    "        cur = json.loads(line)\n",
    "        pprint(cur['output'])\n",
    "        break"
   ]
  },
  {
   "cell_type": "code",
   "execution_count": 34,
   "metadata": {},
   "outputs": [
    {
     "name": "stdout",
     "output_type": "stream",
     "text": [
      "dict_keys(['score', 'respond_ratio', 'decisions', 'num_facts_per_response', 'init_score'])\n",
      "Score: 0.4155927626327221\n",
      "Response Ratio: 1.0\n",
      "Number of A.Facts per response: 70.48\n"
     ]
    }
   ],
   "source": [
    "# Very rare Entities\n",
    "with open(\"../results/metrics/fss/llama2-chat-7B/very_rare_slice_results_llama2Chat_bio_prompts_ctxs.jsonl\", 'r') as f:\n",
    "    for line in f.readlines():\n",
    "        result = json.loads(line)\n",
    "        print(result.keys())\n",
    "        print(\"Score: {}\".format(result['score']))\n",
    "        print(\"Response Ratio: {}\".format(result['respond_ratio']))\n",
    "        print(\"Number of A.Facts per response: {}\".format(result['num_facts_per_response']))"
   ]
  },
  {
   "cell_type": "code",
   "execution_count": 38,
   "metadata": {},
   "outputs": [
    {
     "name": "stdout",
     "output_type": "stream",
     "text": [
      "dict_keys(['score', 'respond_ratio', 'decisions', 'num_facts_per_response', 'init_score'])\n",
      "Score: 0.7603339089936619\n",
      "Response Ratio: 1.0\n",
      "Number of A.Facts per response: 107.88\n"
     ]
    }
   ],
   "source": [
    "# Very freq entities\n",
    "with open(\"../results/metrics/fss/llama2-chat-7B/very_freq_slice_results_llama2Chat_bio_prompts_ctxs.jsonl\", 'r') as f:\n",
    "    for line in f.readlines():\n",
    "        result = json.loads(line)\n",
    "        print(result.keys())\n",
    "        print(\"Score: {}\".format(result['score']))\n",
    "        print(\"Response Ratio: {}\".format(result['respond_ratio']))\n",
    "        print(\"Number of A.Facts per response: {}\".format(result['num_facts_per_response']))"
   ]
  },
  {
   "cell_type": "code",
   "execution_count": null,
   "metadata": {},
   "outputs": [],
   "source": []
  }
 ],
 "metadata": {
  "kernelspec": {
   "display_name": "base",
   "language": "python",
   "name": "python3"
  },
  "language_info": {
   "codemirror_mode": {
    "name": "ipython",
    "version": 3
   },
   "file_extension": ".py",
   "mimetype": "text/x-python",
   "name": "python",
   "nbconvert_exporter": "python",
   "pygments_lexer": "ipython3",
   "version": "3.11.5"
  }
 },
 "nbformat": 4,
 "nbformat_minor": 2
}
