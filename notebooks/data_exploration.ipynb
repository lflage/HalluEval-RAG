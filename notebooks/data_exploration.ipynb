{
 "cells": [
  {
   "cell_type": "markdown",
   "metadata": {},
   "source": [
    "# ASQA Explore"
   ]
  },
  {
   "cell_type": "code",
   "execution_count": 1,
   "metadata": {},
   "outputs": [],
   "source": [
    "import pandas as pd\n",
    "import json\n",
    "from datasets import load_dataset"
   ]
  },
  {
   "cell_type": "code",
   "execution_count": 2,
   "metadata": {},
   "outputs": [
    {
     "name": "stderr",
     "output_type": "stream",
     "text": [
      "Found cached dataset parquet (/home/lucas_dfki/.cache/huggingface/datasets/din0s___parquet/din0s--asqa-e1511a96e1e7140e/0.0.0/2a3b91fbd88a2c90d1dbbb32b460cf621d31bd5b05b934492fdef7d8d6f236ec)\n"
     ]
    },
    {
     "data": {
      "application/vnd.jupyter.widget-view+json": {
       "model_id": "9e20fbb09065444580645be8a2d4daba",
       "version_major": 2,
       "version_minor": 0
      },
      "text/plain": [
       "  0%|          | 0/2 [00:00<?, ?it/s]"
      ]
     },
     "metadata": {},
     "output_type": "display_data"
    },
    {
     "data": {
      "text/plain": [
       "dict_keys(['train', 'dev'])"
      ]
     },
     "execution_count": 2,
     "metadata": {},
     "output_type": "execute_result"
    }
   ],
   "source": [
    "ds = load_dataset(\"din0s/asqa\")\n",
    "\n",
    "ds.keys()"
   ]
  },
  {
   "cell_type": "code",
   "execution_count": 3,
   "metadata": {},
   "outputs": [
    {
     "data": {
      "text/plain": [
       "[{'knowledge': [{'content': 'Wednesday Morning, 3 A.M. was re-released in January 1966 (to capitalize on their newly found radio success because of the overdubbing of the song \"The Sound of Silence\" in June 1965, adding electric guitars, bass guitar and a drum kit), and reached No. 30 on the Billboard 200...The album was produced by Tom Wilson and engineered by Roy Halee between March 10–31, 1964.',\n",
       "    'wikipage': 'Wednesday Morning, 3 A.M.'}],\n",
       "  'long_answer': ' The original artist of the song sound of silence released in 1966 is Paul Simon and Art Garfunkel. The song had earlier been released in an acoustic version on the album \"Wednesday Morning, 3 A.M.\" which had been produced in 1964. In 2016, Australian recording artist Dami Im recorded a different song by the same name.'},\n",
       " {'knowledge': [{'content': 'A studio audition led to the duo signing a record deal with Columbia Records, and the original acoustic version of the song was recorded in March 1964 at Columbia Studios in New York City and included on their debut album, Wednesday Morning, 3 A.M.. Released on October 19, 1964,[2] the album was a commercial failure and led to the duo disbanding; Simon returned to England, and Art Garfunkel to his studies at Columbia University.',\n",
       "    'wikipage': 'The Sound of Silence'}],\n",
       "  'long_answer': 'There are several songs with the title \"Sound of Silence\". Sounds of Silence is the second studio album by Simon & Garfunkel, released on January 17, 1966. The album\\'s title is a slight modification of the title of the duo\\'s first major hit, \"The Sound of Silence\", which was recorded in March 1964 and originally was released as \"The Sounds of Silence\". Another \"Sound of Silence\" is a song performed by Australian recording artist Dami Im, and is best known as Australia\\'s entry at the Eurovision Song Contest 2016.'}]"
      ]
     },
     "execution_count": 3,
     "metadata": {},
     "output_type": "execute_result"
    }
   ],
   "source": [
    "ds['dev'][1]['annotations']"
   ]
  },
  {
   "cell_type": "code",
   "execution_count": 6,
   "metadata": {},
   "outputs": [
    {
     "data": {
      "text/plain": [
       "'Who has the highest goals in world football?'"
      ]
     },
     "execution_count": 6,
     "metadata": {},
     "output_type": "execute_result"
    }
   ],
   "source": [
    "ds['dev'][0]['ambiguous_question']"
   ]
  },
  {
   "cell_type": "code",
   "execution_count": 8,
   "metadata": {},
   "outputs": [
    {
     "data": {
      "text/plain": [
       "[{'context': 'No context provided',\n",
       "  'question': \"Who has the highest goals in men's world international football?\",\n",
       "  'short_answers': ['Daei', 'Ali Daei'],\n",
       "  'wikipage': None},\n",
       " {'context': 'No context provided',\n",
       "  'question': \"Who has the highest goals all-time in men's football?\",\n",
       "  'short_answers': ['Bican', 'Josef Bican'],\n",
       "  'wikipage': None},\n",
       " {'context': 'The first player to reach 100 international goals was Italian Elisabetta Vignotto. Abby Wambach scored 100 goals in 9 years, while Christine Sinclair reached the milestone in just under 10 years while Mia Hamm is the youngest player to score 100 international goals at the age of 26 years 185 days. Most played exclusively in the forward position, with Kristine Lilly and Michelle Akers having also played as midfielder. All players scored at a high average rate of more than one goal every three matches. International goals in this list should not include goals scored in penalty-shoot-out; see Penalty shootout (association football). Players who are currently active at international level are indicated in bold type background.',\n",
       "  'question': \"Who has the highest goals in women's world international football?\",\n",
       "  'short_answers': ['Sinclair', 'Christine Sinclair'],\n",
       "  'wikipage': \"List of women's footballers with 100 or more international goals ...\"}]"
      ]
     },
     "execution_count": 8,
     "metadata": {},
     "output_type": "execute_result"
    }
   ],
   "source": [
    "ds['dev'][0]['qa_pairs']"
   ]
  },
  {
   "cell_type": "code",
   "execution_count": null,
   "metadata": {},
   "outputs": [],
   "source": [
    "for qa_pair in ds['dev'][0]['qa_pairs']:\n",
    "    "
   ]
  },
  {
   "cell_type": "code",
   "execution_count": 15,
   "metadata": {},
   "outputs": [
    {
     "name": "stderr",
     "output_type": "stream",
     "text": [
      "Found cached dataset json (/home/lucas_dfki/.cache/huggingface/datasets/json/default-048df0c084d0cd75/0.0.0/e347ab1c932092252e717ff3f949105a4dd28b27e842dd53157d2f72e276c2e4)\n"
     ]
    },
    {
     "data": {
      "application/vnd.jupyter.widget-view+json": {
       "model_id": "00d9841994064747b514d2caad1586c2",
       "version_major": 2,
       "version_minor": 0
      },
      "text/plain": [
       "  0%|          | 0/1 [00:00<?, ?it/s]"
      ]
     },
     "metadata": {},
     "output_type": "display_data"
    }
   ],
   "source": [
    "dataset = load_dataset('json', data_files=\"../results/intermediate_gens/asqa_doc_retrieval.jsonl\")\n",
    "# dataset_with_query = dataset.map()"
   ]
  },
  {
   "cell_type": "code",
   "execution_count": 17,
   "metadata": {},
   "outputs": [
    {
     "data": {
      "text/plain": [
       "{'ambiguous_question': 'Who has the highest goals in world football?',\n",
       " 'qa_pairs': [{'context': 'No context provided',\n",
       "   'question': \"Who has the highest goals in men's world international football?\",\n",
       "   'short_answers': ['Daei', 'Ali Daei'],\n",
       "   'wikipage': None},\n",
       "  {'context': 'No context provided',\n",
       "   'question': \"Who has the highest goals all-time in men's football?\",\n",
       "   'short_answers': ['Bican', 'Josef Bican'],\n",
       "   'wikipage': None},\n",
       "  {'context': 'The first player to reach 100 international goals was Italian Elisabetta Vignotto. Abby Wambach scored 100 goals in 9 years, while Christine Sinclair reached the milestone in just under 10 years while Mia Hamm is the youngest player to score 100 international goals at the age of 26 years 185 days. Most played exclusively in the forward position, with Kristine Lilly and Michelle Akers having also played as midfielder. All players scored at a high average rate of more than one goal every three matches. International goals in this list should not include goals scored in penalty-shoot-out; see Penalty shootout (association football). Players who are currently active at international level are indicated in bold type background.',\n",
       "   'question': \"Who has the highest goals in women's world international football?\",\n",
       "   'short_answers': ['Sinclair', 'Christine Sinclair'],\n",
       "   'wikipage': \"List of women's footballers with 100 or more international goals ...\"}],\n",
       " 'wikipages': [{'title': 'International Federation of Football History & Statistics',\n",
       "   'url': 'https://en.wikipedia.org/wiki/International%20Federation%20of%20Football%20History%20%26%20Statistics'},\n",
       "  {'title': 'List of FIFA World Cup records and statistics',\n",
       "   'url': 'https://en.wikipedia.org/wiki/List%20of%20FIFA%20World%20Cup%20records%20and%20statistics'},\n",
       "  {'title': 'List of footballers with more than 50 international goals',\n",
       "   'url': 'https://en.wikipedia.org/wiki/List%20of%20footballers%20with%20more%20than%2050%20international%20goals'},\n",
       "  {'title': \"List of women's footballers with 100 or more international goals ...\",\n",
       "   'url': 'https://en.wikipedia.org/wiki/List%20of%20women%27s%20footballers%20with%20100%20or%20more%20international%20goals'},\n",
       "  {'title': 'List of footballers with 500 or more goals',\n",
       "   'url': 'https://en.wikipedia.org/wiki/List%20of%20footballers%20with%20500%20or%20more%20goals'}],\n",
       " 'annotations': [{'knowledge': [],\n",
       "   'long_answer': \"Ali Dael has the highest goals in men's world international football with 109 goals. Josef Bican has the highest goals all-time in men's football and Christine Sinclair has the highest goals in women's world international football.\"},\n",
       "  {'knowledge': [{'content': \"Sinclair is the world's all-time leader for international goals scored for men or women with 187 goals, and is one of the most-capped active international footballer with 300 caps.\",\n",
       "     'wikipage': 'Christine Sinclair'},\n",
       "    {'content': \"Along with Cristiano Ronaldo, he is the world's joint all-time leading goalscorer in the history of men's international football with 109 goals scored for Iran.\",\n",
       "     'wikipage': 'Ali Daei'},\n",
       "    {'content': 'Ronaldo holds the records for most goals (134) and assists (42) in the Champions League, most goals in the European Championship (14), and is currently tied with Ali Daei for most international goals (109).',\n",
       "     'wikipage': 'Cristiano Ronaldo'},\n",
       "    {'content': \"FIFA, the international governing body of football, have never released a list detailing the highest goalscorers and do not keep official records;[6][7] in 2020, they recognised Bican, an Austrian-Czech dual international who played between the 1930s and the 1950s,[8] as the record scorer with an estimated 805 goals,[9][10] while CNN, the BBC, France 24, and O Jogo all acknowledge that Bican's tally of 805 includes goals scored for reserve teams and in unofficial international matches.\",\n",
       "     'wikipage': 'List of footballers with 500 or more goals'}],\n",
       "   'long_answer': \"The players with the highest all-time goals and highest men's and women's international football goals differ. The player with the highest all-time men's football goals is Josef Bican, who in 2020 was recognized by FIFA, the international governing body of football, as the record scorer with an estimated 805 goals. Christine Sinclair has the highest goals in women's international football with 187 and is the all-time leader for international goals scored for men or women. Cristiano Ronaldo and Ali Daei are currently tied for leading goalscorer in the history of men's international football with 109.\"}],\n",
       " 'sample_id': '-7013890438520559398',\n",
       " 'ctxs': [{'id': '6669150',\n",
       "   'title': 'Argentina–Brazil football rivalry',\n",
       "   'text': '\"Football Player of the Century\", by IFFHS International Federation of Football History and Statistics, 1999, \"South America Football Player of the Century\", by IFFHS International Federation of Football History and Statistics. Pelé\\'s 1281 goals are recognized by FIFA as the highest total achieved by a professional footballer, although the Soccer Statistic Foundation (rssf) recognizes only 767 goals in official mode, occupying the third place after Josef Bican (805) and Romario (772). For his part, Maradona has been named the best soccer player in World Cup history both by The Times and FourFourTwo, publication that also rewarded him as the \"Best',\n",
       "   'score': '1.0039443'},\n",
       "  {'id': '104737',\n",
       "   'title': 'Diego Maradona',\n",
       "   'text': 'authorization to retire the jersey number 10 for Maradona. FIFA did not grant the request, even though Argentine officials have maintained that FIFA hinted that it would. Maradona has topped a number of fan polls, including a 2002 FIFA poll in which his second goal against England was chosen as the best goal ever scored in a World Cup; he also won the most votes in a poll to determine the All-Time Ultimate World Cup Team. On 22 March 2010, Maradona was chosen number 1 in The Greatest 10 World Cup players of all time by the London-based newspaper \"The',\n",
       "   'score': '0.9955267'},\n",
       "  {'id': '14688658',\n",
       "   'title': 'FIFA World Cup Dream Team',\n",
       "   'text': \"FIFA World Cup Dream Team The FIFA World Cup Dream Team is an all-time FIFA World Cup all-star team published by FIFA in 2002 after conducting an internet poll of fans to select a World Cup dream team. Diego Maradona of Argentina received the most votes. More than one-and-a-half million fans worldwide voted in the poll, conducted by the official FIFA website, www.FIFAworldcup.com, with Maradona receiving 111,035 votes. Brazil's Pelé, who played for three World Cup-winning teams, won 107,539 votes and Zinedine Zidane, who scored twice for France in their 1998 triumph, came in third with 80,527. It is an\",\n",
       "   'score': '0.9890872'},\n",
       "  {'id': '17235149',\n",
       "   'title': '2017 FIFA Beach Soccer World Cup',\n",
       "   'text': \"the scoring awards, players tied with the same number of goals scored were then split based on the number of assists the tied players in question provided during the tournament, with the player with more assists ranked higher than the other. In this case, Rodrigo and Ahmadzadeh were tied on nine goals each. However Rodrigo had three assists to Ahmadzadeh's one and so were ranked accordingly. Top goalscorer, Gabriele Gori, recorded the second highest number of goals ever scored in a World Cup with 17 and became the first Italian of the FIFA era to be top scorer (Alessandro Altobelli\",\n",
       "   'score': '0.98514026'},\n",
       "  {'id': '145484',\n",
       "   'title': 'FIFA World Cup',\n",
       "   'text': \"(2002–2014) is the all-time top scorer at the finals, with 16 goals. He broke Ronaldo of Brazil's record of 15 goals (1998–2006) during the 2014 semi-final match against Brazil. West Germany's Gerd Müller (1970–1974) is third, with 14 goals. The fourth placed goalscorer, France's Just Fontaine, holds the record for the most goals scored in a single World Cup; all his 13 goals were scored in the 1958 tournament. In November 2007, FIFA announced that all members of World Cup-winning squads between 1930 and 1974 were to be retroactively awarded winners' medals. This made Brazil's Pelé the only player to\",\n",
       "   'score': '0.98255265'},\n",
       "  {'id': '18098305',\n",
       "   'title': 'History of the Germany national football team',\n",
       "   'text': '16 goals in the 2010 World Cup, in comparison, the winning nation Spain scored only 8 goals. The German team became the first team since Brazil in 1982 to record the highest goal difference in a World Cup without winning it. In an internet poll, Germany was voted the World Cups Most Entertaining Team, although FIFA discontinued the official award. German youngster Thomas Müller won the Golden Boot with the most goals and assists scored (succeeding teammate Miroslav Klose), and he was also given the Best Young Player Award (succeeding teammate Lukas Podolski). The German team reflected the changing demographic',\n",
       "   'score': '0.9772478'},\n",
       "  {'id': '17235150',\n",
       "   'title': '2017 FIFA Beach Soccer World Cup',\n",
       "   'text': 'was top scorer in the pre-FIFA era in 1995 and 1996). Notably Madjer (who holds the record for the highest number of goals scored at a single World Cup (21 in 2006) and the highest tally of goals overall in the FIFA era at 87) failed to score even a single goal at a World Cup finals for the very first time. Former Golden Boot winner, Dejan Stankovic, scored his highest number of goals (seven) since winning the award with 16 in 2009. The winner of the Golden Boot in the last edition, Pedro Moran (who won the award with',\n",
       "   'score': '0.9765817'},\n",
       "  {'id': '755483',\n",
       "   'title': 'Ronaldo (Brazilian footballer)',\n",
       "   'text': 'of 16 match against Ghana by scoring his fifteenth-career World Cup goal. With his third goal of the tournament, Ronaldo became only the second player ever, after Jürgen Klinsmann, to score at least three goals in each of three World Cups. Brazil, however, were knocked out by France 1–0 with a goal by striker Thierry Henry in the quarter-finals. Ronaldo was awarded the Bronze Shoe as the third-highest goal-scorer of the World Cup. Having been listed in \"Guinness World Records\", Ronaldo stated, “I am proud of my career and of the records I set. But I know that one day',\n",
       "   'score': '0.9697408'},\n",
       "  {'id': '18150594',\n",
       "   'title': 'FIFA World Cup top goalscorers',\n",
       "   'text': \"Germany or West Germany. In total, 64 footballers came from UEFA (Europe), 29 from CONMEBOL (South America), and only four from elsewhere: Cameroon, Ghana, Australia, and the United States. Fontaine holds the record for the most goals scored at a single tournament, with 13 goals in 1958. The players that came closest to this record were Kocsis in 1954, Müller in 1970 and Portugal's Eusébio in 1966, with 11, 10 and 9, respectively. The lowest scoring tournament's top scorer was in 1962, when six players tied at only four goals each. Across the 21 editions of the World Cup, 30\",\n",
       "   'score': '0.9678167'},\n",
       "  {'id': '18150595',\n",
       "   'title': 'FIFA World Cup top goalscorers',\n",
       "   'text': \"footballers have been credited with the most tournament goals, and no one has achieved this feat twice. Nine of them scored at least seven goals in a tournament, while Brazil's Jairzinho became the only footballer to score at least seven goals without being the top goalscorer of that tournament in 1970. These 30 top goalscorers played for 19 nations, the most (five) for Brazil. Another five came from other South American countries, with the remaining 20 coming from Europe. Excluding the 2010 edition, all the top tournament scorers won the Golden Boot. FIFA World Cup top goalscorers More than 2,000\",\n",
       "   'score': '0.9664098'},\n",
       "  {'id': '16356284',\n",
       "   'title': 'Poland at the FIFA World Cup',\n",
       "   'text': \"the only one of those three from a country that has never won the World Cup, either. Ernst Wilimowski was the first player ever to score four goals in one match at a FIFA World Cup, and to this day is the only player who managed this feat and still lost the match. Poland at the FIFA World Cup This is a record of Poland's results at the FIFA World Cup. They have qualified for the finals on eight occasions, most recently in 2018. The FIFA World Cup, sometimes called the Football World Cup or the Soccer World Cup, but\",\n",
       "   'score': '0.9651745'},\n",
       "  {'id': '18150593',\n",
       "   'title': 'FIFA World Cup top goalscorers',\n",
       "   'text': \"Only two other players have surpassed 10 goals at the World Cup: Pelé with 12 between 1958 and 1970 for Brazil, and Jürgen Klinsmann with 11 between 1990 and 1998 for Germany. Of all the players who have played at the World Cup, only six have scored, on average, at least two goals per game played: Kocsis, Fontaine, Stábile, Russia's Oleg Salenko, Switzerland's Josef Hügi, and Poland's Ernst Wilimowski — the latter scored four in his single World Cup game in 1938. The top 97 goalscorers have represented 28 nations, with 14 players scoring for Brazil, and another 14 for\",\n",
       "   'score': '0.96421266'},\n",
       "  {'id': '17626464',\n",
       "   'title': 'Saudi Arabia at the FIFA World Cup',\n",
       "   'text': \"tournaments, which were in 1994, 1998, 2002, 2006 and 2018. Sami Al-Jaber is not only the most successful Saudi striker at the FIFA World Cup to date, he also managed to score in World Cups 12 years apart (1994 and 2006). He shares this record with eight other players, among them Pelé, Diego Maradona and Miroslav Klose. Saudi Arabia at the FIFA World Cup This is a record of Saudi Arabia's results at the FIFA World Cup. The FIFA World Cup, sometimes called the Football World Cup or the Soccer World Cup, but usually referred to simply as the World\",\n",
       "   'score': '0.96389544'},\n",
       "  {'id': '1448643',\n",
       "   'title': '2010 FIFA World Cup',\n",
       "   'text': \"side's 2–0 loss to the Netherlands. Argentine striker Gonzalo Higuaín was the only player to score a hat-trick in the tournament, in Argentina's 4–1 win over South Korea. It was the 49th World Cup hat-trick in the history of the tournament. Spain set a new record for the fewest goals scored by a World Cup-winning team, with eight. The previous record low was 11, set by Brazil in 1994, England in 1966, and Italy in 1938. Spain had the fewest goalscorers for a champion as well (three – Villa with five goals, Iniesta with two and Puyol with one). They\",\n",
       "   'score': '0.9638268'},\n",
       "  {'id': '10490463',\n",
       "   'title': 'Juma Mossi',\n",
       "   'text': 'considered the greatest football player in his country\\'s history. He was the top goal scorer for Burundi\\'s Intamba with 27 goals. However, he was arguably the most dominant figure on the Burundian football scene for nearly a decade. Prior to that, his three spectacular goals against South Africa, Algerie and Burkina Faso and the game of all time will always be Burundi Vs Guinne with Titi Camara as Guinne\\'s Capitain. The performance earned him the added nickname of \"The Burundian Maradona\". His solo run goal against Algeria in the quarterfinals is often compared to Maradona\\'s second goal against England in',\n",
       "   'score': '0.96007484'},\n",
       "  {'id': '5393920',\n",
       "   'title': 'Football in Germany',\n",
       "   'text': \"the 2014 World Cup, defeating Argentina 1–0 thanks to a memorable goal by 22-year-old Mario Götze. In the run-up to the finals, Germany eviscerated Brazil 7–1 in their semifinal match, breaking several World Cup records. Miroslav Klose also scored his 16th World Cup goal in this match to become the highest scoring player in World Cup history. The 2015 FIFA Women's World Cup was held in Canada. Germany won Group B on goal difference over Norway. In the knockout rounds, they defeated Sweden in the round of 16 and France in the quarterfinals. They would ultimately be eliminated for the\",\n",
       "   'score': '0.9581711'},\n",
       "  {'id': '18149378',\n",
       "   'title': 'Brazil v Germany (2014 FIFA World Cup)',\n",
       "   'text': \"for the most goals scored at the World Cup with 16, overtaking Brazil's Ronaldo's total of 15; Ronaldo was in attendance at the match as a commentator. Thomas Müller's goal was Germany's 2,000th in the history of their national team. Müller became the third player in history to score five or more goals in two different World Cups (after Klose and the Peruvian Teófilo Cubillas) and the second player to score five or more goals in consecutive World Cups (after Klose). Toni Kroos' first-half double scored in 69 seconds was the fastest pair of goals scored in World Cup history\",\n",
       "   'score': '0.9558793'},\n",
       "  {'id': '17609750',\n",
       "   'title': 'Turkey at the FIFA World Cup',\n",
       "   'text': 'It is the fastest goal in FIFA World Cup history, breaking Czechoslovakian striker Václav Mašek\\'s 40-year-old record of 16 seconds. Turkey at the FIFA World Cup This is a record of Turkey\\'s results at the FIFA World Cup. The FIFA World Cup, sometimes called the Football World Cup or the Soccer World Cup, but usually referred to simply as the World Cup, is an international association football competition contested by the men\\'s national teams of the members of \"Fédération Internationale de Football Association\" (FIFA), the sport\\'s global governing body. The championship has been awarded every four years since the first',\n",
       "   'score': '0.954195'},\n",
       "  {'id': '14660036',\n",
       "   'title': 'Germany at the FIFA World Cup',\n",
       "   'text': \"regular time, but stayed goalless until substitute striker Mario Götze scored during the second half of extra time, in the 113th minute. The fourth title was the first since Germany's reunification in October 1990. Lothar Matthäus is the FIFA World Cup's all-time record player. In addition, along with Antonio Carbajal and Rafael Márquez from Mexico, he is one of the few players to have been fielded in five FIFA World Cups. Miroslav Klose, who is only one match behind, also holds the record for most victories at FIFA World Cups (17). Since 2014, Miroslav Klose is the all-time top goalscorer\",\n",
       "   'score': '0.95178735'},\n",
       "  {'id': '14642835',\n",
       "   'title': 'African nations at the FIFA World Cup',\n",
       "   'text': \"the fact that two African nations had reached that far, was a reason to be optimistic about the future of African football. During the 2014 edition, Ghana striker Asamoah Gyan became Africa's all-time leading topscorer at the FIFA World Cup, having scored 6 goals in 3 World Cups, thus exceeding Cameroon veteran Roger Milla's 5 goals. The 2018 FIFA World Cup in Russia saw early elimination for Egypt, Morocco and Tunisia who all lost their first two group games. Nigeria also lost their first group game, but got a win in their second game, over Iceland, leaving them with a\",\n",
       "   'score': '0.9516654'},\n",
       "  {'id': '755484',\n",
       "   'title': 'Ronaldo (Brazilian footballer)',\n",
       "   'text': \"they will be broken.” Ronaldo and Klinsmann's shared record of at least three goals in three separate World Cup finals was broken by German striker Miroslav Klose, who has a record of at least four goals in each of three tournaments, having netted five at both the 2002 and 2006 finals, and four at the 2010 tournament. Ronaldo finished with fifteen goals in nineteen World Cup matches, for an average of 0.79 per game. His teammate Kaká reflected, “Ronaldo is the best player I have ever played with. I have seen il Fenomeno do things nobody else has ever done.”\",\n",
       "   'score': '0.9509923'},\n",
       "  {'id': '18150591',\n",
       "   'title': 'FIFA World Cup top goalscorers',\n",
       "   'text': \"FIFA World Cup top goalscorers More than 2,000 goals have been scored at the 21 editions of the FIFA World Cup final tournaments, not counting penalties scored during shoot-outs. Since the first goal scored by French player Lucien Laurent at the 1930 FIFA World Cup, more than 1,250 footballers have scored goals at the World Cup, of which just 97 have scored at least five. The top goalscorer of the inaugural competition was Argentina's Guillermo Stábile with eight goals. Since then, only 22 players have scored more at all the games played at the World Cup than Stábile did throughout\",\n",
       "   'score': '0.94884664'},\n",
       "  {'id': '755477',\n",
       "   'title': 'Ronaldo (Brazilian footballer)',\n",
       "   'text': 'with eight goals. Many publications regarded his personal triumph as “redemption” for what occurred at the previous World Cup. Ronaldo spoke about his obsession with lifting the World Cup trophy, having missed out in 1998. “I used to visualise the trophy in front of my eyes and imagine what a wonderful feeling it must be to hold it up in the air. It was a fabulous feeling actually to hold it in my hands and kiss it.” Dubbed the \"three R\\'s\", Ronaldo starred in a formidable attack alongside Rivaldo and Ronaldinho, and the trio were named in the FIFA World',\n",
       "   'score': '0.94849974'},\n",
       "  {'id': '18149376',\n",
       "   'title': 'Brazil v Germany (2014 FIFA World Cup)',\n",
       "   'text': \"last time a team scored six goals was West Germany in 1954 versus Austria, same as in both semi-finals in 1930. It was Germany's highest half-time lead in a World Cup match, with their previous best being 4–0 against Saudi Arabia in 2002, the match finished 8–0 which is Germany's biggest World Cup victory. Only two teams have previously trailed by at least five goals at half-time: Zaire (versus Yugoslavia in 1974) and Haiti (versus Poland in 1974). The seven goals scored by Germany reflected a better goal-scoring record in the World Cup Finals than that of 28 other nations\",\n",
       "   'score': '0.94780976'},\n",
       "  {'id': '17610056',\n",
       "   'title': 'Ukraine at the FIFA World Cup',\n",
       "   'text': 'was the only player to score more than one goal at the 2006 World Cup. Ukraine at the FIFA World Cup This is a record of Ukraine\\'s results at the FIFA World Cup. The FIFA World Cup, sometimes called the Football World Cup or the Soccer World Cup, but usually referred to simply as the World Cup, is an international association football competition contested by the men\\'s national teams of the members of \"Fédération Internationale de Football Association\" (FIFA), the sport\\'s global governing body. The championship has been awarded every four years since the first tournament in 1930, except in',\n",
       "   'score': '0.9467616'},\n",
       "  {'id': '4703226',\n",
       "   'title': 'Manuel Negrete Arias',\n",
       "   'text': \"games and scored one goal in the round of 16 against Bulgaria in the 35th minute, the first of a 2-0 win. The goal has been described as one of the most spectacular in World Cup history by many football fans and journalists which, in April 2018, voted it in FIFA's website as the World Cup's greatest goal. Negrete received a high ball outside the penalty area, controlled it, let the ball bounce once on the ground and combined with Javier Aguirre; the latter returned the ball on the first touch, while keeping it on the air, and Negrete shot\",\n",
       "   'score': '0.94528985'},\n",
       "  {'id': '20254628',\n",
       "   'title': '2018 FIFA World Cup knockout stage',\n",
       "   'text': 'their four World Cup penalty shootouts (after losing to Belgium in 1986, beating the Republic of Ireland in 2002 and losing to South Korea in 2002), and still have never defeated a host nation at FIFA World Cup, after losing to Italy 0–1 in 1934, Brazil 1–6 in 1950, and South Korea after penalties in 2002. Russia have reached the quarter-final of the World Cup for the first time since the break-up of the Soviet Union. Ignashevich became the oldest player to score an own goal at the World Cup, aged 38 years and 352 days. The match marked the',\n",
       "   'score': '0.9408195'},\n",
       "  {'id': '1634947',\n",
       "   'title': 'Miroslav Klose',\n",
       "   'text': \"goalscorer in the history of the FIFA World Cup with 16 goals, having scored five goals in his debut World Cup in 2002 and having won the Golden Boot at the 2006 World Cup in Germany by again scoring five times. He also scored four times in the 2010 World Cup and twice at the 2014 World Cup, the latter tournament where he overtook Ronaldo's then-record of 15 goals to top the all-time list. Klose is also the top scorer of all time for Germany, which never lost a game in which Klose scored, and one of the very few\",\n",
       "   'score': '0.94019806'},\n",
       "  {'id': '20441422',\n",
       "   'title': '2018 FIFA World Cup Group B',\n",
       "   'text': 'crossbar from 25 yards. Nordin Amrabat and Medhi Benatia fired over with better chances. With their second loss in a row, Morocco became the first team eliminated from the 2018 FIFA World Cup. 85 international goals for Ronaldo is a new record for a European player, with Ronaldo passing Ferenc Puskás to hold the record outright. Ronaldo has become the first Portuguese player since José Torres in 1966 to score a goal with his right foot, left foot and head in a single World Cup tournament. Ronaldo is the first player to score five consecutive World Cup goals for his',\n",
       "   'score': '0.9384346'},\n",
       "  {'id': '1853086',\n",
       "   'title': 'Germany national football team',\n",
       "   'text': \"score seven goals in a World Cup Finals knockout phase game, the fastest five consecutive goals in World Cup history (four of which in just 400 seconds), the first team to score five goals in the first half in a World Cup semi-final as well as being the topic of the most tweets ever on Twitter about a certain subject when the previous social media record was smashed after Germany scored their fourth goal. Also, Germany's seven goals took their total tally in World Cup history to 223, surpassing Brazil's 221 goals to first place overall. The World Cup Final\",\n",
       "   'score': '0.9375061'},\n",
       "  {'id': '3666429',\n",
       "   'title': 'Peru national football team',\n",
       "   'text': \"first World Cup goal on 14 July 1930, in a match against Romania. José Velásquez scored Peru's fastest World Cup finals goal—that is, that scored soonest after kick-off—two minutes into the match against Iran on 11 June 1978. Jefferson Farfán is Peru's top scorer and fifth-overall top scorer in CONMEBOL World Cup qualification, with 16 goals. Teófilo Cubillas is the team's top scorer in the World Cup finals, with 10 goals in 13 games. During the 1930 competition, a Peruvian became the first player sent off in a World Cup—his identity is disputed between sources. Peru's Ramón Quiroga holds the\",\n",
       "   'score': '0.93714017'},\n",
       "  {'id': '2362060',\n",
       "   'title': 'Italians',\n",
       "   'text': \"having four FIFA World Cups, one UEFA European Championship and one Olympic tournament. Amongst the players who won the FIFA World Cup there are Giuseppe Meazza, Silvio Piola (to date the highest goalscorer in Italian first league history), Dino Zoff, Paolo Rossi, Marco Tardelli, Bruno Conti, Gianluigi Buffon, Fabio Cannavaro, Alessandro Del Piero, Andrea Pirlo and Francesco Totti. Amongst those who did not win the World Cup but laureated as European champions are Gianni Rivera, Luigi Riva (to date Italy's leading scorer of all time), Sandro Salvadore, Giacomo Bulgarelli, Pietro Anastasi and Giacinto Facchetti. Other prominent players who achieved success\",\n",
       "   'score': '0.9361048'},\n",
       "  {'id': '1375697',\n",
       "   'title': '2006 FIFA World Cup',\n",
       "   'text': \"claim the Golden Boot, the lowest total to win the prize since 1962. No other player scored more than three goals. No player from the winning Italian squad scored more than two goals, though ten players had scored for the team, tying France's record in 1982 for the most goalscorers from any one team. For the first time ever in the FIFA World Cup, the first and last goals of the tournament were scored by defenders. Philipp Lahm, the German left wingback, scored the opener against Costa Rica after only 5 minutes of the opening match. In the final, Marco\",\n",
       "   'score': '0.93607557'},\n",
       "  {'id': '6722002',\n",
       "   'title': 'FIFA World Cup awards',\n",
       "   'text': 'the top goalscorer of the FIFA World Cup. While every World Cup had a ranking of the goalscorers, the first time an award was given was in 1982, under the name Golden Shoe. It was rechristened Golden Boot in 2010. FIFA sometimes lists the top goalscorers of previous Cups among the Golden Boot winners. If there is more than one player with the same number of goals, since 1994 the tie-breaker goes to the player without a penalty goal, if none has a penalty then the tie breaker goes to the person with more assists - with the FIFA Technical',\n",
       "   'score': '0.935503'},\n",
       "  {'id': '8339929',\n",
       "   'title': 'Humberto Suazo',\n",
       "   'text': 'also awarded the Silver Football as the world\\'s second first league top scorer with 34 goals, behind Klaas-Jan Huntelaar from Ajax Amsterdam with 35 goals. Suazo played for Chile in the Copa América 2007, scoring three goals, two in his first match against Ecuador, and one in the quarter final match against Brazil. He finished as CONMEBOL\\'s top scorer of the 2010 FIFA World Cup qualification with 10 goals, one ahead of Brazilian striker Luís Fabiano. \"As of 8 December 2014\" Humberto Suazo Humberto Andrés Suazo Pontivo (; born 10 May 1981), nicknamed Chupete (in English, Pacifier), is a Chilean',\n",
       "   'score': '0.9346745'},\n",
       "  {'id': '3184711',\n",
       "   'title': 'Belgium national football team',\n",
       "   'text': '6 months and 10 days. \". The records are collected based on data from FIFA and RSSSF.\" \"Highlighted names denote a player still playing or available for selection.\" Romelu Lukaku is the highest-scoring Belgium player with 45 goals. Those who scored the most goals in one match are Robert De Veen, Bert De Cleyn and Josip Weber (5); De Veen also holds the record for the most hat-tricks with three. Belgium\\'s fastest goal after the initial kick-off was scored by Christian Benteke, 8.1 seconds into the match against Gibraltar on 10 October 2016. Belgium national football team The Belgian national',\n",
       "   'score': '0.933787'},\n",
       "  {'id': '1853085',\n",
       "   'title': 'Germany national football team',\n",
       "   'text': \"minute, his 16th World Cup goal, gave him sole possession of the record for most goals scored during World Cup Finals, dethroning former Brazilian national Ronaldo. In the second half of the game, substitute André Schürrle scored twice for Germany to lead 7–0, the highest score against Brazil in a single game. Germany did, however, concede a late goal to Brazil's Oscar. It was Brazil's worst ever World Cup defeat, whilst Germany broke multiple World Cup records with the win, including the record broken by Klose, the first team to reach four consecutive World Cup semi-finals, the first team to\",\n",
       "   'score': '0.9336492'},\n",
       "  {'id': '14688659',\n",
       "   'title': 'FIFA World Cup Dream Team',\n",
       "   'text': \"eleven-member side divided as one goalkeeper, three defenders, four midfielders, and three forwards (3-4-3 formation). FIFA World Cup Dream Team The FIFA World Cup Dream Team is an all-time FIFA World Cup all-star team published by FIFA in 2002 after conducting an internet poll of fans to select a World Cup dream team. Diego Maradona of Argentina received the most votes. More than one-and-a-half million fans worldwide voted in the poll, conducted by the official FIFA website, www.FIFAworldcup.com, with Maradona receiving 111,035 votes. Brazil's Pelé, who played for three World Cup-winning teams, won 107,539 votes and Zinedine Zidane, who scored\",\n",
       "   'score': '0.93265074'},\n",
       "  {'id': '372578',\n",
       "   'title': 'San Marino',\n",
       "   'text': 'recording only one win in over 25 years of its history, a 1–0 victory in 2004 against Liechtenstein. They have drawn four more, with their most notable result being a 1993 0–0 draw with Turkey during the European qualifiers for the 1994 FIFA World Cup. Despite being among the worst teams in the world, they used to hold the record for the fastest goal scored in international football (since broken by Christian Benteke), with David Gualtieri scoring 8.3 seconds after the start of a match against the England national football team in 1993, which they went on to lose 7–1,',\n",
       "   'score': '0.9315896'},\n",
       "  {'id': '20441458',\n",
       "   'title': '2018 FIFA World Cup Group A',\n",
       "   'text': \"in the competition. Al-Faraj's penalty goal for Saudi Arabia, scored after 50 minutes and 36 seconds, was the latest goal scored in the first half of a World Cup game since 1966. El-Hadary, at the age of 45 years and 161 days, is the oldest player in the history of the World Cup, breaking the record set by Colombia's Faryd Mondragón in 2014 (43y 3d). Salah became the first African player to score in his first two appearances at the World Cup. Abdullah Otayf completed 110 passes in this match, the most by an Asian player in a World Cup\",\n",
       "   'score': '0.93083507'},\n",
       "  {'id': '18150592',\n",
       "   'title': 'FIFA World Cup top goalscorers',\n",
       "   'text': \"the 1930 tournament. The first was Hungary's Sándor Kocsis with eleven in 1954. At the next tournament, France's Just Fontaine improved on this record with 13 goals in only six games. Gerd Müller scored 10 for West Germany in 1970 and broke the overall record when he scored his 14th goal at the World Cup during West Germany's win at the 1974 final. His record stood for more than three decades until Ronaldo's 15 goals between 1998 and 2006 for Brazil. Germany's Miroslav Klose went on to score a record 16 goals across four consecutive tournaments between 2002 and 2014.\",\n",
       "   'score': '0.93004483'},\n",
       "  {'id': '714166',\n",
       "   'title': '1958 FIFA World Cup',\n",
       "   'text': 'and win a World Cup Final. Conversely, Nils Liedholm became the oldest player to score in a World Cup Final at 35 years, 263 Days. This final had the highest number of goals scored by a winning team (5), the highest number of total goals scored (7), and together with the 1970 and 1998 finals shares the highest goal margin of difference (3); Brazil played in all those three finals. The game is also notable for many firsts in FIFA World Cup. With the exception of the 1950 FIFA World Cup final group stage, this marked the first time that',\n",
       "   'score': '0.9291469'},\n",
       "  {'id': '17309483',\n",
       "   'title': '2014 FIFA World Cup knockout stage',\n",
       "   'text': \"the tournament, the most they had ever allowed in a World Cup and also the most conceded by any World Cup hosts. Brazil also became the second team to concede 100 World Cup goals, after Germany. Van Persie's goal was the 100th goal that Brazil have conceded in the FIFA World Cup and made him the 2nd highest Dutch goalscorer with 6 World Cup goals along with Wesley Sneijder, Arjen Robben, Dennis Bergkamp, and Rob Rensenbrink, all before Johnny Rep with 7 World Cup goals. Lastly, since the beginning of the 21st century of the World Cups (first one being\",\n",
       "   'score': '0.9289051'},\n",
       "  {'id': '1472147',\n",
       "   'title': 'Gerd Müller',\n",
       "   'text': \"goal-scoring record in the World Cup with 14 goals for 32 years. In 1999, Müller was ranked ninth in the European player of the Century election held by the International Federation of Football History & Statistics (IFFHS), and he was voted 13th in the IFFHS' World Player of the Century election. In 2004, Pelé named Müller in the FIFA 100 list of the world's greatest living players. Born in Nördlingen, Germany, Müller began his football career at his hometown club TSV 1861 Nördlingen. Müller joined Bayern Munich in 1964, where he teamed up with future stars Franz Beckenbauer and Sepp\",\n",
       "   'score': '0.9283387'},\n",
       "  {'id': '8236025',\n",
       "   'title': '1998 FIFA World Cup Final',\n",
       "   'text': \"Korea in 2002. Ronaldo went on to set the record for goals in World Cups, which was later broken by Miroslav Klose of Germany in the 2014 FIFA World Cup. Blanc and Deschamps both later had spells as manager of the France national team, with Deschamps leading them to a second World Cup title almost exactly 20 years later in the 2018 World Cup in Russia, making him only the third man to have won the World Cup as both player and manager after Zagallo and Germany's Franz Beckenbauer. Many of the French players who won the 1998 World Cup\",\n",
       "   'score': '0.927796'},\n",
       "  {'id': '1448644',\n",
       "   'title': '2010 FIFA World Cup',\n",
       "   'text': \"also had the fewest goals conceded for a champion (2), equal with Italy (2006) and France (1998). Spain's victory marked the first time that a team won the World Cup without conceding a goal in the knockout stage. The four top scorers in the tournament had five goals each. All of the four top scorers also came from the teams that finished in the top four, Spain, the Netherlands, Germany, and Uruguay. The Golden Boot went to Thomas Müller of Germany who had three assists, compared to one for the three others. The Silver Boot went to David Villa of\",\n",
       "   'score': '0.92706335'},\n",
       "  {'id': '1375478',\n",
       "   'title': '1970 FIFA World Cup',\n",
       "   'text': \"with FIFA's stated wish. The tournament's average of 2.97 goals per game set a level not since bettered. The eventual champions Brazil, led by Carlos Alberto, and featuring Pelé, Clodoaldo, Gérson, Jairzinho, Rivellino, and Tostão, is often cited as the greatest-ever World Cup team. They won all of their six games on the way to the title, and had also won every one of their qualifying fixtures. Jairzinho's feat of scoring in every finals match likewise has yet to be equalled. Coach Mário Zagallo became the first man to win the World Cup as both a player (1958, 1962) and\",\n",
       "   'score': '0.92588234'},\n",
       "  {'id': '3018034',\n",
       "   'title': 'Spain national football team',\n",
       "   'text': 'highest goalscorer, scoring 59 goals since 2005, during which time he played for Spain on 98 occasions. Raúl González is the second highest goalscorer, scoring 44 goals in 102 appearances between 1996 and 2006. Fernando Torres is the third highest goalscorer with 38 goals in 110 appearances since 2003. Between November 2006 and June 2009, Spain went undefeated for a record-equaling 35 consecutive matches before their loss to the United States in the Confederations Cup, a record shared with Brazil, and included a record 15-game winning streak. In the 2010 FIFA World Cup, Spain became the first European national team',\n",
       "   'score': '0.9241703'},\n",
       "  {'id': '4837751',\n",
       "   'title': 'Tim Cahill',\n",
       "   'text': \"only goal in their opening group match against Chile on 13 June 2014. He joined Portuguese star Cristiano Ronaldo, Mexican defender Rafael Márquez, Dutch players Robin van Persie and Arjen Robben, German player Miroslav Klose, and American Clint Dempsey as the only players to score at the 2006, 2010 and 2014 FIFA World Cups. On 18 June, Cahill scored Australia's first goal against the Netherlands in their 3–2 defeat; a strike which has been considered by some experts as one of the best goals ever scored in a World Cup. Cahill volleyed the ball past Jasper Cillessen. Tim Cahill was\",\n",
       "   'score': '0.9239461'},\n",
       "  {'id': '5438301',\n",
       "   'title': 'Lionel Messi',\n",
       "   'text': 'far post. Substitute Mario Götze finally scored in the 113th minute, followed in the last minute of extra time by a free kick that Messi sent over the net, as Germany won the match 1–0 to claim the World Cup. At the conclusion of the final, Messi was awarded the Golden Ball as the best player of the tournament. In addition to being the joint third-highest goalscorer, with four goals and an assist, he created the most chances, completed the most dribbling runs, made the most deliveries into the penalty area and produced the most throughballs in the competition. However,',\n",
       "   'score': '0.92317843'},\n",
       "  {'id': '5438234',\n",
       "   'title': 'Lionel Messi',\n",
       "   'text': \"the competition's all-time top scorer with eight goals. At the close of the year, on 18 December, he scored twice in the FIFA Club World Cup final, a 4–0 victory over Santos, earning the Golden Ball as the best player of the tournament, as he had done two years previously. For his efforts in 2011, he again received the FIFA Ballon d'Or, becoming only the fourth player in history to win the Ballon d'Or three times, after Johan Cruyff, Michel Platini, and Marco van Basten. Additionally, he won the inaugural UEFA Best Player in Europe Award, a revival of the\",\n",
       "   'score': '0.9223232'},\n",
       "  {'id': '5393919',\n",
       "   'title': 'Football in Germany',\n",
       "   'text': \"the team that scored the most goals in the FIFA World Cup 2010, with three 4-goal hauls. They lost to only two teams, Serbia and Spain. Thomas Müller won the Golden Shoe and Best Young Player award. The 2011 FIFA Women's World Cup was held in Germany. The competition kicked off with two matches on 26 June—the first in Sinsheim pitting France and Nigeria, followed by the official opening match in Berlin featuring Germany and Canada. Germany went on to win Group A without dropping a point, but lost in the quarterfinals to eventual champion Japan. Germany emerged champions of\",\n",
       "   'score': '0.92213583'},\n",
       "  {'id': '1310204',\n",
       "   'title': '1994 FIFA World Cup',\n",
       "   'text': 'proved to be far stronger than Cameroon and Russia in every department. The game between the latter two broke two World Cup records. Oleg Salenko of Russia became the first – and remains the only – man to score five goals in a single World Cup game as Russia ran out 6–1 winners against their African opponents. The goals also ensured that Salenko finished the tournament joint-top scorer with six goals, having previously bagged one against Sweden. Cameroon left a mark too as Roger Milla, at the age of 42, became the oldest World Cup goalscorer of all time as',\n",
       "   'score': '0.9220623'},\n",
       "  {'id': '5612956',\n",
       "   'title': 'Karim Bagheri',\n",
       "   'text': \"of the strongest right-footed shots and scored many fantastic goals against opponents, such as his game-tying goal against South Korea in the quarter finals of the 2000 Asian Cup in Lebanon. On 2 June 1997, he scored seven times against the Maldives, and equalled the record for the most goals scored in a World Cup match, which was held by the Australian Gary Cole since 1981. Their joint record was broken on 11 April 2001 when another Australian, Archie Thompson scored 13 goals against American Samoa. He was named the world's second top goal scorer in official international matches by\",\n",
       "   'score': '0.9217664'},\n",
       "  {'id': '20441420',\n",
       "   'title': '2018 FIFA World Cup Group B',\n",
       "   'text': '33, Ronaldo also became the oldest hat-trick scorer in the World Cup, surpassing Rob Rensenbrink of the Netherlands, who scored three times against Iran in 1978, aged 30. With this result, Spain has not won any opening matches since 2006, having lost to Switzerland 0–1 in 2010 and the Netherlands 1–5 in 2014. <section begin=b2 /><section end=b2 /> The two teams had met previously only once, a group stage game in the 1986 FIFA World Cup, won by Morocco 3–1. João Moutinho swung in a cross from the right after a short corner and Cristiano Ronaldo headed the ball powerfully',\n",
       "   'score': '0.92168117'},\n",
       "  {'id': '16038605',\n",
       "   'title': 'Costa Rica at the FIFA World Cup',\n",
       "   'text': \"finals, namely in 1990, 2002, 2006, 2014 and 2018. Their best performance to date was in the 2014 edition, where they reached the quarter-finals. A list of the top goalscorers for Costa Rica in the FIFA World Cup. Joel Campbell, Óscar Duarte, Marco Ureña and Bryan Ruiz all scored in Costa Rica's 2014 World Cup campaign. Costa Rica at the FIFA World Cup This is a record of Costa Rica's results at the FIFA World Cup. The FIFA World Cup, sometimes called the Football World Cup or the Soccer World Cup, but usually referred to simply as the World Cup,\",\n",
       "   'score': '0.9213696'},\n",
       "  {'id': '12535164',\n",
       "   'title': 'Christian Benteke',\n",
       "   'text': 'the Belgians reached the quarter-finals and lost to Wales. On 10 October 2016, Benteke set a record for the fastest goal in a World Cup match—either qualifying or the finals—when he scored after 8.1 seconds against Gibraltar in a 2018 FIFA World Cup qualifying match, breaking the 23-year-old record previously held by Davide Gualtieri. He scored twice more to complete his first hat-trick for Belgium. He was left out of the final Belgium 23-man squad for the 2018 FIFA World Cup despite initially being named in the preliminary squad. Benteke is a Christian. He points up to the sky after',\n",
       "   'score': '0.92064'},\n",
       "  {'id': '17309437',\n",
       "   'title': '2014 FIFA World Cup Group G',\n",
       "   'text': \"of Roger Milla as the top African goalscorer in the World Cup. Ronaldo's goal made him the first Portuguese player to score in three World Cups. <section begin=g6 /><section end=g6 /> 2014 FIFA World Cup Group G Group G of the 2014 FIFA World Cup consisted of Germany, Portugal, Ghana and United States. Play began on 16 June and ended on 26 June 2014. The eventual champions, Germany, came from this group. The two teams had met in 17 previous matches, including in the 2006 FIFA World Cup third place match, won by Germany 3–1. Their most recent meeting was\",\n",
       "   'score': '0.92050457'},\n",
       "  {'id': '12285354',\n",
       "   'title': 'Thomas Müller',\n",
       "   'text': \"to do so (after Teófilo Cubillas and teammate Miroslav Klose). With the goal, he has tied Helmut Rahn with 10 World Cup goals. On 11 July, Müller was named on the ten-man shortlist for FIFA's Golden Ball award for the tournament's best player. Having played a major role in the team's World Cup triumph, Müller received the Silver Boot as the tournament's second top goalscorer with five goals, and was also named in the World Cup All Star XI. Müller featured in nine of ten matches during Germany's qualifying campaign for UEFA Euro 2016, scoring nine goals as Germany topped\",\n",
       "   'score': '0.9201943'},\n",
       "  {'id': '1472156',\n",
       "   'title': 'Gerd Müller',\n",
       "   'text': 'FIFA World Cup tournaments were a record between 1974 and 2006. This score was bettered in 2006 by Brazil\\'s Ronaldo, and eight years later by German Miroslav Klose, who also broke Müller\\'s record for goals for Germany. Gerd Müller Gerhard \"Gerd\" Müller (; born 3 November 1945) is a German retired footballer. A prolific striker renowned for his clinical finishing, especially in and around the six-yard box, he is regarded as one of the greatest goalscorers of all time. At international level with West Germany, he scored 68 goals in 62 appearances, and at club level, after 15 years with',\n",
       "   'score': '0.91923285'},\n",
       "  {'id': '3060317',\n",
       "   'title': 'Park Ji-sung',\n",
       "   'text': \"13 goals. He was a member of the team that finished fourth at the 2002 FIFA World Cup. He also represented his nation at the 2006 FIFA World Cup and was captain at the 2010 FIFA World Cup. Park scored in three consecutive tournaments (the first South Korean and only second Asian player to do so) and is currently South Korea's joint all-time leading goalscorer at the FIFA World Cup finals with three goals, alongside Ahn Jung-hwan and Son Heung-min. Although many sources report that he was born in the South Korean capital, Seoul, Park was actually born in Goheung,\",\n",
       "   'score': '0.9191202'},\n",
       "  {'id': '2513866',\n",
       "   'title': 'Roger Milla',\n",
       "   'text': \"42, Milla became the oldest goalscorer in World Cup history by scoring against Russia in the 1994 FIFA World Cup. Milla is also remembered for his trademark goal celebration of running to the corner flag and performing a dance. In the years that have followed, he has been recognised as a pioneer of the many unconventional and imaginative goal celebrations seen since then. In 2004 he was named by Pelé in the FIFA 100 list of the world's greatest living players. In 2007, the Confederation of African Football named Milla the best African player of the previous 50 years. Born\",\n",
       "   'score': '0.91850483'},\n",
       "  {'id': '6609914',\n",
       "   'title': 'Christine Sinclair',\n",
       "   'text': \"MVP. , she ranks second worldwide in all-time international goals scored. At the 2003 FIFA Women's World Cup, Sinclair scored three goals for Canada on their way to a surprising fourth-place finish, their best in that competition to date. During the team's first group stage match against Germany, she scored the first goal of the match in the fourth minute. Germany scored four goals to defeat Canada 4–1. After defeating Argentina 3–0, the team faced Japan in their last group stage match of the tournament. With goals from Sinclair and teammates Christine Latham and Kara Lang, Canada won 3–1 and\",\n",
       "   'score': '0.9179963'},\n",
       "  {'id': '17964378',\n",
       "   'title': 'History of the Portugal national football team',\n",
       "   'text': \"from Pauleta, the leading goalscorer in the World Cup qualifiers), Iran (2–0, scored by Deco, and Cristiano Ronaldo) and Mexico (2–1, goals from Maniche and Simão). Only Mexico's Francisco Fonseca was able to score against Portugal. The Netherlands lost to Portugal 1–0 in the Round of 16 on 25 June in Nuremberg. The only goal came courtesy of a Maniche strike in an acrimonious match marked by 16 yellow cards, with four players (Khalid Boulahrouz, Costinha, Deco, and Giovanni van Bronckhorst) being sent off. (See the Battle of Nuremberg.) On 1 July at Gelsenkirchen, Portugal drew 0–0 after extra-time with\",\n",
       "   'score': '0.9161614'},\n",
       "  {'id': '4539838',\n",
       "   'title': 'Giovanni van Bronckhorst',\n",
       "   'text': \"best goals in World Cup history. Van Bronckhorst's final match for the Netherlands and as a professional footballer came in the World Cup final against Spain. He was substituted in the 105th minute for Edson Braafheid with the score 0–0, only for Andrés Iniesta to condemn the Dutch to a defeat, scoring the only goal of the match in the 116th minute. After ending the tournament as runners-up, Van Bronckhorst stated he was proud of what the team had achieved. Having retired at the end of the 2009–10 season prior to the 2010 World Cup, it was announced on 21\",\n",
       "   'score': '0.91604114'},\n",
       "  {'id': '3718720',\n",
       "   'title': 'Oleg Salenko',\n",
       "   'text': \"of them at the World Cup in which he was joint top scorer. His last international appearance was 6–1 win against Cameroon when he scored five times. As of 2017, he is the only player to win the Golden Boot at both the U-20 World Cup and FIFA World Cup. Salenko set a World Cup record by scoring five goals in one game in Russia's 6–1 win against Cameroon on 28 June 1994. He finished the 1994 World Cup with six goals, having scored from the penalty spot against Sweden in the previous match and shared the Golden Boot with\",\n",
       "   'score': '0.91514534'},\n",
       "  {'id': '3122160',\n",
       "   'title': 'Just Fontaine',\n",
       "   'text': '2010 World Cup in South Africa, particularly on the lackluster playing by the forwards. France were eliminated after group stage, with a draw against Uruguay and losses to Mexico and South Africa. Just Fontaine Just Fontaine (; born 18 August 1933) is a retired French professional footballer. A prolific forward, he is best known for scoring the most goals in a single edition of the FIFA World Cup, with 13 in six matches in 1958. In 2004, Pelé named him one of the 125 Greatest Living Footballers at a FIFA Awards Ceremony. Born in Marrakech to a French father and',\n",
       "   'score': '0.9149225'},\n",
       "  {'id': '20441560',\n",
       "   'title': '2018 FIFA World Cup Group H',\n",
       "   'text': \"Moussa Wagué finished a low Sabaly cross into the top corner. Japan equalised again just seven minutes later, when Senegal goalkeeper Khadim N'Diaye failed to collect an Osako cross, leading to Inui sending the ball to Japanese substitute Keisuke Honda, who finished at the near post. Wagué became the youngest African goalscorer at a World Cup, at the age of 19 years and 268 days. With his goal, Honda became the first Japanese player to score at three different World Cups, as well as the top scoring Asian player in World Cup history with four goals. Japan equalled their best\",\n",
       "   'score': '0.9145727'},\n",
       "  {'id': '707622',\n",
       "   'title': '1954 FIFA World Cup',\n",
       "   'text': \"The 11 goals scored by Kocsis of Hungary not only led the World Cup but bettered the previous record (set by Brazilian Ademir in the previous tournament) by two goals. Kocsis' mark was broken by Just Fontaine's 13 goals in 1958. Despite not winning the 1954 tournament, their fourth-place finish and their two previous World Cup titles made Uruguay the most successful World Cup nation for eight years, until Brazil won their second title in 1962. Hungary's 9–0 win against Korea during the group stages remains the biggest margin of victory in FIFA World Cup history, later equalled by Yugoslavia\",\n",
       "   'score': '0.91448677'},\n",
       "  {'id': '1472146',\n",
       "   'title': 'Gerd Müller',\n",
       "   'text': 'on the list of all time international goalscorers, despite playing fewer matches than every other player in the top 25. Among the top scorers, he has the third-highest goal-to-game ratio. Nicknamed \"\"Bomber der Nation\"\" (\"the nation\\'s Bomber\") or simply \"\"Der Bomber\"\", Müller was named European Footballer of the Year in 1970. After a successful season at Bayern Munich, he scored ten goals at the 1970 FIFA World Cup for West Germany where he received the Golden Boot as top goalscorer. He scored four goals in the 1974 World Cup, including the winning goal in the final. Müller held the all-time',\n",
       "   'score': '0.9139843'},\n",
       "  {'id': '2724325',\n",
       "   'title': 'Birgit Prinz',\n",
       "   'text': \"the second all-time leading goalscorer at FIFA Women's World Cups. From 2008 until 2012, Prinz and Brazil's Cristiane both held the tournament record of 10 goals at the Summer Olympics, although Cristiane has now surpassed Prinz. For the German national team Prinz appeared 214 times and scored 128 goals, and is the team's most capped player and top goalscorer. Prinz competed in five FIFA Women's World Cup: Sweden 1995, USA 1999, USA 2003, China 2007; and Germany 2011; and four Olympics: Atlanta 1996, Sydney 2000, Athens 2004, and Beijing 2008. Altogether she played in 43 matches and scored 24 goals\",\n",
       "   'score': '0.9135796'},\n",
       "  {'id': '14642813',\n",
       "   'title': 'African nations at the FIFA World Cup',\n",
       "   'text': 'man ever to score at the World Cup finals) and sparked brief hopes of a miracle comeback. However, the final score was a 1–6 loss to Russia, with Oleg Salenko netting a record-breaking five goals in vain. In Group F, Morocco lost its three matches by a goal each, 0–1 to Belgium, 1–2 to Saudi Arabia, and 1–2 to the Netherlands. In Group D, Nigeria thumped eventual semi-finalists Bulgaria 3–0, then fell to a 1–2 loss to Argentina before beating Greece 2–0. Nigeria, Bulgaria, and Argentina all finished on six points and qualified for the second round. In the second',\n",
       "   'score': '0.9126667'},\n",
       "  {'id': '18149359',\n",
       "   'title': 'Brazil v Germany (2014 FIFA World Cup)',\n",
       "   'text': \"Cup semi-final. The game saw Germany overtake Brazil as the highest scoring team in World Cup tournament history and become the first team to reach eight World Cup Finals. Miroslav Klose scored his 16th career World Cup goal and surpassed Brazil's own Ronaldo as the tournament's all-time record goalscorer. Brazil's loss broke their 62-match home unbeaten streak in competitive matches going back to the 1975 Copa América (over Peru 1–3), equalled their biggest ever margin of defeat in a match alongside a 6–0 loss to Uruguay in 1920, and broke the record for the most goals ever conceded by Brazil\",\n",
       "   'score': '0.91247535'},\n",
       "  {'id': '336182',\n",
       "   'title': 'Pelé',\n",
       "   'text': 'IFFHS, Pelé is the most successful league goal-scorer in the world, scoring 1281 goals in 1363 games, which included unofficial friendlies and tour games. During his playing days, Pelé was for a period the best-paid athlete in the world. Pelé began playing for Santos at age 15 and the Brazil national team at 16. During his international career, he won three FIFA World Cups: 1958, 1962 and 1970, being the only player ever to do so. Pelé is the all-time leading goalscorer for Brazil with 77 goals in 92 games. At club level he is the record goalscorer for Santos,',\n",
       "   'score': '0.91233516'},\n",
       "  {'id': '11960275',\n",
       "   'title': 'Wartan Ghazarian',\n",
       "   'text': 'goals (4 in World Cup qualifiers, 3 in Asian Cup qualifiers, 12 in friendlies). His record was later broken by Roda Antar, after Roda scored his 20th goal in 2018 FIFA World Cup qualification match against Laos. On 16 November 2008, during Round 6 of the Lebanese Football League, at the age of 39 years, Vartan scored his 130th goal in the Lebanese first division against Tadamon Tyre, becoming officially the highest all-time scorer in the history of Lebanese football. Some officials do not recognize the 12 goals he scored in the 2000–2001 season which was canceled. However, his remaining',\n",
       "   'score': '0.91231406'},\n",
       "  {'id': '20441563',\n",
       "   'title': '2018 FIFA World Cup Group H',\n",
       "   'text': \"found Cuadrado in space through the middle and he took a touch before finishing it into the bottom-right corner of the net. Poland were the first European nation to be eliminated from the 2018 World Cup. Including Colombia's victory against Poland, there were 14 World Cup goals scored on 24 June 2018 - the most on a single day of action in the competition (maximum 3 games) since 10 June 1990 (also 14). <section begin=h4 /><section end=h4 /> The two teams had met twice, most recently in a friendly game in 2002, won by Japan 2–0. Yoshinori Muto's drive forced\",\n",
       "   'score': '0.91197824'},\n",
       "  {'id': '13917023',\n",
       "   'title': 'FIFA Puskás Award',\n",
       "   'text': 'forward European football produced in first-division football, and scored a once world record of 84 goals in 85 internationals. He is one of the top scorers of the 20th century, with 512 goals in 528 matches. \"It is important to preserve the memory of those footballing greats who have left their mark on our history. Ferenc Puskás was not only a player with immense talent who won many honours, but also a remarkable man. FIFA is therefore delighted to pay tribute to him by dedicating this award to his memory,\" said Blatter at the inauguration of the award in Budapest.',\n",
       "   'score': '0.91182417'},\n",
       "  {'id': '16690221',\n",
       "   'title': 'United Arab Emirates at the FIFA World Cup',\n",
       "   'text': 'the only goal for the UAE in the 22nd minute when he headed home from six yards after a cross from the left. Nine players have been fielded on all three occasions, making them record World Cup players for their country. Among them are twin brothers Eissa and Ibrahim Meer. Two UAE players scored one goal each at the 1990 World Cup. United Arab Emirates at the FIFA World Cup The FIFA World Cup, sometimes called the Football World Cup or the Soccer World Cup, but usually referred to simply as the World Cup, is an international association football competition',\n",
       "   'score': '0.911347'},\n",
       "  {'id': '18149372',\n",
       "   'title': 'Brazil v Germany (2014 FIFA World Cup)',\n",
       "   'text': \"1954, Austria took seven minutes (25' to 32') and in 1982, Hungary also took seven minutes (69' to 76') to score four goals. Germany equalled the record for most goals scored against the host nation of the World Cup, with Austria defeating Switzerland 7–5 in the 1954 World Cup. Germany also overtook Brazil to become the all-time highest-scoring team in FIFA World Cup history, their total of 223 at full-time passing Brazil's 221. Before the match Brazil and Germany were even with seven World Cup finals each, the German victory made them the only squad to reach 8 finals. For\",\n",
       "   'score': '0.9106754'},\n",
       "  {'id': '20254637',\n",
       "   'title': '2018 FIFA World Cup knockout stage',\n",
       "   'text': \"on hand to complete the comeback for Belgium with a low finish. Belgium are the first team to come from two or more goals down to win a World Cup knockout stage match within 90 minutes since Portugal beat North Korea in the 1966 quarter-final (3–0 down, 5–3 win); and for the first time comeback from two goals down since West Germany's comeback 3–2 victory over England at 1970. Japan scored six goals at Russia 2018, their highest ever tally in a single World Cup tournament. Belgium have reached the World Cup quarter-finals in successive tournaments for the first time.\",\n",
       "   'score': '0.90902054'},\n",
       "  {'id': '3121730',\n",
       "   'title': 'Patrick Kluivert',\n",
       "   'text': \"the qualifying games leading up to the World Cup either. This was due to the fact that he suffered persistent injuries which prevented him from playing for his club during the 2005-06 season. Kluivert was the all-time leading goalscorer for the Dutch national team with 40 goals, until he was surpassed by Robin van Persie in 2013. Although tall in stature, Kluivert possessed a remarkably impressive 'first touch' and quick feet for such a large striker. Similar to Brazilian footballer Ronaldo, he often used several feints, namely the Cruijff Turn, to great effect to go past defenders, due to his\",\n",
       "   'score': '0.9087627'},\n",
       "  {'id': '13433151',\n",
       "   'title': 'Mohammad Al-Sahlawi',\n",
       "   'text': \"world's best top goalscorers by the IFFHS. In 29 March 2018 it was confirmed that he will spend three weeks training with Manchester United in order to sharpen up his game ahead of the World Cup in Russia. Al-Sahlawi scored his first goal for the national team in the 2006 AFC Youth Championship against Iraq U-20 in the 52nd minute. The game ended in a draw with a score of 2–2. His second came against Malaysia U-20 within 13 minutes, and they won with a score of 2–0, although they lost in the quarter-finals against Japan U-20 1 goal to\",\n",
       "   'score': '0.90833044'},\n",
       "  {'id': '1321013',\n",
       "   'title': 'Brazil national football team',\n",
       "   'text': \"having failed to avenge their semi-final defeat to Germany by losing to the Netherlands 0–3 in the third-place match. The team ended the tournament with the worst defensive record of the 32 competing nations, having conceded 14 goals. The only other countries to concede 12 or more goals in the current World Cup format are North Korea and Saudi Arabia. Following these results, Scolari announced his resignation. On 22 July 2014, Dunga was announced as the new manager of Brazil, returning to the position for the first time since the team's exit at the 2010 World Cup. Dunga's first match\",\n",
       "   'score': '0.9082302'},\n",
       "  {'id': '1375719',\n",
       "   'title': '2006 FIFA World Cup',\n",
       "   'text': \"goals were scored by 110 players, with four of them credited as own goals. FIFA's Technical Study Group (TSG) also granted a Man of the Match award to one player in each match. Italy's Andrea Pirlo won the most Man of the Match awards, with three in total. Miroslav Klose, Agustin Delgado, Arjen Robben, Zé Roberto, Alexander Frei, Michael Ballack, and Patrick Vieira each received two awards. The All-star team is a squad consisting of the 23 most impressive players at the 2006 World Cup, as selected by FIFA's Technical Study Group. The team was chosen from a shortlist of\",\n",
       "   'score': '0.9077909'},\n",
       "  {'id': '17209958',\n",
       "   'title': 'Asian nations at the FIFA World Cup',\n",
       "   'text': \"got a 2-0 lead, only to suffer a 3-2 comeback, with the 2 goals scored by Belgium from Jan Vertonghen and Marouane Fellaini The match ended with a Belgian goal by Nacer Chadli in the last minute of stoppage time. Asian nations at the FIFA World Cup Association football is the most popular sport in nearly every Asian country, and 12 members of the Asian Football Confederation (AFC) have competed at the sport's biggest event, the men's FIFA World Cup. The team ranking in each tournament is according to FIFA. The rankings, apart from the top four positions (top two\",\n",
       "   'score': '0.9074194'},\n",
       "  {'id': '10929836',\n",
       "   'title': 'Javier Hernández',\n",
       "   'text': \"By scoring he emulated his grandfather, Tomás Balcázar, who scored against France in the 1954 World Cup. He was elected as man of the match. On 27 June, Hernández made his first start at a World Cup and netted his second goal of the World Cup, by turning Martín Demichelis on the edge of the box before sending a left-foot shot into the roof of the net, in Mexico's 3–1 loss against Argentina in the round of 16. FIFA's statistical analysis showed that Hernández was the quickest player in World Cup 2010, reaching a top speed of 32.15 km/h. Hernández\",\n",
       "   'score': '0.9069408'},\n",
       "  {'id': '17982410',\n",
       "   'title': 'Hungary at the FIFA World Cup',\n",
       "   'text': \"West German opponents in the group stage only two weeks before the final. In one of the greatest comebacks in football history, the favoured Hungarians were defeated 2-3 despite an early 2-0 lead. With 11 goals in five matches in 1954, Sándor Kocsis beat Brazilian Ademir's existing record of nine goals in one tournament from 1950. However, only four years later the record was in turn beaten by Just Fontaine. Hungary at the FIFA World Cup The FIFA World Cup, sometimes called the Football World Cup or the Soccer World Cup, but usually referred to simply as the World Cup,\",\n",
       "   'score': '0.90654314'},\n",
       "  {'id': '3794270',\n",
       "   'title': 'Carlos Ruiz (Guatemalan footballer)',\n",
       "   'text': 'qualification in their opening match against Bermuda. On September 6, 2016, Ruiz scored 5 goals against Saint Vincent and the Grenadines in his final farewell match for Guatemala giving him a total of 39 goals in 47 qualifying games, which makes him the highest goalscorer of all-time in FIFA World Cup qualification history. Ruiz is the most prolific goal-scorer in the history of the Guatemalan National Team with 68 goals in 132 matches. Ruiz is currently the 11th all-time leading goal scorer in MLS history. He is also the All-Time Leading Goal Scorer in MLS Playoff history with 16 goals',\n",
       "   'score': '0.9059518'},\n",
       "  {'id': '20441597',\n",
       "   'title': '2018 FIFA World Cup Final',\n",
       "   'text': 'right leg. Despite a late push by Croatia, the match finished as a 4–2 victory for France and the highest-scoring World Cup final since 1966. <section begin=final /><section end=final /> <section begin=Lineups /> </includeonly><section end=Lineups /> Match rules France became the sixth country to win the World Cup more than once and qualified for the 2021 FIFA Confederations Cup with their win. Didier Deschamps became the third person to have won the World Cup as both a player and manager, after Mário Zagallo and Franz Beckenbauer. The final was the highest scoring since 1966, and the highest score in regular',\n",
       "   'score': '0.9054342'},\n",
       "  {'id': '2828567',\n",
       "   'title': 'Uwe Seeler',\n",
       "   'text': 'to appear in 20 World Cup matches (he retired with 21 matches played, tied for third all-time); the first ever to score in four World Cups (beating Pelé by only a few minutes), and the first player to score at least two goals in each of four World Cups (matched in 2014 by his compatriot Miroslav Klose). He also ranks third in all-time minutes played in World Cups, with 1980, behind Paolo Maldini and Lothar Matthäus. In total, he scored 9 goals across the four World Cups in which he played, as well as 3 goals in World Cup Qualifying',\n",
       "   'score': '0.90508556'},\n",
       "  {'id': '18149371',\n",
       "   'title': 'Brazil v Germany (2014 FIFA World Cup)',\n",
       "   'text': \"by a host country in World Cup history, as the six-goal difference doubled the previous record margin. By the end of the game, a total of 167 goals had been scored at the 2014 World Cup, the 2nd-most at a single World Cup, after 1998 with 171 goals. With 18 total shots on target, the match had the joint-most shots on target of any match in 90 minutes at the 2014 World Cup. The match also had the fastest four goals scored in World Cup history, with Germany scoring in the span of six minutes (from 23' to 29'); in\",\n",
       "   'score': '0.90432525'},\n",
       "  {'id': '9088392',\n",
       "   'title': 'Luis Suárez',\n",
       "   'text': \"top La Liga in both goals and assists. Suárez is Uruguay's all-time leading goalscorer. At the 2010 FIFA World Cup he played an important role in Uruguay's fourth-place finish, scoring three goals, as well as controversially blocking a goal-bound extra time header with his hands during the quarter-final against Ghana. At the 2011 Copa América, Suárez scored four goals as Uruguay won a record fifteenth Copa América, and he was named Player of the Tournament. At the 2014 FIFA World Cup in Brazil, Suárez scored his 40th international goal before he was suspended from the tournament after biting Italy defender\",\n",
       "   'score': '0.903644'},\n",
       "  {'id': '1853070',\n",
       "   'title': 'Germany national football team',\n",
       "   'text': \"up fourteen goals in two World Cups (1970 and 1974). His ten goals in 1970 are the third-most ever in a tournament. (Müller's all-time World Cup record of 14 goals was broken by Ronaldo in 2006 which has been further broken by Miroslav Klose in 2014 with 16 goals). After West Germany were eliminated in the first round of Euro 1984, Franz Beckenbauer returned to the national team to replace Derwall as coach. At the 1986 World Cup in Mexico, West Germany finished as runners-up for the second consecutive tournament after beating France 2–0 in the semi-finals, but losing to\",\n",
       "   'score': '0.90362984'},\n",
       "  {'id': '20254663',\n",
       "   'title': '2018 FIFA World Cup knockout stage',\n",
       "   'text': \"his right foot, having been sent clean through by Kevin De Bruyne. Meunier was the 10th player to score for Belgium at Russia 2018. No other team has had more, equalling France in 1982 and Italy in 2006. This is Belgium's best finish at a World Cup, having previously finished fourth in 1986. This was England's 100th match at a major tournament – 69 at the World Cup, 31 at the European Championship. Since 1966, no player has been involved in more World Cup goals for Belgium than Hazard (seven – three goals and four assists), level with Jan Ceulemans\",\n",
       "   'score': '0.90360665'},\n",
       "  {'id': '13097747',\n",
       "   'title': 'James Rodríguez',\n",
       "   'text': 'matches since Ronaldo and Rivaldo in 2002. His volleyed opening goal was described as \"one of the greatest goals the World Cup has ever seen\" by opposing manager Óscar Tabárez, who also called James \"the best player in the World Cup.\" Because of his performance against the Uruguayans, James was named by FIFA as man of the match for the third time in four matches. The volley was later voted as the best goal in the tournament by more than four million people on FIFA\\'s website and won the FIFA Puskás Award for the best goal of the year. In',\n",
       "   'score': '0.9035627'},\n",
       "  {'id': '15355842',\n",
       "   'title': 'Luis Hernández (footballer)',\n",
       "   'text': 'with (46 goals) as the nation\\'s 3rd highest all-time leading goalscorer. Hernández also played in the 2002 FIFA World Cup, albeit as a substitute in three games, and failed to score. Hernández made his last international cap on June 17, 2002 against the United States. Luis Hernández (footballer) Luis Arturo Hernández Carreón (born December 22, 1968) is a Mexican former footballer. Known by his nickname \"El Matador\" (\"The Matador\"), Hernández played as a striker and is the fourth highest goalscorer of all-time for the Mexico national football team, and their joint-highest goalscorer in World Cups. He is widely regarded as',\n",
       "   'score': '0.9035066'},\n",
       "  {'id': '9829160',\n",
       "   'title': \"David D'Errico\",\n",
       "   'text': '(Winner of 3 World Cup Medals for Brazil,scored over 1,200 goals and Voted The Player of the Century), Johan Cruyff, The Dutch Master, Franz Beckenbauer, (World Cup Winner as a player and coach), the brilliant George Best, World Cup winners, Carlos Alberto and Gerd Müller, World Class Johan Neeskens, Teofilo, (Nene), Cubillas, Vladislav (Bogie) Bogicevic, Giorgio Chinaglia, Dennis Tueart, At the time, he and Mike England were competing for the starting position. After a contract dispute David asked to be traded to the Minnesota Kicks. He spent only a single season in Minnesota before moving to the New England Tea',\n",
       "   'score': '0.90342337'},\n",
       "  {'id': '345765',\n",
       "   'title': 'Roberto Baggio',\n",
       "   'text': 'Italy; the Republic of Ireland is the only nation against which he played more than once. He is the joint-highest Italian goalscorer of all-time in the World Cup, with nine goals, alongside Paolo Rossi and Christian Vieri. Baggio is the only Italian to have scored in three World Cups (two goals in 1990, five in 1994 and two in 1998). Three of his World Cup goals were scored in the group stage and six were scored during knockout matches. Baggio is the joint fourth-highest scorer for Italy with 27 goals in 56 appearances, with a 0.48 goal per match average.',\n",
       "   'score': '0.90330666'},\n",
       "  {'id': '145487',\n",
       "   'title': 'FIFA World Cup',\n",
       "   'text': 'played the most World Cup matches (109), Germany appeared in the most finals (8), semi-finals (13), quarter-finals (16), while Brazil has appeared in the most World Cups (21), has the most wins (73) and has scored the most goals (229). The two teams have played each other twice in the World Cup, in the 2002 final and in the 2014 semi-final. FIFA World Cup The FIFA World Cup, often simply called the World Cup, is an international association football competition contested by the senior men\\'s national teams of the members of the \"\" (FIFA), the sport\\'s global governing body. The',\n",
       "   'score': '0.90317607'},\n",
       "  {'id': '7421712',\n",
       "   'title': 'Ernst Wilimowski',\n",
       "   'text': \"the tournament. Willimowski's record was later equalled by other players, but was bettered only 56 years later, when Oleg Salenko scored five goals against Cameroon during the 1994 FIFA World Cup. It still remains the only World Cup match when a player from the losing side scored four goals. Willimowski put on another memorable display on 27 August 1939 in Warsaw in an international friendly against what was then one of the best teams in the world - Hungary, the 1938 World Cup runner-up. After 33 minutes of play the Hungarians were ahead 2:0. Willimowski scored three goals and again\",\n",
       "   'score': '0.90259755'}]}"
      ]
     },
     "execution_count": 17,
     "metadata": {},
     "output_type": "execute_result"
    }
   ],
   "source": [
    "dataset['train'][0][]"
   ]
  },
  {
   "cell_type": "code",
   "execution_count": 18,
   "metadata": {},
   "outputs": [
    {
     "name": "stdout",
     "output_type": "stream",
     "text": [
      "Downloading and preparing dataset json/default to /home/lucas_dfki/.cache/huggingface/datasets/json/default-513c81eb35ebead5/0.0.0/e347ab1c932092252e717ff3f949105a4dd28b27e842dd53157d2f72e276c2e4...\n"
     ]
    },
    {
     "data": {
      "application/vnd.jupyter.widget-view+json": {
       "model_id": "ca77ffe4fa7948e680a3c141b62b1c97",
       "version_major": 2,
       "version_minor": 0
      },
      "text/plain": [
       "Downloading data files:   0%|          | 0/1 [00:00<?, ?it/s]"
      ]
     },
     "metadata": {},
     "output_type": "display_data"
    },
    {
     "data": {
      "application/vnd.jupyter.widget-view+json": {
       "model_id": "9546f79bd4fe48058ed2904095d8e0a9",
       "version_major": 2,
       "version_minor": 0
      },
      "text/plain": [
       "Extracting data files:   0%|          | 0/1 [00:00<?, ?it/s]"
      ]
     },
     "metadata": {},
     "output_type": "display_data"
    },
    {
     "data": {
      "application/vnd.jupyter.widget-view+json": {
       "model_id": "c72c8b1998e349bebce405afc4c0fa7b",
       "version_major": 2,
       "version_minor": 0
      },
      "text/plain": [
       "Generating train split: 0 examples [00:00, ? examples/s]"
      ]
     },
     "metadata": {},
     "output_type": "display_data"
    },
    {
     "name": "stdout",
     "output_type": "stream",
     "text": [
      "Dataset json downloaded and prepared to /home/lucas_dfki/.cache/huggingface/datasets/json/default-513c81eb35ebead5/0.0.0/e347ab1c932092252e717ff3f949105a4dd28b27e842dd53157d2f72e276c2e4. Subsequent calls will reuse this data.\n"
     ]
    },
    {
     "data": {
      "application/vnd.jupyter.widget-view+json": {
       "model_id": "1b7bb8589fb1496793bc7cc5e235bfda",
       "version_major": 2,
       "version_minor": 0
      },
      "text/plain": [
       "  0%|          | 0/1 [00:00<?, ?it/s]"
      ]
     },
     "metadata": {},
     "output_type": "display_data"
    }
   ],
   "source": [
    "dataset = load_dataset('json', data_files=\"../results/intermediate_gens/llama2_asqa_plus_top_3.jsonl\")"
   ]
  },
  {
   "cell_type": "code",
   "execution_count": 25,
   "metadata": {},
   "outputs": [
    {
     "name": "stdout",
     "output_type": "stream",
     "text": [
      "Answer the following question based on the given documents:\n",
      "\n",
      " Question: Who played the weasley brothers in harry potter?\n",
      "Documents: five of the \"Harry Potter\" films, starting with 2005's \"Harry Potter and the Goblet of Fire\". She acquired the role when casting agents visited her school and, after having attended several auditions, chose her for the part. Azad had stated that she had auditioned \"just for the fun of it\" and surprisingly got the part. She has also told the press that her best friends on the set of Harry Potter were Bonnie Wright (Ginny Weasley), Katie Leung (Cho Chang), Evanna Lynch (Luna Lovegood), and Scarlett Byrne (Pansy Parkinson). Azad and Shefali Chowdhury (who played the character of Azad's twin the Malfoys. All of the Weasleys have been sorted into Gryffindor House at Hogwarts. All of the Weasley children, except Bill and Percy who both were Head Boy, are known to have played on the Gryffindor Quidditch team, with Charlie being the captain of the team for at least one of his school years. Bill, Charlie, and Ron were also chosen as the prefect of their House. The Weasleys also all work for the Order of the Phoenix, and all are members except for Ron, Percy, and Ginny, who (as of the end of \"Harry Potter and the Deathly Hallows\") \"seventeen goals\" during a Quidditch practice. Ginny was adept at the Bat-Bogey Hex, which drew her to the attention of Horace Slughorn, and her subsequent invitation to the Slug Club. Bonnie Wright played \"Ginny Weasley\" in all eight films of the \"Harry Potter film series\". Wright voiced the character in the \"Order of Phoenix\", \"Half-Blood Prince\" and \"\" video games. Wright has described the character of Ginny as \"outgoing, friendly and confident.\" In an interview with \"The Telegraph\" prior to the release of \"Order of the Phoenix\", Wright revealed that she got the role because her brother had read the 1st book and recommended it to her, and she in turn, recommended it to her school drama teacher. The teacher then passed her details on to the casting directors, who called her in for an audition. Wright was 11 years old when she auditioned for the role of Ginny, and she was 14 when she started filming the first film.\n",
      "\n",
      "Answer: Bonnie Wright played the role of Ginny Weasley in all eight films of the Harry Potter series.\n"
     ]
    }
   ],
   "source": [
    "print(dataset['train'][3]['response'])"
   ]
  },
  {
   "cell_type": "markdown",
   "metadata": {},
   "source": [
    "# Bio Writing Formatting"
   ]
  },
  {
   "cell_type": "code",
   "execution_count": 15,
   "metadata": {},
   "outputs": [],
   "source": [
    "from datasets import load_dataset\n",
    "import json\n",
    "from pprint import pprint "
   ]
  },
  {
   "cell_type": "code",
   "execution_count": 38,
   "metadata": {},
   "outputs": [],
   "source": [
    "with open(\"../FactScore/data/unlabeled/Alpaca-7B.jsonl\", \"r\") as f_in:\n",
    "    with open(\"./llama2Chat_prompts.jsonl\",\"w\") as f_out:\n",
    "        for line in f_in.readlines():\n",
    "            hi = json.loads(line)\n",
    "            hi['output'] = \"\"\n",
    "            new_in = \"[INST]\" + hi['input'] + \"[/INST]\"\n",
    "            hi['prompt'] = new_in\n",
    "            json.dump(hi,f_out)\n",
    "            f_out.write('\\n')\n"
   ]
  },
  {
   "cell_type": "code",
   "execution_count": 28,
   "metadata": {},
   "outputs": [
    {
     "name": "stdout",
     "output_type": "stream",
     "text": [
      "'Write me a bio of: Kang Ji-hwan'\n"
     ]
    }
   ],
   "source": [
    "\n",
    "with open(\"../datasets/bio_queries.jsonl\",\"r\") as f_in:\n",
    "    for line in f_in.readlines():\n",
    "        bie = json.loads(line)\n",
    "        pprint(bie['input'])\n",
    "        break"
   ]
  },
  {
   "cell_type": "code",
   "execution_count": 36,
   "metadata": {},
   "outputs": [
    {
     "name": "stdout",
     "output_type": "stream",
     "text": [
      "['Jessie Mae Brown Beavers', 'Billy Conigliaro', 'Joseph A. Lopez', 'Patrick Merrill', 'Maxime Masson', 'Daniel Alexander Cameron', 'Serena Tideman', 'Margaret Rose Vendryes', 'Lemuel W. Joiner', 'Blair Tugman', 'Patricia Cladis', 'Jimmy Tompkins (priest)', 'Alexander Vovin', 'Krystyna Szczepańska', 'Jeffrey Viggiano', 'Earl Garrison', 'Maggie Cogan', 'Albert Outler', 'Meg Thalken', 'Rigoberto Torres', 'Shane Fontayne', 'Michael H. Schneider Sr.', 'Kion Smith', 'Joseph Michael Linsner', 'Charles Allen (jurist)', 'Richie Dorman', 'Dana Awartani', 'Carol Chell', 'Avraham Eilam-Amzallag', 'Tom Buk-Swienty', 'Settimo Mineo', 'Klaudia Kaczorowska', 'Raffaele Maiello', 'Martha Cunz', 'Mattias Asper', 'Rory Tapner', 'Maja Jager', 'Angela Bairstow', 'Abdul Ilah Khatib', 'Dennis Andersson', 'Camille Paulus', 'Michael Folorunsho', 'Hiren Gohain', 'Evgeny Shalunov', 'Felix Newman', 'G. Fowler Stewart', 'Johann Christian von Engel', 'Balázs Bekő', 'David Bogue', 'Grayston Burgess', 'Braulio Lara', 'Theophilus Annorbaah', 'Dominique Blake', 'Pablo Ganet', 'João Lucas (footballer, born 1991)', 'Josiah Maduabuchi', 'Esteban Espíndola', 'Nancy Onyango', 'Salome Maswime', 'Christian Almeida', 'León Dujovne', 'Francisco Urroz', 'Rui Campos', 'Flavio Méndez Santiago', 'Édgar Iván López', 'Felipe (footballer, born 1977)', 'Mateo Correa Magallanes', 'Ana Cláudia Bolzan', 'Tarik Marzouk', 'Ariel Behar', 'Robin del Castillo', 'Abdelhamid Shabana', 'Zié Ouattara', 'Juan Nepomucino Goetz', 'Lodewicus du Plessis', 'Worranit Thawornwong', 'Muhammad Alhamid', 'Profit (gamer)', 'Enamul Haque (engineer)', 'Rangi Te Kanawa', 'R. Selvaraj (politician)', 'Sayuri Yamauchi', 'Shin Jea-hwan', 'Leo Kokubo', 'Neha Sargam', 'Sandra Pisani', 'Harry Cave', 'Noel Malicdem', 'Sayaka Ando', 'Tappaya Sit-Or', 'Annie Landouw', 'Nuh Omar', 'Date Narikuni', 'Loo Kum Zee', 'Ushoshi Sengupta', 'Stephen J. Mackwell', 'Muhammad Al-Hafiz', 'Nobuhiro Shimatani', 'Umika Kawashima', 'Sun Wenguang', 'Wil Nieves', 'Robert Guthrie', 'Ernestine Eckstein', 'Sheldon T. Mills', 'W. Clark Still', 'Jonathan Roy', 'Jimmy Weldon', 'William M. Brodhead', 'Kelli White', 'John Morris (curler)', 'William G. Angel', 'Andy Middleton', 'Benjamin Lawrence Reid', 'David Galloway (writer)', 'Stan Marple', 'Caitlin Lowe', 'Maddy Crippen', 'John Counter', 'Jeffrey Satinover', 'DeAnna Bennett', 'Emcee N.I.C.E.', 'Karyn Pugliese', 'Michael L. MacDonald', 'Ingo Titze', 'Kathleen A. McGrath', 'Sergei Bodrov', 'Diana Ivanova', 'Arthur Ewert', 'Sami Shalom Chetrit', 'Robbie Horgan', 'Tanel Ingi', 'Joseph Jaquet', 'Alen Omić', 'James Theodore Bent', 'Karl Eliasberg', 'F. Gwynplaine MacIntyre', 'Carl Braun (obstetrician)', 'Generoso Rossi', 'Kathinka Pasveer', 'Yordanka Donkova', 'Arthur Wakefield', 'Felician of Foligno', 'Neil Sinclair', 'Jake Tilson', 'Neil Googe', 'Francis Nicholson (painter)', 'Chris Duffield', 'Aert van der Neer', 'Michael Coulson (barrister)', 'Ruth Fischer', 'Ameyaw Debrah', 'Félix María Zuloaga', 'Ahmed Mumin Warfa', 'Geraldo de Barros', 'Marcel Hernández', 'Zewde Gebre-Sellassie', 'Mohamed Abdi Mohamed', 'Shaolin (humorist)', 'Jesse Chacón', 'Abdullahi Mohammad Ahmad Hassan', 'Roxana Miranda', 'Chacho Gaytán', 'Fernando da Costa Novaes', 'Flávio Rocha', 'Santiago Vergini', 'Alexandre Hohagen', 'Ivan Toms', 'Abdul Halik Hudu', 'José Hernández Delgadillo', 'David Oyite-Ojok', 'Stephanus Swart', 'Amr Shabana', 'Vanda Pignato', 'Lou Briel', 'Diego Suarez (garden designer)', 'Haruto Takahashi', 'Karni Liddell', 'Douglas Wood (engineer)', 'Aditya Kalyanpur', 'D. B. Nihalsinghe', 'Yehuda Lindell', 'Ted Mack (politician)', 'Phillip Gillespie', 'Shigeru Fukudome', 'Akbar Hossain', 'Zhang Yaokun', 'Steve Cummins', 'Kubota Beisen', 'Marty Mayberry', 'Thirayuth Boonmee', 'Bir Hambir', 'Jashubhai Dhanabhai Barad', 'Namita Gokhale', 'Nonzee Nimibutr', 'Mamunul Islam', 'Khalid Mahmood Mithu', 'Ahsee Tuala', 'Ramkumar Mukhopadhyay', 'Alf Garland', 'Don Beard', 'Edgar Bennett', 'Matt Hunter (singer)', 'Naz Mitrou-Long', 'Jeff Long (athletic director)', 'Lennie Hayton', 'Marli Renfro', 'Charmion King', 'Imbolo Mbue', 'Virginia Christine', 'Sada Thompson', 'Jean Muir (actress)', 'Cierre Wood', 'Jan-Michael Gambill', 'Ryan Brasier', 'Mark Murphy (singer)', 'Jennifer Paz', 'Bobby Thomson', 'Jefferson Thomas', 'Mike Melvill', 'George Eacker', 'Jeff Beukeboom', 'Mindy Smith', 'Deitrick Haddon', 'Joe McGinniss', 'Ted Thompson', 'Roman Šebrle', 'Giorgi Papunashvili', 'André Le Nôtre', 'Roman Pavlyuchenko', 'Alice Torriani', 'Michael Goleniewski', 'James Tyrrell', 'John Atkinson Grimshaw', 'Celâl Bayar', 'Jan Zamoyski', 'Ki Fitzgerald', 'Witold Gombrowicz', 'Andreea Marin', 'Phil Vickery (rugby union)', 'Frank Middlemass', 'Andreas Ivanschitz', 'Tracy Somerset, Duchess of Beaufort', 'Elizabeth Inglis', 'Mihai Eminescu', 'Vujadin Savić', 'Gubby Allen', 'Bobo Baldé', 'Julian Jarrold', 'Vasily Chuikov', 'Henryk Wieniawski', 'Rory Byrne', 'Patoranking', 'Cobhams Asuquo', 'Diafra Sakho', 'Rosaline Elbay', 'Sofiane Feghouli', 'Danny Faure', 'Jorge Enríquez', 'Fuerza Guerrera', 'Sila María Calderón', 'Abdulqawi Yusuf', \"Ezechiel N'Douassel\", 'Tarik Elyounoussi', 'Deyverson', 'Muhammad Qutb', 'Fifi Cooper', 'José Cardozo', 'Lina Marulanda', 'Zeca Pagodinho', 'Blanca Errázuriz', 'Diosdado Cabello', 'Funke Abimbola', 'Jennifer Maia', 'María José (singer)', 'Will Voigt', 'Josh Mansour', 'Bhuma Nagi Reddy', 'Billy Snedden', 'Huang Xing', 'Chi Pu', 'Yuyan', 'Minako Honda', 'Tim Ferguson', 'Yuu Watase', 'Jennifer Sevilla', 'Hu Qili', 'Bhāskara I', 'Ramli Sarip', 'Antonio Leviste', 'Sam Michael', 'Robert Jennings (rugby league)', 'Hoshiar Singh Dahiya', 'Dewi Sartika', 'Chris John (boxer)', 'Rana Sanaullah', 'Thomas Jack', 'Jamie Cripps', 'Fumiko Kaneko', 'G. Venugopal', 'Pogo (musician)', 'Brianna Keilar', 'Kerwin Bell', 'Tom Coburn', 'Kari Matchett', 'Clancy Brown', 'Gary Woodland', 'Bif Naked', 'Michael Collins (astronaut)', 'Peter Gallagher', 'Melvin Van Peebles', 'Carol Dweck', 'Lisa Ling', 'Dana Ashbrook', 'Nikole Hannah-Jones', 'Don DeLillo', 'Charles B. McVay III', 'Stephen Miller (political advisor)', 'Shawn Ashmore', 'Paul Anka', 'Tacko Fall', 'Phife Dawg', 'Jose Canseco', 'Carrie Ann Inaba', 'Maurice Jones-Drew', 'Raúl Esparza', 'Tony Bellew', 'Daniel Bedingfield', 'Prince Carl Philip, Duke of Värmland', 'Chris Woakes', 'Aleksandar Kolarov', 'Thomas Piketty', 'Cicero', 'John Craven', 'A. K. Ramanujan', 'Riccardo Tisci', 'Daniel Ek', 'Jeremy Northam', 'Charley Boorman', 'Erich Hartmann', 'Timothy Evans', 'Levi Roots', 'Andriy Yarmolenko', 'Zubaira Tukhugov', 'Gretl Braun', 'Will Keane', 'Cheyenne Brando', 'Pratibha Patil', 'Walter Model', 'Belisarius', 'Bastian Schweinsteiger', 'Amr Diab', 'Danny Almonte', 'Lunay (singer)', 'Andry Rajoelina', 'Joseph Kony', 'Diego Godín', 'Ayman al-Zawahiri', 'Abraham Ancer', 'Vicente Guerrero', 'Asafa Powell', 'Kevin Anderson (tennis)', 'Luiz Inácio Lula da Silva', 'Vicente Carrillo Fuentes', 'Jackson Martínez', 'Sérgio Moraes', 'Adel Emam', 'Ian Khama', 'Mike Adenuga', 'Carlos Ghosn', 'Lupe Vélez', 'Cédric Bakambu', 'Guillermo Rigondeaux', 'Pablo Zabaleta', 'Vadhir Derbez', 'Lucas Boyé', 'Gulshan Kumar', 'Takuma Asano', 'Rosé (singer)', 'Jemima Goldsmith', 'Suthida', 'Uee', 'Mukesh (actor)', 'Samir Kochhar', 'Maya Yoshida', 'Gopi Sundar', 'Vance Joy', 'Pallavi Joshi', 'Julie Bishop', 'Vishal (actor)', 'Adnan Sami', 'Grant Bowler', 'Shoya Nakajima', 'Ziaur Rahman', 'Carlos P. Romulo', 'Arif Mohammad Khan', 'Fahadh Faasil', 'Terrence Romeo', 'Jo Koy', 'Rii Sen', 'Raghav Juyal', 'John Forbes Nash Jr.', 'Ezekiel Elliott', 'Rachel Bilson', 'Susan Sarandon', 'Liam Neeson', 'Rachel Weisz', 'Sage Stallone', 'Alfred Hitchcock', 'Bobby Fischer', 'Joey Jordison', 'Hayden Panettiere', 'Matthew Perry', 'Chris Cuomo', 'Amelia Earhart', 'Dr. Dre', 'Quincy Jones', 'Eric Winter', 'George Washington', 'Valerie Harper', 'James Franco', 'Katherine Ryan', 'Ralph Macchio', 'Rebecca Romijn', 'Richard Kuklinski', 'Aaron Burr', 'Rory Burns', 'Feroze Gandhi', 'Jean-Claude Van Damme', 'Daniil Medvedev', 'Coco Chanel', 'Henry VII of England', 'Jamie Dornan', 'Napoleon', 'Jeremy Corbyn', 'Radja Nainggolan', 'Winston Churchill', 'Ivan Perišić', 'Kevin De Bruyne', 'Gemma Arterton', 'Irina Shayk', 'Rafael Nadal', 'Heinrich Himmler', 'PewDiePie', 'Jacques Cousteau', 'Marcus Aurelius', 'George VI', 'Richard Burton', 'Salt Bae', 'Thierry Henry', 'Vladimir Lenin', 'Nelson Mandela', 'Ricky Martin', 'Trevor Noah', 'Cris Cyborg', 'Lionel Messi', 'Ilhan Omar', 'Dascha Polanco', 'Kaká', 'Fidel Castro', 'Bob Marley', 'Idi Amin', 'Djimon Hounsou', 'Stephanie Beatriz', 'Miguel Ángel Félix Gallardo', 'Shakira', 'Philippe Coutinho', 'Ronaldinho', 'Anderson Silva', 'Cleopatra', 'Michael Douglas', 'Franck Ribéry', 'Lali Espósito', 'Idris Elba', 'Carmelo Anthony', 'Griselda Blanco', 'Kaoru Kuroki', 'Isla Fisher', 'Radhika Apte', 'Manny Pacquiao', 'Vicky Kaushal', 'Karl Urban', 'RM (rapper)', 'Xi Jinping', 'Robert Whittaker (fighter)', 'Anurag Kashyap', 'Vijay (actor)', 'Kajal Aggarwal', 'Kiara Advani', 'Muhammad Ali Jinnah', 'Joel Edgerton', 'Damon Herriman', 'Rohit Sharma', '14th Dalai Lama', 'Ahn Jae-hyun', 'Lokesh Kanagaraj', 'Joji (musician)', 'Iggy Azalea', 'Jackie Shroff', 'Cha Eun-woo', 'Nick Kyrgios']\n"
     ]
    }
   ],
   "source": [
    "import re\n",
    "reg = \"Write me a bio of: \"\n",
    "\n",
    "list_of_ents_2 = []\n",
    "list_of_ents_1 = []\n",
    "with open(\"../FactScore/data/unlabeled/Alpaca-7B.jsonl\", \"r\") as f_in:\n",
    "    for line in f_in.readlines():\n",
    "        hi = json.loads(line)\n",
    "        list_of_ents_1.append(hi['topic'])\n",
    "\n",
    "with open(\"../datasets/bio_queries.jsonl\", \"r\") as f_in:\n",
    "    for line in f_in.readlines():\n",
    "        hi = json.loads(line)\n",
    "        topic = re.split(reg, hi['input'])[1]\n",
    "        # print(topic)\n",
    "        list_of_ents_2.append(topic)\n",
    "\n",
    "s = set(list_of_ents_2)\n",
    "temp3 = [x for x in list_of_ents_1 if x not in s]\n",
    "print(temp3)\n",
    "\n"
   ]
  },
  {
   "cell_type": "code",
   "execution_count": null,
   "metadata": {},
   "outputs": [],
   "source": [
    "li1 = [10, 15, 20, 25, 30, 35, 40]\n",
    "li2 = [25, 40, 35]\n",
    "\n",
    "s = set(li2)\n",
    "temp3 = [x for x in li1 if x not in s]\n",
    "print(temp3)\n"
   ]
  },
  {
   "cell_type": "markdown",
   "metadata": {},
   "source": [
    "# Llama2 results RAG and no-RAG \n",
    "## Anotated data"
   ]
  },
  {
   "cell_type": "code",
   "execution_count": 7,
   "metadata": {},
   "outputs": [
    {
     "name": "stdout",
     "output_type": "stream",
     "text": [
      "dict_keys(['input', 'output', 'topic', 'cat', 'prompt', 'ctxs'])\n",
      "  Jessie Mae Brown Beavers (1924-2019) was a pioneering African American educator, administrator, and civil rights activist from Kentucky. She was born in rural Breathitt County, Kentucky, to sharecropper parents and grew up during the Great Depression. Despite the challenges of poverty and racial discrimination, Beavers was determined to pursue her education and make a difference in her community.\n",
      "\n",
      "Beavers attended segregated schools throughout her childhood and adolescence, where she excelled academically and developed a passion for teaching. She went on to earn a bachelor's degree in education from Kentucky State University (then known as Kentucky State College) in 1946, becoming one of the first African Americans to graduate from the institution.\n",
      "\n",
      "After completing her degree, Beavers began her teaching career in the segregated schools of Breathitt County. Despite facing discrimination and limited resources, she worked tirelessly to provide her students with a high-quality education. In 1950, she became the first African American teacher to be hired by the Breathitt County School System.\n",
      "\n",
      "Beavers' commitment to education and civil rights did not stop at the classroom door. She was an active member of the Kentucky State Teachers Association and the NAACP, and she worked closely with local civil rights leaders to challenge segregation and discrimination in the community. In 1955, she played a key role in organizing the first African American voter registration drive in Breathitt County, which led to the election of several African American officials to local office.\n",
      "\n",
      "Beavers' contributions to education and civil rights were recognized at the state and national levels. In 1970, she was named Kentucky Teacher of the Year, and in 1972, she was awarded the National Education Association's (NEA) Award for Outstanding State Teacher of the Year. She was also a founding member of the Kentucky Education Association's (KEA) African American Caucus and served as the caucus's first chairperson.\n",
      "\n",
      "Beavers continued to work in education and civil rights throughout her life, serving as a mentor and role model for countless young people. She retired from teaching in 1984 but remained active in her community, advocating for social justice and equality. In 2014, she was recognized as a Kentucky Civil Rights Trailblazer by the Kentucky Civil Rights Heritage Center.\n",
      "\n",
      "Throughout her life, Beavers faced numerous challenges and obstacles, including poverty, discrimination, and illness. However, she never lost sight of her goals or her commitment to making a difference in her community. Her legacy as a pioneering educator and civil rights activist continues to inspire and motivate people to this day.\n",
      "\n",
      "Jessie Mae Brown Beavers passed away on September 10, 2019, at the age of 94. Her life and legacy serve as a testament to the power of determination, hard work, and a commitment to social justice.\n",
      "Jessie Mae Brown Beavers\n"
     ]
    }
   ],
   "source": [
    "import json\n",
    "\n",
    "lst = []\n",
    "with open(\"../results/bio/results_llama2Chat_bio_prompts_ctxs.jsonl\", \"r\") as f:\n",
    "    for line in f.readlines():\n",
    "        dct = json.loads(line)\n",
    "        lst.append(dct)\n",
    "        print(dct.keys())\n",
    "        print(dct['output'])\n",
    "        print(dct['topic'])\n",
    "        break\n",
    "        "
   ]
  },
  {
   "cell_type": "code",
   "execution_count": 3,
   "metadata": {},
   "outputs": [
    {
     "name": "stdout",
     "output_type": "stream",
     "text": [
      "500\n"
     ]
    }
   ],
   "source": [
    "print(len(lst))"
   ]
  },
  {
   "cell_type": "code",
   "execution_count": null,
   "metadata": {},
   "outputs": [],
   "source": [
    "lst = []\n",
    "with open(\"../results/results_llama2Chat_bio_prompts_ctxs.jsonl\", \"r\") as f:\n",
    "    for line in f.readlines():\n",
    "        dct = json.loads(line)\n",
    "        lst.append(dct)\n"
   ]
  }
 ],
 "metadata": {
  "kernelspec": {
   "display_name": "base",
   "language": "python",
   "name": "python3"
  },
  "language_info": {
   "codemirror_mode": {
    "name": "ipython",
    "version": 3
   },
   "file_extension": ".py",
   "mimetype": "text/x-python",
   "name": "python",
   "nbconvert_exporter": "python",
   "pygments_lexer": "ipython3",
   "version": "3.11.5"
  }
 },
 "nbformat": 4,
 "nbformat_minor": 2
}
